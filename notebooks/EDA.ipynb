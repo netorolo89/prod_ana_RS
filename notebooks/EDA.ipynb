{
 "cells": [
  {
   "cell_type": "code",
   "execution_count": 1,
   "metadata": {},
   "outputs": [],
   "source": [
    "import pandas as pd\n",
    "import calendar \n",
    "import plotly_express"
   ]
  },
  {
   "cell_type": "code",
   "execution_count": 2,
   "metadata": {},
   "outputs": [
    {
     "data": {
      "text/html": [
       "<div>\n",
       "<style scoped>\n",
       "    .dataframe tbody tr th:only-of-type {\n",
       "        vertical-align: middle;\n",
       "    }\n",
       "\n",
       "    .dataframe tbody tr th {\n",
       "        vertical-align: top;\n",
       "    }\n",
       "\n",
       "    .dataframe thead th {\n",
       "        text-align: right;\n",
       "    }\n",
       "</style>\n",
       "<table border=\"1\" class=\"dataframe\">\n",
       "  <thead>\n",
       "    <tr style=\"text-align: right;\">\n",
       "      <th></th>\n",
       "      <th>Fecha</th>\n",
       "      <th>Identificador</th>\n",
       "      <th>Nombre_del_pozo</th>\n",
       "      <th>Cuenca</th>\n",
       "      <th>Asignación_o_Contrato</th>\n",
       "      <th>Hidrocarburos_Liquidos_(Mbd)</th>\n",
       "      <th>Petróleo_(Mbd)</th>\n",
       "      <th>Condensado_(Mbd)</th>\n",
       "      <th>Gas_asociado_(MMpcd)</th>\n",
       "      <th>Gas_no_asociado_(MMpcd)</th>\n",
       "      <th>Agua_(Mbd)</th>\n",
       "    </tr>\n",
       "  </thead>\n",
       "  <tbody>\n",
       "    <tr>\n",
       "      <th>0</th>\n",
       "      <td>01/01/2016</td>\n",
       "      <td>1000016865</td>\n",
       "      <td>KU-10</td>\n",
       "      <td>CUENCAS DEL SURESTE</td>\n",
       "      <td>A-0183-4M - CAMPO KU</td>\n",
       "      <td>1.213199</td>\n",
       "      <td>1.213199</td>\n",
       "      <td>0.000000</td>\n",
       "      <td>2.265231</td>\n",
       "      <td>0.000000</td>\n",
       "      <td>0.008647</td>\n",
       "    </tr>\n",
       "    <tr>\n",
       "      <th>1</th>\n",
       "      <td>01/01/2016</td>\n",
       "      <td>1000016868</td>\n",
       "      <td>KU-1271</td>\n",
       "      <td>CUENCAS DEL SURESTE</td>\n",
       "      <td>A-0183-4M - CAMPO KU</td>\n",
       "      <td>5.134254</td>\n",
       "      <td>5.134254</td>\n",
       "      <td>0.000000</td>\n",
       "      <td>3.737536</td>\n",
       "      <td>0.000000</td>\n",
       "      <td>0.120498</td>\n",
       "    </tr>\n",
       "    <tr>\n",
       "      <th>2</th>\n",
       "      <td>01/01/2016</td>\n",
       "      <td>1000016876</td>\n",
       "      <td>KU-1282</td>\n",
       "      <td>CUENCAS DEL SURESTE</td>\n",
       "      <td>A-0183-4M - CAMPO KU</td>\n",
       "      <td>9.304707</td>\n",
       "      <td>9.304707</td>\n",
       "      <td>0.000000</td>\n",
       "      <td>5.375045</td>\n",
       "      <td>0.000000</td>\n",
       "      <td>0.002058</td>\n",
       "    </tr>\n",
       "    <tr>\n",
       "      <th>3</th>\n",
       "      <td>01/01/2016</td>\n",
       "      <td>1000016882</td>\n",
       "      <td>KU-128D</td>\n",
       "      <td>CUENCAS DEL SURESTE</td>\n",
       "      <td>A-0183-4M - CAMPO KU</td>\n",
       "      <td>2.521282</td>\n",
       "      <td>2.521282</td>\n",
       "      <td>0.000000</td>\n",
       "      <td>3.098904</td>\n",
       "      <td>0.000000</td>\n",
       "      <td>0.000000</td>\n",
       "    </tr>\n",
       "    <tr>\n",
       "      <th>4</th>\n",
       "      <td>01/01/2016</td>\n",
       "      <td>1000016909</td>\n",
       "      <td>KU-401</td>\n",
       "      <td>CUENCAS DEL SURESTE</td>\n",
       "      <td>A-0183-4M - CAMPO KU</td>\n",
       "      <td>1.029487</td>\n",
       "      <td>1.029487</td>\n",
       "      <td>0.000000</td>\n",
       "      <td>0.857156</td>\n",
       "      <td>0.000000</td>\n",
       "      <td>0.044870</td>\n",
       "    </tr>\n",
       "    <tr>\n",
       "      <th>...</th>\n",
       "      <td>...</td>\n",
       "      <td>...</td>\n",
       "      <td>...</td>\n",
       "      <td>...</td>\n",
       "      <td>...</td>\n",
       "      <td>...</td>\n",
       "      <td>...</td>\n",
       "      <td>...</td>\n",
       "      <td>...</td>\n",
       "      <td>...</td>\n",
       "      <td>...</td>\n",
       "    </tr>\n",
       "    <tr>\n",
       "      <th>156734</th>\n",
       "      <td>01/01/2024</td>\n",
       "      <td>1000015867</td>\n",
       "      <td>ITTA-87DES</td>\n",
       "      <td>CUENCAS DEL SURESTE</td>\n",
       "      <td>AE-0151-M - UCHUKIL</td>\n",
       "      <td>2.184148</td>\n",
       "      <td>2.184148</td>\n",
       "      <td>0.000000</td>\n",
       "      <td>2.060692</td>\n",
       "      <td>0.000000</td>\n",
       "      <td>0.010326</td>\n",
       "    </tr>\n",
       "    <tr>\n",
       "      <th>156735</th>\n",
       "      <td>01/01/2024</td>\n",
       "      <td>1000015810</td>\n",
       "      <td>IRIS-3</td>\n",
       "      <td>CUENCAS DEL SURESTE</td>\n",
       "      <td>A-0144-2M - CAMPO GIRALDAS</td>\n",
       "      <td>0.257199</td>\n",
       "      <td>0.000000</td>\n",
       "      <td>0.257199</td>\n",
       "      <td>0.000000</td>\n",
       "      <td>0.267431</td>\n",
       "      <td>0.048516</td>\n",
       "    </tr>\n",
       "    <tr>\n",
       "      <th>156736</th>\n",
       "      <td>01/01/2024</td>\n",
       "      <td>1000015779</td>\n",
       "      <td>ÍRIDE-3124</td>\n",
       "      <td>CUENCAS DEL SURESTE</td>\n",
       "      <td>A-0159-2M - CAMPO IRIDE</td>\n",
       "      <td>0.148307</td>\n",
       "      <td>0.148307</td>\n",
       "      <td>0.000000</td>\n",
       "      <td>0.641925</td>\n",
       "      <td>0.000000</td>\n",
       "      <td>0.657624</td>\n",
       "    </tr>\n",
       "    <tr>\n",
       "      <th>156737</th>\n",
       "      <td>01/01/2024</td>\n",
       "      <td>1000015766</td>\n",
       "      <td>ÍRIDE-166</td>\n",
       "      <td>CUENCAS DEL SURESTE</td>\n",
       "      <td>A-0159-2M - CAMPO IRIDE</td>\n",
       "      <td>0.045028</td>\n",
       "      <td>0.045028</td>\n",
       "      <td>0.000000</td>\n",
       "      <td>1.864327</td>\n",
       "      <td>0.000000</td>\n",
       "      <td>0.014691</td>\n",
       "    </tr>\n",
       "    <tr>\n",
       "      <th>156738</th>\n",
       "      <td>01/01/2024</td>\n",
       "      <td>1000015754</td>\n",
       "      <td>ÍRIDE-148</td>\n",
       "      <td>CUENCAS DEL SURESTE</td>\n",
       "      <td>A-0159-2M - CAMPO IRIDE</td>\n",
       "      <td>0.060736</td>\n",
       "      <td>0.060736</td>\n",
       "      <td>0.000000</td>\n",
       "      <td>0.426793</td>\n",
       "      <td>0.000000</td>\n",
       "      <td>0.042065</td>\n",
       "    </tr>\n",
       "  </tbody>\n",
       "</table>\n",
       "<p>156739 rows × 11 columns</p>\n",
       "</div>"
      ],
      "text/plain": [
       "             Fecha  Identificador Nombre_del_pozo               Cuenca  \\\n",
       "0       01/01/2016     1000016865           KU-10  CUENCAS DEL SURESTE   \n",
       "1       01/01/2016     1000016868         KU-1271  CUENCAS DEL SURESTE   \n",
       "2       01/01/2016     1000016876         KU-1282  CUENCAS DEL SURESTE   \n",
       "3       01/01/2016     1000016882         KU-128D  CUENCAS DEL SURESTE   \n",
       "4       01/01/2016     1000016909          KU-401  CUENCAS DEL SURESTE   \n",
       "...            ...            ...             ...                  ...   \n",
       "156734  01/01/2024     1000015867      ITTA-87DES  CUENCAS DEL SURESTE   \n",
       "156735  01/01/2024     1000015810          IRIS-3  CUENCAS DEL SURESTE   \n",
       "156736  01/01/2024     1000015779      ÍRIDE-3124  CUENCAS DEL SURESTE   \n",
       "156737  01/01/2024     1000015766       ÍRIDE-166  CUENCAS DEL SURESTE   \n",
       "156738  01/01/2024     1000015754       ÍRIDE-148  CUENCAS DEL SURESTE   \n",
       "\n",
       "             Asignación_o_Contrato  Hidrocarburos_Liquidos_(Mbd)  \\\n",
       "0             A-0183-4M - CAMPO KU                      1.213199   \n",
       "1             A-0183-4M - CAMPO KU                      5.134254   \n",
       "2             A-0183-4M - CAMPO KU                      9.304707   \n",
       "3             A-0183-4M - CAMPO KU                      2.521282   \n",
       "4             A-0183-4M - CAMPO KU                      1.029487   \n",
       "...                            ...                           ...   \n",
       "156734         AE-0151-M - UCHUKIL                      2.184148   \n",
       "156735  A-0144-2M - CAMPO GIRALDAS                      0.257199   \n",
       "156736     A-0159-2M - CAMPO IRIDE                      0.148307   \n",
       "156737     A-0159-2M - CAMPO IRIDE                      0.045028   \n",
       "156738     A-0159-2M - CAMPO IRIDE                      0.060736   \n",
       "\n",
       "        Petróleo_(Mbd)  Condensado_(Mbd)  Gas_asociado_(MMpcd)  \\\n",
       "0             1.213199          0.000000              2.265231   \n",
       "1             5.134254          0.000000              3.737536   \n",
       "2             9.304707          0.000000              5.375045   \n",
       "3             2.521282          0.000000              3.098904   \n",
       "4             1.029487          0.000000              0.857156   \n",
       "...                ...               ...                   ...   \n",
       "156734        2.184148          0.000000              2.060692   \n",
       "156735        0.000000          0.257199              0.000000   \n",
       "156736        0.148307          0.000000              0.641925   \n",
       "156737        0.045028          0.000000              1.864327   \n",
       "156738        0.060736          0.000000              0.426793   \n",
       "\n",
       "        Gas_no_asociado_(MMpcd)  Agua_(Mbd)  \n",
       "0                      0.000000    0.008647  \n",
       "1                      0.000000    0.120498  \n",
       "2                      0.000000    0.002058  \n",
       "3                      0.000000    0.000000  \n",
       "4                      0.000000    0.044870  \n",
       "...                         ...         ...  \n",
       "156734                 0.000000    0.010326  \n",
       "156735                 0.267431    0.048516  \n",
       "156736                 0.000000    0.657624  \n",
       "156737                 0.000000    0.014691  \n",
       "156738                 0.000000    0.042065  \n",
       "\n",
       "[156739 rows x 11 columns]"
      ]
     },
     "execution_count": 2,
     "metadata": {},
     "output_type": "execute_result"
    }
   ],
   "source": [
    "prod=pd.read_csv(r'C:\\Users\\rodri\\OneDrive\\Desktop\\TripleTen\\Sprint5\\Proyecto\\prod_ana_RS\\CUENCAS SURESTE - Asignaciones.csv', encoding='latin-1')\n",
    "prod #Este data set contiene la producción de hidrocarburos de las asignaciones petroleras. La Comisión Nacional de Hidrocarburos crea la distribución\n",
    "#de asignaciones a partir de 2015, es por eso que la información se presenta a partir de enero de 2016. En la columna Fecha, se refiere al mes en cuestión\n",
    "# ya que los datos presentados de hidrocarburos se refieren al promedio diario mensual de cada asignación. "
   ]
  },
  {
   "cell_type": "code",
   "execution_count": 3,
   "metadata": {},
   "outputs": [],
   "source": [
    "prod.drop(['Identificador','Cuenca','Hidrocarburos_Liquidos_(Mbd)','Condensado_(Mbd)','Gas_no_asociado_(MMpcd)'],axis=1,inplace=True)\n",
    "#eliminamos columnas no necesarias para el análisis que se va a realizar."
   ]
  },
  {
   "cell_type": "code",
   "execution_count": 4,
   "metadata": {},
   "outputs": [
    {
     "name": "stdout",
     "output_type": "stream",
     "text": [
      "<class 'pandas.core.frame.DataFrame'>\n",
      "RangeIndex: 156739 entries, 0 to 156738\n",
      "Data columns (total 6 columns):\n",
      " #   Column                 Non-Null Count   Dtype  \n",
      "---  ------                 --------------   -----  \n",
      " 0   Fecha                  156739 non-null  object \n",
      " 1   Nombre_del_pozo        156739 non-null  object \n",
      " 2   Asignación_o_Contrato  156739 non-null  object \n",
      " 3   Petróleo_(Mbd)         156739 non-null  float64\n",
      " 4   Gas_asociado_(MMpcd)   156739 non-null  float64\n",
      " 5   Agua_(Mbd)             156739 non-null  float64\n",
      "dtypes: float64(3), object(3)\n",
      "memory usage: 7.2+ MB\n"
     ]
    }
   ],
   "source": [
    "prod.info()\n",
    "#Las unidades de las columnas float se refieren a Mbd - miles de barriles diarios y MMpcd - millones de pies cubicos diarios"
   ]
  },
  {
   "cell_type": "code",
   "execution_count": 5,
   "metadata": {},
   "outputs": [
    {
     "name": "stdout",
     "output_type": "stream",
     "text": [
      "<class 'pandas.core.frame.DataFrame'>\n",
      "RangeIndex: 156739 entries, 0 to 156738\n",
      "Data columns (total 6 columns):\n",
      " #   Column                 Non-Null Count   Dtype         \n",
      "---  ------                 --------------   -----         \n",
      " 0   Fecha                  156739 non-null  datetime64[ns]\n",
      " 1   Nombre_del_pozo        156739 non-null  object        \n",
      " 2   Asignación_o_Contrato  156739 non-null  object        \n",
      " 3   Petróleo_(Mbd)         156739 non-null  float64       \n",
      " 4   Gas_asociado_(MMpcd)   156739 non-null  float64       \n",
      " 5   Agua_(Mbd)             156739 non-null  float64       \n",
      "dtypes: datetime64[ns](1), float64(3), object(2)\n",
      "memory usage: 7.2+ MB\n"
     ]
    }
   ],
   "source": [
    "prod['Fecha']=pd.to_datetime(prod['Fecha'],format='%d/%m/%Y')\n",
    "prod.info() #cambiamos la columna a datetime, debido a los datos que necesitamos para realizar cálculos."
   ]
  },
  {
   "cell_type": "code",
   "execution_count": 6,
   "metadata": {},
   "outputs": [
    {
     "data": {
      "text/html": [
       "<div>\n",
       "<style scoped>\n",
       "    .dataframe tbody tr th:only-of-type {\n",
       "        vertical-align: middle;\n",
       "    }\n",
       "\n",
       "    .dataframe tbody tr th {\n",
       "        vertical-align: top;\n",
       "    }\n",
       "\n",
       "    .dataframe thead th {\n",
       "        text-align: right;\n",
       "    }\n",
       "</style>\n",
       "<table border=\"1\" class=\"dataframe\">\n",
       "  <thead>\n",
       "    <tr style=\"text-align: right;\">\n",
       "      <th></th>\n",
       "      <th>Fecha</th>\n",
       "      <th>Nombre_del_pozo</th>\n",
       "      <th>Asignación_o_Contrato</th>\n",
       "      <th>Petróleo_(Mbd)</th>\n",
       "      <th>Gas_asociado_(MMpcd)</th>\n",
       "      <th>Agua_(Mbd)</th>\n",
       "      <th>Año</th>\n",
       "      <th>Mes</th>\n",
       "    </tr>\n",
       "  </thead>\n",
       "  <tbody>\n",
       "    <tr>\n",
       "      <th>0</th>\n",
       "      <td>2016-01-01</td>\n",
       "      <td>KU-10</td>\n",
       "      <td>A-0183-4M - CAMPO KU</td>\n",
       "      <td>1.213199</td>\n",
       "      <td>2.265231</td>\n",
       "      <td>0.008647</td>\n",
       "      <td>2016</td>\n",
       "      <td>1</td>\n",
       "    </tr>\n",
       "    <tr>\n",
       "      <th>1</th>\n",
       "      <td>2016-01-01</td>\n",
       "      <td>KU-1271</td>\n",
       "      <td>A-0183-4M - CAMPO KU</td>\n",
       "      <td>5.134254</td>\n",
       "      <td>3.737536</td>\n",
       "      <td>0.120498</td>\n",
       "      <td>2016</td>\n",
       "      <td>1</td>\n",
       "    </tr>\n",
       "    <tr>\n",
       "      <th>2</th>\n",
       "      <td>2016-01-01</td>\n",
       "      <td>KU-1282</td>\n",
       "      <td>A-0183-4M - CAMPO KU</td>\n",
       "      <td>9.304707</td>\n",
       "      <td>5.375045</td>\n",
       "      <td>0.002058</td>\n",
       "      <td>2016</td>\n",
       "      <td>1</td>\n",
       "    </tr>\n",
       "    <tr>\n",
       "      <th>3</th>\n",
       "      <td>2016-01-01</td>\n",
       "      <td>KU-128D</td>\n",
       "      <td>A-0183-4M - CAMPO KU</td>\n",
       "      <td>2.521282</td>\n",
       "      <td>3.098904</td>\n",
       "      <td>0.000000</td>\n",
       "      <td>2016</td>\n",
       "      <td>1</td>\n",
       "    </tr>\n",
       "    <tr>\n",
       "      <th>4</th>\n",
       "      <td>2016-01-01</td>\n",
       "      <td>KU-401</td>\n",
       "      <td>A-0183-4M - CAMPO KU</td>\n",
       "      <td>1.029487</td>\n",
       "      <td>0.857156</td>\n",
       "      <td>0.044870</td>\n",
       "      <td>2016</td>\n",
       "      <td>1</td>\n",
       "    </tr>\n",
       "    <tr>\n",
       "      <th>...</th>\n",
       "      <td>...</td>\n",
       "      <td>...</td>\n",
       "      <td>...</td>\n",
       "      <td>...</td>\n",
       "      <td>...</td>\n",
       "      <td>...</td>\n",
       "      <td>...</td>\n",
       "      <td>...</td>\n",
       "    </tr>\n",
       "    <tr>\n",
       "      <th>156734</th>\n",
       "      <td>2024-01-01</td>\n",
       "      <td>ITTA-87DES</td>\n",
       "      <td>AE-0151-M - UCHUKIL</td>\n",
       "      <td>2.184148</td>\n",
       "      <td>2.060692</td>\n",
       "      <td>0.010326</td>\n",
       "      <td>2024</td>\n",
       "      <td>1</td>\n",
       "    </tr>\n",
       "    <tr>\n",
       "      <th>156735</th>\n",
       "      <td>2024-01-01</td>\n",
       "      <td>IRIS-3</td>\n",
       "      <td>A-0144-2M - CAMPO GIRALDAS</td>\n",
       "      <td>0.000000</td>\n",
       "      <td>0.000000</td>\n",
       "      <td>0.048516</td>\n",
       "      <td>2024</td>\n",
       "      <td>1</td>\n",
       "    </tr>\n",
       "    <tr>\n",
       "      <th>156736</th>\n",
       "      <td>2024-01-01</td>\n",
       "      <td>ÍRIDE-3124</td>\n",
       "      <td>A-0159-2M - CAMPO IRIDE</td>\n",
       "      <td>0.148307</td>\n",
       "      <td>0.641925</td>\n",
       "      <td>0.657624</td>\n",
       "      <td>2024</td>\n",
       "      <td>1</td>\n",
       "    </tr>\n",
       "    <tr>\n",
       "      <th>156737</th>\n",
       "      <td>2024-01-01</td>\n",
       "      <td>ÍRIDE-166</td>\n",
       "      <td>A-0159-2M - CAMPO IRIDE</td>\n",
       "      <td>0.045028</td>\n",
       "      <td>1.864327</td>\n",
       "      <td>0.014691</td>\n",
       "      <td>2024</td>\n",
       "      <td>1</td>\n",
       "    </tr>\n",
       "    <tr>\n",
       "      <th>156738</th>\n",
       "      <td>2024-01-01</td>\n",
       "      <td>ÍRIDE-148</td>\n",
       "      <td>A-0159-2M - CAMPO IRIDE</td>\n",
       "      <td>0.060736</td>\n",
       "      <td>0.426793</td>\n",
       "      <td>0.042065</td>\n",
       "      <td>2024</td>\n",
       "      <td>1</td>\n",
       "    </tr>\n",
       "  </tbody>\n",
       "</table>\n",
       "<p>156739 rows × 8 columns</p>\n",
       "</div>"
      ],
      "text/plain": [
       "            Fecha Nombre_del_pozo       Asignación_o_Contrato  Petróleo_(Mbd)  \\\n",
       "0      2016-01-01           KU-10        A-0183-4M - CAMPO KU        1.213199   \n",
       "1      2016-01-01         KU-1271        A-0183-4M - CAMPO KU        5.134254   \n",
       "2      2016-01-01         KU-1282        A-0183-4M - CAMPO KU        9.304707   \n",
       "3      2016-01-01         KU-128D        A-0183-4M - CAMPO KU        2.521282   \n",
       "4      2016-01-01          KU-401        A-0183-4M - CAMPO KU        1.029487   \n",
       "...           ...             ...                         ...             ...   \n",
       "156734 2024-01-01      ITTA-87DES         AE-0151-M - UCHUKIL        2.184148   \n",
       "156735 2024-01-01          IRIS-3  A-0144-2M - CAMPO GIRALDAS        0.000000   \n",
       "156736 2024-01-01      ÍRIDE-3124     A-0159-2M - CAMPO IRIDE        0.148307   \n",
       "156737 2024-01-01       ÍRIDE-166     A-0159-2M - CAMPO IRIDE        0.045028   \n",
       "156738 2024-01-01       ÍRIDE-148     A-0159-2M - CAMPO IRIDE        0.060736   \n",
       "\n",
       "        Gas_asociado_(MMpcd)  Agua_(Mbd)   Año  Mes  \n",
       "0                   2.265231    0.008647  2016    1  \n",
       "1                   3.737536    0.120498  2016    1  \n",
       "2                   5.375045    0.002058  2016    1  \n",
       "3                   3.098904    0.000000  2016    1  \n",
       "4                   0.857156    0.044870  2016    1  \n",
       "...                      ...         ...   ...  ...  \n",
       "156734              2.060692    0.010326  2024    1  \n",
       "156735              0.000000    0.048516  2024    1  \n",
       "156736              0.641925    0.657624  2024    1  \n",
       "156737              1.864327    0.014691  2024    1  \n",
       "156738              0.426793    0.042065  2024    1  \n",
       "\n",
       "[156739 rows x 8 columns]"
      ]
     },
     "execution_count": 6,
     "metadata": {},
     "output_type": "execute_result"
    }
   ],
   "source": [
    "prod['Año']=prod['Fecha'].dt.year #obtenemos año y mes de cada columna \n",
    "prod['Mes']=prod['Fecha'].dt.month\n",
    "prod"
   ]
  },
  {
   "cell_type": "code",
   "execution_count": 7,
   "metadata": {},
   "outputs": [],
   "source": [
    "def get_days(row): #definimos la función para obtener los días de cada mes\n",
    "    año=row['Año']\n",
    "    mes=row['Mes']\n",
    "    return calendar.monthrange(año,mes)[1]"
   ]
  },
  {
   "cell_type": "code",
   "execution_count": 8,
   "metadata": {},
   "outputs": [
    {
     "data": {
      "text/html": [
       "<div>\n",
       "<style scoped>\n",
       "    .dataframe tbody tr th:only-of-type {\n",
       "        vertical-align: middle;\n",
       "    }\n",
       "\n",
       "    .dataframe tbody tr th {\n",
       "        vertical-align: top;\n",
       "    }\n",
       "\n",
       "    .dataframe thead th {\n",
       "        text-align: right;\n",
       "    }\n",
       "</style>\n",
       "<table border=\"1\" class=\"dataframe\">\n",
       "  <thead>\n",
       "    <tr style=\"text-align: right;\">\n",
       "      <th></th>\n",
       "      <th>Fecha</th>\n",
       "      <th>Nombre_del_pozo</th>\n",
       "      <th>Asignación_o_Contrato</th>\n",
       "      <th>Petróleo_(Mbd)</th>\n",
       "      <th>Gas_asociado_(MMpcd)</th>\n",
       "      <th>Agua_(Mbd)</th>\n",
       "      <th>Año</th>\n",
       "      <th>Mes</th>\n",
       "      <th>Días por mes</th>\n",
       "    </tr>\n",
       "  </thead>\n",
       "  <tbody>\n",
       "    <tr>\n",
       "      <th>0</th>\n",
       "      <td>2016-01-01</td>\n",
       "      <td>KU-10</td>\n",
       "      <td>A-0183-4M - CAMPO KU</td>\n",
       "      <td>1.213199</td>\n",
       "      <td>2.265231</td>\n",
       "      <td>0.008647</td>\n",
       "      <td>2016</td>\n",
       "      <td>1</td>\n",
       "      <td>31</td>\n",
       "    </tr>\n",
       "    <tr>\n",
       "      <th>1</th>\n",
       "      <td>2016-01-01</td>\n",
       "      <td>KU-1271</td>\n",
       "      <td>A-0183-4M - CAMPO KU</td>\n",
       "      <td>5.134254</td>\n",
       "      <td>3.737536</td>\n",
       "      <td>0.120498</td>\n",
       "      <td>2016</td>\n",
       "      <td>1</td>\n",
       "      <td>31</td>\n",
       "    </tr>\n",
       "    <tr>\n",
       "      <th>2</th>\n",
       "      <td>2016-01-01</td>\n",
       "      <td>KU-1282</td>\n",
       "      <td>A-0183-4M - CAMPO KU</td>\n",
       "      <td>9.304707</td>\n",
       "      <td>5.375045</td>\n",
       "      <td>0.002058</td>\n",
       "      <td>2016</td>\n",
       "      <td>1</td>\n",
       "      <td>31</td>\n",
       "    </tr>\n",
       "    <tr>\n",
       "      <th>3</th>\n",
       "      <td>2016-01-01</td>\n",
       "      <td>KU-128D</td>\n",
       "      <td>A-0183-4M - CAMPO KU</td>\n",
       "      <td>2.521282</td>\n",
       "      <td>3.098904</td>\n",
       "      <td>0.000000</td>\n",
       "      <td>2016</td>\n",
       "      <td>1</td>\n",
       "      <td>31</td>\n",
       "    </tr>\n",
       "    <tr>\n",
       "      <th>4</th>\n",
       "      <td>2016-01-01</td>\n",
       "      <td>KU-401</td>\n",
       "      <td>A-0183-4M - CAMPO KU</td>\n",
       "      <td>1.029487</td>\n",
       "      <td>0.857156</td>\n",
       "      <td>0.044870</td>\n",
       "      <td>2016</td>\n",
       "      <td>1</td>\n",
       "      <td>31</td>\n",
       "    </tr>\n",
       "    <tr>\n",
       "      <th>...</th>\n",
       "      <td>...</td>\n",
       "      <td>...</td>\n",
       "      <td>...</td>\n",
       "      <td>...</td>\n",
       "      <td>...</td>\n",
       "      <td>...</td>\n",
       "      <td>...</td>\n",
       "      <td>...</td>\n",
       "      <td>...</td>\n",
       "    </tr>\n",
       "    <tr>\n",
       "      <th>156734</th>\n",
       "      <td>2024-01-01</td>\n",
       "      <td>ITTA-87DES</td>\n",
       "      <td>AE-0151-M - UCHUKIL</td>\n",
       "      <td>2.184148</td>\n",
       "      <td>2.060692</td>\n",
       "      <td>0.010326</td>\n",
       "      <td>2024</td>\n",
       "      <td>1</td>\n",
       "      <td>31</td>\n",
       "    </tr>\n",
       "    <tr>\n",
       "      <th>156735</th>\n",
       "      <td>2024-01-01</td>\n",
       "      <td>IRIS-3</td>\n",
       "      <td>A-0144-2M - CAMPO GIRALDAS</td>\n",
       "      <td>0.000000</td>\n",
       "      <td>0.000000</td>\n",
       "      <td>0.048516</td>\n",
       "      <td>2024</td>\n",
       "      <td>1</td>\n",
       "      <td>31</td>\n",
       "    </tr>\n",
       "    <tr>\n",
       "      <th>156736</th>\n",
       "      <td>2024-01-01</td>\n",
       "      <td>ÍRIDE-3124</td>\n",
       "      <td>A-0159-2M - CAMPO IRIDE</td>\n",
       "      <td>0.148307</td>\n",
       "      <td>0.641925</td>\n",
       "      <td>0.657624</td>\n",
       "      <td>2024</td>\n",
       "      <td>1</td>\n",
       "      <td>31</td>\n",
       "    </tr>\n",
       "    <tr>\n",
       "      <th>156737</th>\n",
       "      <td>2024-01-01</td>\n",
       "      <td>ÍRIDE-166</td>\n",
       "      <td>A-0159-2M - CAMPO IRIDE</td>\n",
       "      <td>0.045028</td>\n",
       "      <td>1.864327</td>\n",
       "      <td>0.014691</td>\n",
       "      <td>2024</td>\n",
       "      <td>1</td>\n",
       "      <td>31</td>\n",
       "    </tr>\n",
       "    <tr>\n",
       "      <th>156738</th>\n",
       "      <td>2024-01-01</td>\n",
       "      <td>ÍRIDE-148</td>\n",
       "      <td>A-0159-2M - CAMPO IRIDE</td>\n",
       "      <td>0.060736</td>\n",
       "      <td>0.426793</td>\n",
       "      <td>0.042065</td>\n",
       "      <td>2024</td>\n",
       "      <td>1</td>\n",
       "      <td>31</td>\n",
       "    </tr>\n",
       "  </tbody>\n",
       "</table>\n",
       "<p>156739 rows × 9 columns</p>\n",
       "</div>"
      ],
      "text/plain": [
       "            Fecha Nombre_del_pozo       Asignación_o_Contrato  Petróleo_(Mbd)  \\\n",
       "0      2016-01-01           KU-10        A-0183-4M - CAMPO KU        1.213199   \n",
       "1      2016-01-01         KU-1271        A-0183-4M - CAMPO KU        5.134254   \n",
       "2      2016-01-01         KU-1282        A-0183-4M - CAMPO KU        9.304707   \n",
       "3      2016-01-01         KU-128D        A-0183-4M - CAMPO KU        2.521282   \n",
       "4      2016-01-01          KU-401        A-0183-4M - CAMPO KU        1.029487   \n",
       "...           ...             ...                         ...             ...   \n",
       "156734 2024-01-01      ITTA-87DES         AE-0151-M - UCHUKIL        2.184148   \n",
       "156735 2024-01-01          IRIS-3  A-0144-2M - CAMPO GIRALDAS        0.000000   \n",
       "156736 2024-01-01      ÍRIDE-3124     A-0159-2M - CAMPO IRIDE        0.148307   \n",
       "156737 2024-01-01       ÍRIDE-166     A-0159-2M - CAMPO IRIDE        0.045028   \n",
       "156738 2024-01-01       ÍRIDE-148     A-0159-2M - CAMPO IRIDE        0.060736   \n",
       "\n",
       "        Gas_asociado_(MMpcd)  Agua_(Mbd)   Año  Mes  Días por mes  \n",
       "0                   2.265231    0.008647  2016    1            31  \n",
       "1                   3.737536    0.120498  2016    1            31  \n",
       "2                   5.375045    0.002058  2016    1            31  \n",
       "3                   3.098904    0.000000  2016    1            31  \n",
       "4                   0.857156    0.044870  2016    1            31  \n",
       "...                      ...         ...   ...  ...           ...  \n",
       "156734              2.060692    0.010326  2024    1            31  \n",
       "156735              0.000000    0.048516  2024    1            31  \n",
       "156736              0.641925    0.657624  2024    1            31  \n",
       "156737              1.864327    0.014691  2024    1            31  \n",
       "156738              0.426793    0.042065  2024    1            31  \n",
       "\n",
       "[156739 rows x 9 columns]"
      ]
     },
     "execution_count": 8,
     "metadata": {},
     "output_type": "execute_result"
    }
   ],
   "source": [
    "prod['Días por mes']=prod.apply(get_days,axis=1) #obtenemos los días de cada mes\n",
    "prod "
   ]
  },
  {
   "cell_type": "code",
   "execution_count": 9,
   "metadata": {},
   "outputs": [
    {
     "data": {
      "text/html": [
       "<div>\n",
       "<style scoped>\n",
       "    .dataframe tbody tr th:only-of-type {\n",
       "        vertical-align: middle;\n",
       "    }\n",
       "\n",
       "    .dataframe tbody tr th {\n",
       "        vertical-align: top;\n",
       "    }\n",
       "\n",
       "    .dataframe thead th {\n",
       "        text-align: right;\n",
       "    }\n",
       "</style>\n",
       "<table border=\"1\" class=\"dataframe\">\n",
       "  <thead>\n",
       "    <tr style=\"text-align: right;\">\n",
       "      <th></th>\n",
       "      <th>Fecha</th>\n",
       "      <th>Nombre_del_pozo</th>\n",
       "      <th>Asignación_o_Contrato</th>\n",
       "      <th>Petróleo_(Mbd)</th>\n",
       "      <th>Gas_asociado_(MMpcd)</th>\n",
       "      <th>Agua_(Mbd)</th>\n",
       "      <th>Año</th>\n",
       "      <th>Mes</th>\n",
       "      <th>Días por mes</th>\n",
       "      <th>Np (MMb)</th>\n",
       "      <th>Gp (MMMpc)</th>\n",
       "      <th>Fw (%)</th>\n",
       "    </tr>\n",
       "  </thead>\n",
       "  <tbody>\n",
       "    <tr>\n",
       "      <th>0</th>\n",
       "      <td>2016-01-01</td>\n",
       "      <td>KU-10</td>\n",
       "      <td>A-0183-4M - CAMPO KU</td>\n",
       "      <td>1.213199</td>\n",
       "      <td>2.265231</td>\n",
       "      <td>0.008647</td>\n",
       "      <td>2016</td>\n",
       "      <td>1</td>\n",
       "      <td>31</td>\n",
       "      <td>0.037609</td>\n",
       "      <td>0.033265</td>\n",
       "      <td>0.007077</td>\n",
       "    </tr>\n",
       "    <tr>\n",
       "      <th>1</th>\n",
       "      <td>2016-01-01</td>\n",
       "      <td>KU-1271</td>\n",
       "      <td>A-0183-4M - CAMPO KU</td>\n",
       "      <td>5.134254</td>\n",
       "      <td>3.737536</td>\n",
       "      <td>0.120498</td>\n",
       "      <td>2016</td>\n",
       "      <td>1</td>\n",
       "      <td>31</td>\n",
       "      <td>0.159162</td>\n",
       "      <td>0.034738</td>\n",
       "      <td>0.022931</td>\n",
       "    </tr>\n",
       "    <tr>\n",
       "      <th>2</th>\n",
       "      <td>2016-01-01</td>\n",
       "      <td>KU-1282</td>\n",
       "      <td>A-0183-4M - CAMPO KU</td>\n",
       "      <td>9.304707</td>\n",
       "      <td>5.375045</td>\n",
       "      <td>0.002058</td>\n",
       "      <td>2016</td>\n",
       "      <td>1</td>\n",
       "      <td>31</td>\n",
       "      <td>0.288446</td>\n",
       "      <td>0.036375</td>\n",
       "      <td>0.000221</td>\n",
       "    </tr>\n",
       "    <tr>\n",
       "      <th>3</th>\n",
       "      <td>2016-01-01</td>\n",
       "      <td>KU-128D</td>\n",
       "      <td>A-0183-4M - CAMPO KU</td>\n",
       "      <td>2.521282</td>\n",
       "      <td>3.098904</td>\n",
       "      <td>0.000000</td>\n",
       "      <td>2016</td>\n",
       "      <td>1</td>\n",
       "      <td>31</td>\n",
       "      <td>0.078160</td>\n",
       "      <td>0.034099</td>\n",
       "      <td>0.000000</td>\n",
       "    </tr>\n",
       "    <tr>\n",
       "      <th>4</th>\n",
       "      <td>2016-01-01</td>\n",
       "      <td>KU-401</td>\n",
       "      <td>A-0183-4M - CAMPO KU</td>\n",
       "      <td>1.029487</td>\n",
       "      <td>0.857156</td>\n",
       "      <td>0.044870</td>\n",
       "      <td>2016</td>\n",
       "      <td>1</td>\n",
       "      <td>31</td>\n",
       "      <td>0.031914</td>\n",
       "      <td>0.031857</td>\n",
       "      <td>0.041765</td>\n",
       "    </tr>\n",
       "    <tr>\n",
       "      <th>...</th>\n",
       "      <td>...</td>\n",
       "      <td>...</td>\n",
       "      <td>...</td>\n",
       "      <td>...</td>\n",
       "      <td>...</td>\n",
       "      <td>...</td>\n",
       "      <td>...</td>\n",
       "      <td>...</td>\n",
       "      <td>...</td>\n",
       "      <td>...</td>\n",
       "      <td>...</td>\n",
       "      <td>...</td>\n",
       "    </tr>\n",
       "    <tr>\n",
       "      <th>156734</th>\n",
       "      <td>2024-01-01</td>\n",
       "      <td>ITTA-87DES</td>\n",
       "      <td>AE-0151-M - UCHUKIL</td>\n",
       "      <td>2.184148</td>\n",
       "      <td>2.060692</td>\n",
       "      <td>0.010326</td>\n",
       "      <td>2024</td>\n",
       "      <td>1</td>\n",
       "      <td>31</td>\n",
       "      <td>0.067709</td>\n",
       "      <td>0.033061</td>\n",
       "      <td>0.004705</td>\n",
       "    </tr>\n",
       "    <tr>\n",
       "      <th>156735</th>\n",
       "      <td>2024-01-01</td>\n",
       "      <td>IRIS-3</td>\n",
       "      <td>A-0144-2M - CAMPO GIRALDAS</td>\n",
       "      <td>0.000000</td>\n",
       "      <td>0.000000</td>\n",
       "      <td>0.048516</td>\n",
       "      <td>2024</td>\n",
       "      <td>1</td>\n",
       "      <td>31</td>\n",
       "      <td>0.000000</td>\n",
       "      <td>0.031000</td>\n",
       "      <td>1.000000</td>\n",
       "    </tr>\n",
       "    <tr>\n",
       "      <th>156736</th>\n",
       "      <td>2024-01-01</td>\n",
       "      <td>ÍRIDE-3124</td>\n",
       "      <td>A-0159-2M - CAMPO IRIDE</td>\n",
       "      <td>0.148307</td>\n",
       "      <td>0.641925</td>\n",
       "      <td>0.657624</td>\n",
       "      <td>2024</td>\n",
       "      <td>1</td>\n",
       "      <td>31</td>\n",
       "      <td>0.004598</td>\n",
       "      <td>0.031642</td>\n",
       "      <td>0.815980</td>\n",
       "    </tr>\n",
       "    <tr>\n",
       "      <th>156737</th>\n",
       "      <td>2024-01-01</td>\n",
       "      <td>ÍRIDE-166</td>\n",
       "      <td>A-0159-2M - CAMPO IRIDE</td>\n",
       "      <td>0.045028</td>\n",
       "      <td>1.864327</td>\n",
       "      <td>0.014691</td>\n",
       "      <td>2024</td>\n",
       "      <td>1</td>\n",
       "      <td>31</td>\n",
       "      <td>0.001396</td>\n",
       "      <td>0.032864</td>\n",
       "      <td>0.246000</td>\n",
       "    </tr>\n",
       "    <tr>\n",
       "      <th>156738</th>\n",
       "      <td>2024-01-01</td>\n",
       "      <td>ÍRIDE-148</td>\n",
       "      <td>A-0159-2M - CAMPO IRIDE</td>\n",
       "      <td>0.060736</td>\n",
       "      <td>0.426793</td>\n",
       "      <td>0.042065</td>\n",
       "      <td>2024</td>\n",
       "      <td>1</td>\n",
       "      <td>31</td>\n",
       "      <td>0.001883</td>\n",
       "      <td>0.031427</td>\n",
       "      <td>0.409191</td>\n",
       "    </tr>\n",
       "  </tbody>\n",
       "</table>\n",
       "<p>156739 rows × 12 columns</p>\n",
       "</div>"
      ],
      "text/plain": [
       "            Fecha Nombre_del_pozo       Asignación_o_Contrato  Petróleo_(Mbd)  \\\n",
       "0      2016-01-01           KU-10        A-0183-4M - CAMPO KU        1.213199   \n",
       "1      2016-01-01         KU-1271        A-0183-4M - CAMPO KU        5.134254   \n",
       "2      2016-01-01         KU-1282        A-0183-4M - CAMPO KU        9.304707   \n",
       "3      2016-01-01         KU-128D        A-0183-4M - CAMPO KU        2.521282   \n",
       "4      2016-01-01          KU-401        A-0183-4M - CAMPO KU        1.029487   \n",
       "...           ...             ...                         ...             ...   \n",
       "156734 2024-01-01      ITTA-87DES         AE-0151-M - UCHUKIL        2.184148   \n",
       "156735 2024-01-01          IRIS-3  A-0144-2M - CAMPO GIRALDAS        0.000000   \n",
       "156736 2024-01-01      ÍRIDE-3124     A-0159-2M - CAMPO IRIDE        0.148307   \n",
       "156737 2024-01-01       ÍRIDE-166     A-0159-2M - CAMPO IRIDE        0.045028   \n",
       "156738 2024-01-01       ÍRIDE-148     A-0159-2M - CAMPO IRIDE        0.060736   \n",
       "\n",
       "        Gas_asociado_(MMpcd)  Agua_(Mbd)   Año  Mes  Días por mes  Np (MMb)  \\\n",
       "0                   2.265231    0.008647  2016    1            31  0.037609   \n",
       "1                   3.737536    0.120498  2016    1            31  0.159162   \n",
       "2                   5.375045    0.002058  2016    1            31  0.288446   \n",
       "3                   3.098904    0.000000  2016    1            31  0.078160   \n",
       "4                   0.857156    0.044870  2016    1            31  0.031914   \n",
       "...                      ...         ...   ...  ...           ...       ...   \n",
       "156734              2.060692    0.010326  2024    1            31  0.067709   \n",
       "156735              0.000000    0.048516  2024    1            31  0.000000   \n",
       "156736              0.641925    0.657624  2024    1            31  0.004598   \n",
       "156737              1.864327    0.014691  2024    1            31  0.001396   \n",
       "156738              0.426793    0.042065  2024    1            31  0.001883   \n",
       "\n",
       "        Gp (MMMpc)    Fw (%)  \n",
       "0         0.033265  0.007077  \n",
       "1         0.034738  0.022931  \n",
       "2         0.036375  0.000221  \n",
       "3         0.034099  0.000000  \n",
       "4         0.031857  0.041765  \n",
       "...            ...       ...  \n",
       "156734    0.033061  0.004705  \n",
       "156735    0.031000  1.000000  \n",
       "156736    0.031642  0.815980  \n",
       "156737    0.032864  0.246000  \n",
       "156738    0.031427  0.409191  \n",
       "\n",
       "[156739 rows x 12 columns]"
      ]
     },
     "execution_count": 9,
     "metadata": {},
     "output_type": "execute_result"
    }
   ],
   "source": [
    "prod['Np (MMb)']=(prod['Petróleo_(Mbd)']*prod['Días por mes'])/1000 #volumen de petróleo por mes (millones de barriles)\n",
    "prod['Gp (MMMpc)']=(prod['Gas_asociado_(MMpcd)']+prod['Días por mes'])/1000 #volumen de gas por mes (miles de millones de pies cúbicos)\n",
    "prod['Fw (%)']=prod['Agua_(Mbd)']/(prod['Petróleo_(Mbd)']+prod['Agua_(Mbd)']) #corte de agua (fracción)\n",
    "prod "
   ]
  },
  {
   "cell_type": "code",
   "execution_count": 10,
   "metadata": {},
   "outputs": [
    {
     "data": {
      "text/plain": [
       "array(['A-0183-4M - CAMPO KU', 'A-0203-3M - CAMPO MALOOB',\n",
       "       'AE-0187-2M - CAMPO LACAMANGO', 'A-0151-3M - CAMPO HOMOL',\n",
       "       'A-0195-3M - CAMPO LOS SOLDADOS', 'A-0145-2M - CAMPO GUARICHO',\n",
       "       'A-0201-3M - CAMPO MADREFIL', 'A-0154 - CAMPO HORMIGUERO',\n",
       "       'A-0292-2M - CAMPO RODADOR', 'A-0226-M - CAMPO MORA',\n",
       "       'AR-0437 - CAMPO MOLOACAN', 'A-0172-2M - CAMPO KAMBESAH',\n",
       "       'A-0284-3M - CAMPO RABASA', 'A-0170-2M - CAMPO KAB',\n",
       "       'A-0287-M - CAMPO RASHA', 'A-0169-2M - CAMPO JUSPI',\n",
       "       'A-0168-3M - CAMPO JUJO-TECOMINOACAN',\n",
       "       'A-0282-2M - CAMPO PUERTO CEIBA', 'A-0210-3M - CAMPO MAY',\n",
       "       'A-0300-M - CAMPO SAN RAMON',\n",
       "       'AE-0395-2M - MAGALLANES-TUCAN-PAJONAL',\n",
       "       'AR-0438 - CAMPO MUNDO NUEVO', 'A-0144-2M - CAMPO GIRALDAS',\n",
       "       'A-0296-2M - CAMPO SAMARIA', 'A-0205-3M - CAMPO MANIK',\n",
       "       'A-0230-M - CAMPO MUSPAC', 'A-0244-M - CAMPO OGARRIO',\n",
       "       'A-0245-2M - CAMPO ONEL', 'A-0249-2M - CAMPO OXIACAQUE',\n",
       "       'A-0196-2M - CAMPO LUM', 'A-0197 - CAMPO LUNA-PALAPA',\n",
       "       'A-0047-M - CAMPO BLASILLO', 'A-0264-2M - CAMPO PARETO',\n",
       "       'A-0176-M - CAMPO KAX', 'A-0174-2M - CAMPO KANAAB',\n",
       "       'A-0184-2M - CAMPO KUIL', 'AR-0471-2M - CAMPO LA CENTRAL',\n",
       "       'A-0166-M - CAMPO JOSE COLOMO', 'A-0160-3M - CAMPO IXTAL',\n",
       "       'A-0161-3M - CAMPO IXTOC', 'A-0162-2M - CAMPO JACINTO',\n",
       "       'A-0232 - CAMPO NARVAEZ', 'A-0159-2M - CAMPO IRIDE',\n",
       "       'AE-0235-2M - CAMPO NELASH', 'A-0242-M - CAMPO OCH',\n",
       "       'A-0263-3M - CAMPO PAREDON', 'A-0114-2M - CAMPO CUNDUACAN',\n",
       "       'A-0061 - CAMPO CAPARROSO-PIJIJE-ESCUINTLE',\n",
       "       'AR-0417 - CAMPO CUICHAPA-PONIENTE', 'A-0275-2M - CAMPO PLATANAL',\n",
       "       'A-0278-2M - CAMPO POL', 'A-0121 - CAMPO EL GOLPE',\n",
       "       'A-0120-M - CAMPO EK', 'A-0291-M - CAMPO RIO NUEVO',\n",
       "       'A-0252-M - CAMPO PALANGRE', 'A-0250-2M - CAMPO PACHE',\n",
       "       'A-0119-2M - CAMPO EDEN-JOLOTE', 'A-0141-3M - CAMPO GAUCHO',\n",
       "       'A-0371-3M - CAMPO XUX', 'A-0372-2M - CAMPO YAGUAL',\n",
       "       'A-0373-3M - CAMPO YAXCHE', 'A-0375-3M - CAMPO ZAAP',\n",
       "       'A-0374-2M - CAMPO YUM', 'A-0356-2M - CAMPO TUPILCO',\n",
       "       'A-0352-3M - CAMPO TSIMIN', 'A-0359 - CAMPO USUMACINTA',\n",
       "       'A-0324-2M - CAMPO TARATUNICH', 'A-0369-3M - CAMPO XANAB',\n",
       "       'AR-0467 - CAMPO VERNET', 'AR-0469 - CAMPO VICHE',\n",
       "       'A-0329-2M - CAMPO TEOTLECO', 'A-0332-3M - CAMPO TERRA',\n",
       "       'A-0338-3M - CAMPO TINTAL', 'A-0340-2M - CAMPO TIZON',\n",
       "       'A-0342-2M - CAMPO TOKAL', 'AR-0465 - CAMPO TOPEN',\n",
       "       'A-0322-2M - CAMPO TAKIN', 'A-0331-M - CAMPO TEPETITAN',\n",
       "       'A-0317-2M - CAMPO SUNUAPA', 'A-0358-2M - CAMPO UECH',\n",
       "       'A-0306-M - CAMPO SHISHITO', 'A-0308-3M - CAMPO SIHIL',\n",
       "       'A-0309-M - CAMPO SINAN', 'A-0396 - SANTUARIO',\n",
       "       'A-0305-2M - CAMPO SEN', 'A-0310-M - CAMPO SINI',\n",
       "       'A-0312-2M - CAMPO SITIO GRANDE', 'AE-0339-2M - CAMPO TIUMUT',\n",
       "       'A-0236-3M - CAMPO NISPERO', 'A-0104 - CAMPO COSTERO',\n",
       "       'A-0027-2M - CAMPO ARROYO PRIETO', 'A-0029-M - CAMPO ARTESA',\n",
       "       'A-0034-2M - CAMPO AYOCOTE', 'A-0003-2M - CAMPO AGAVE',\n",
       "       'A-0083-M - CAMPO CHIAPAS-COPANO', 'A-0057-3M - CAMPO CACTUS',\n",
       "       'A-0008-2M - CAMPO AKAL', 'A-0078-2M - CAMPO CHAC',\n",
       "       'A-0237-2M - CAMPO NOHOCH', 'A-0049-2M - CAMPO BOLONTIKU',\n",
       "       'A-0050-2M - CAMPO BRICOL', 'A-0051-2M - CAMPO BRILLANTE',\n",
       "       'A-0053-2M - CAMPO CAAN', 'AR-0408 - CAMPO CAFETO',\n",
       "       'A-0046-2M - CAMPO BELLOTA', 'A-0035-3M - CAMPO BACAB',\n",
       "       'AE-0036-2M - CAMPO BACAL', 'A-0039-M - CAMPO BALAM',\n",
       "       'A-0032-2M - CAMPO AYATSIL', 'A-0042-M - CAMPO BATAB',\n",
       "       'AR-0470-2M - CAMPO ARROYO ZANAPA', 'AR-0404-3M - CAMPO AYAPA',\n",
       "       'AR-0468 - CAMPO ACAHUAL', 'A-0001-5M - CAMPO ABKATUN',\n",
       "       'A-0099-2M - CAMPO COMOAPA', 'A-0092-2M - CAMPO CINCO PRESIDENTES',\n",
       "       'A-0086-M - CAMPO CHILAPILLA', 'A-0087-2M - CAMPO CHINCHORRO',\n",
       "       'A-0089-3M - CAMPO CHUC', 'A-0090-2M - CAMPO CHUHUK',\n",
       "       'A-0063-M - CAMPO CARDENAS', 'A-0067-M - CAMPO CASTARRICAL',\n",
       "       'AR-0413 - CAMPO CATEDRAL', 'A-0186-2M - CAMPO KUTZ',\n",
       "       'A-0095 - CAMPO COBO', 'A-0108-M - CAMPO CRATER',\n",
       "       'A-0088-M - CAMPO CHIPILIN', 'AR-0433 - CAMPO MALVA',\n",
       "       'A-0115-2M - CAMPO CUPACHE', 'AR-0410 - CAMPO CALICANTO',\n",
       "       'A-0130-2M - CAMPO ETKAL', 'CNH-R01-L03-A14/2015',\n",
       "       'CNH-R01-L03-A15/2015', 'CNH-R01-L03-A7/2015',\n",
       "       'CNH-R01-L03-A25/2015', 'A-0233-M - CAMPO NAVEGANTE',\n",
       "       'CNH-R01-L03-A6/2015', 'CNH-R01-L03-A11/2015',\n",
       "       'A-0354-2M - CAMPO TUMUT', 'A-0082-M - CAMPO CHE',\n",
       "       'CNH-M1-EK-BALAM/2017', 'CNH-R01-L03-A23/2015',\n",
       "       'CNH-M2-SANTUARIO-EL GOLPE/2017', 'CNH-R02-L03-CS-01/2017',\n",
       "       'CNH-R02-L02-A10.CS/2017', 'AE-0055-6M - MEZCALAPA - 05',\n",
       "       'CNH-A4.OGARRIO/2018', 'CNH-A3.CARDENAS-MORA/2018',\n",
       "       'CNH-R01-L03-A4/2015', 'CNH-R01-L03-A9/2015',\n",
       "       'AE-0056-4M - MEZCALAPA - 06', 'CNH-R01-L01-A7/2015',\n",
       "       'CNH-R01-L02-A1/2015', 'AE-0053-4M - MEZCALAPA - 03',\n",
       "       'AE-0060-5M - MEZCALAPA - 10', 'CNH-R03-L01-AS-CS-15/2018',\n",
       "       'AE-0006-9M - AMOCA-YAXCHE - 04', 'A-0127-M - CAMPO ESCARBADO',\n",
       "       'AE-0154-2M - CHALABIL', 'AE-0151-M - UCHUKIL',\n",
       "       'CNH-R01-L02-A2/2015', 'AE-0020-3M - OKOM - 03',\n",
       "       'AE-0009-5M - TUCOO-XAXAMANI - 01', 'AE-0024-3M - OKOM - 07',\n",
       "       'AE-0142-3M - COMALCALCO', 'AE-0019-3M - OKOM - 02',\n",
       "       'AE-0045-7M - AGUA DULCE - 04', 'AE-0008-5M - AMOCA-YAXCHE - 06',\n",
       "       'CNH-R01-L02-A4/2015', 'AE-0143-2M - COMALCALCO',\n",
       "       'AE-0140-2M - COMALCALCO', 'AE-0148-2M - UCHUKIL',\n",
       "       'AE-0135-M - CUICHAPA', 'AE-0136-M - CUICHAPA',\n",
       "       'A-0327-M - CAMPO TEKEL', 'AE-0141-2M - COMALCALCO',\n",
       "       'AE-0166-M - CAMPECHE ORIENTE'], dtype=object)"
      ]
     },
     "execution_count": 10,
     "metadata": {},
     "output_type": "execute_result"
    }
   ],
   "source": [
    "prod['Asignación_o_Contrato'].unique()"
   ]
  },
  {
   "cell_type": "code",
   "execution_count": 18,
   "metadata": {},
   "outputs": [],
   "source": [
    "asig=prod[prod['Asignación_o_Contrato']=='A-0168-3M - CAMPO JUJO-TECOMINOACAN'] #filtro aleatorio\n",
    "acum=asig.groupby('Nombre_del_pozo')['Np (MMb)'].sum() #obtenemos una serie de suma de Np\n",
    "pozos=asig['Nombre_del_pozo'].unique() #obtenemos los pozos de la asignación"
   ]
  },
  {
   "cell_type": "code",
   "execution_count": 19,
   "metadata": {},
   "outputs": [
    {
     "data": {
      "application/vnd.plotly.v1+json": {
       "config": {
        "plotlyServerURL": "https://plot.ly"
       },
       "data": [
        {
         "alignmentgroup": "True",
         "bingroup": "x",
         "histfunc": "sum",
         "hovertemplate": "Pozos=%{x}<br>sum of Np (MMb)=%{y}<extra></extra>",
         "legendgroup": "",
         "marker": {
          "color": "#636efa",
          "pattern": {
           "shape": ""
          }
         },
         "name": "",
         "offsetgroup": "",
         "orientation": "v",
         "showlegend": false,
         "type": "histogram",
         "x": [
          "JUJO-6",
          "JUJO-852",
          "JUJO-13A",
          "JUJO-513A",
          "JUJO-543",
          "JUJO-58",
          "JUJO-36A",
          "JUJO-863",
          "JUJO-701",
          "JUJO-612",
          "JUJO-547",
          "JUJO-506",
          "JUJO-502A",
          "JUJO-38",
          "JUJO-16",
          "JUJO-23B",
          "TECOMINOACÁN-447",
          "TECOMINOACÁN-525",
          "TECOMINOACÁN-566A",
          "TECOMINOACÁN-429",
          "TECOMINOACÁN-446",
          "TECOMINOACÁN-105",
          "TECOMINOACÁN-101B",
          "TECOMINOACÁN-426A",
          "TECOMINOACÁN-529",
          "TECOMINOACÁN-547",
          "TECOMINOACÁN-658",
          "TECOMINOACÁN-726",
          "TECOMINOACÁN-513",
          "TECOMINOACÁN-628",
          "TECOMINOACÁN-807",
          "TECOMINOACÁN-825",
          "TECOMINOACÁN-711",
          "JUJO-18",
          "JUJO-524",
          "JUJO-532",
          "JUJO-52A",
          "JUJO-522",
          "JUJO-32",
          "JUJO-652",
          "JUJO-24",
          "JUJO-25",
          "JUJO-552",
          "TECOMINOACÁN-444A",
          "TECOMINOACÁN-507",
          "JUJO-54",
          "TECOMINOACÁN-169",
          "JUJO-2C",
          "TECOMINOACÁN-566"
         ],
         "xaxis": "x",
         "y": [
          0.0022557795619999998,
          0.656579118186,
          0.197968321403,
          1.87946916079,
          0.0132358644,
          0.123079055602,
          0.000375968031,
          0.019748359309,
          0.4217096447,
          0.386206943375,
          0.06779774781,
          0.078683632748,
          0.13457313044,
          0.631751670501,
          0.083667219049,
          0.259410695768,
          0.615592119586,
          0.219090350619,
          0.739456422962,
          0.387763848412,
          0.09096825519,
          0.152918460974,
          0.206351215191,
          1.617747214343,
          0.035054613149,
          0.016758160771,
          0.163336212529,
          0.070192053006,
          0.14716429593900002,
          1.008383609153,
          0.063807811263,
          1.497930062505,
          0.018982342012,
          0.0032458398860000003,
          1.890319971008,
          0.053864770898,
          0.006215929195000001,
          0.240061808817,
          0.44012377863,
          0.8934282533360001,
          0.107219761377,
          0.00025064535,
          0.296148982603,
          0.311243269824,
          0.101840903919,
          2.208232454108,
          0.111191495652,
          0.285177741402,
          0.227286478614
         ],
         "yaxis": "y"
        }
       ],
       "layout": {
        "barmode": "relative",
        "legend": {
         "tracegroupgap": 0
        },
        "margin": {
         "t": 60
        },
        "template": {
         "data": {
          "bar": [
           {
            "error_x": {
             "color": "#2a3f5f"
            },
            "error_y": {
             "color": "#2a3f5f"
            },
            "marker": {
             "line": {
              "color": "#E5ECF6",
              "width": 0.5
             },
             "pattern": {
              "fillmode": "overlay",
              "size": 10,
              "solidity": 0.2
             }
            },
            "type": "bar"
           }
          ],
          "barpolar": [
           {
            "marker": {
             "line": {
              "color": "#E5ECF6",
              "width": 0.5
             },
             "pattern": {
              "fillmode": "overlay",
              "size": 10,
              "solidity": 0.2
             }
            },
            "type": "barpolar"
           }
          ],
          "carpet": [
           {
            "aaxis": {
             "endlinecolor": "#2a3f5f",
             "gridcolor": "white",
             "linecolor": "white",
             "minorgridcolor": "white",
             "startlinecolor": "#2a3f5f"
            },
            "baxis": {
             "endlinecolor": "#2a3f5f",
             "gridcolor": "white",
             "linecolor": "white",
             "minorgridcolor": "white",
             "startlinecolor": "#2a3f5f"
            },
            "type": "carpet"
           }
          ],
          "choropleth": [
           {
            "colorbar": {
             "outlinewidth": 0,
             "ticks": ""
            },
            "type": "choropleth"
           }
          ],
          "contour": [
           {
            "colorbar": {
             "outlinewidth": 0,
             "ticks": ""
            },
            "colorscale": [
             [
              0,
              "#0d0887"
             ],
             [
              0.1111111111111111,
              "#46039f"
             ],
             [
              0.2222222222222222,
              "#7201a8"
             ],
             [
              0.3333333333333333,
              "#9c179e"
             ],
             [
              0.4444444444444444,
              "#bd3786"
             ],
             [
              0.5555555555555556,
              "#d8576b"
             ],
             [
              0.6666666666666666,
              "#ed7953"
             ],
             [
              0.7777777777777778,
              "#fb9f3a"
             ],
             [
              0.8888888888888888,
              "#fdca26"
             ],
             [
              1,
              "#f0f921"
             ]
            ],
            "type": "contour"
           }
          ],
          "contourcarpet": [
           {
            "colorbar": {
             "outlinewidth": 0,
             "ticks": ""
            },
            "type": "contourcarpet"
           }
          ],
          "heatmap": [
           {
            "colorbar": {
             "outlinewidth": 0,
             "ticks": ""
            },
            "colorscale": [
             [
              0,
              "#0d0887"
             ],
             [
              0.1111111111111111,
              "#46039f"
             ],
             [
              0.2222222222222222,
              "#7201a8"
             ],
             [
              0.3333333333333333,
              "#9c179e"
             ],
             [
              0.4444444444444444,
              "#bd3786"
             ],
             [
              0.5555555555555556,
              "#d8576b"
             ],
             [
              0.6666666666666666,
              "#ed7953"
             ],
             [
              0.7777777777777778,
              "#fb9f3a"
             ],
             [
              0.8888888888888888,
              "#fdca26"
             ],
             [
              1,
              "#f0f921"
             ]
            ],
            "type": "heatmap"
           }
          ],
          "heatmapgl": [
           {
            "colorbar": {
             "outlinewidth": 0,
             "ticks": ""
            },
            "colorscale": [
             [
              0,
              "#0d0887"
             ],
             [
              0.1111111111111111,
              "#46039f"
             ],
             [
              0.2222222222222222,
              "#7201a8"
             ],
             [
              0.3333333333333333,
              "#9c179e"
             ],
             [
              0.4444444444444444,
              "#bd3786"
             ],
             [
              0.5555555555555556,
              "#d8576b"
             ],
             [
              0.6666666666666666,
              "#ed7953"
             ],
             [
              0.7777777777777778,
              "#fb9f3a"
             ],
             [
              0.8888888888888888,
              "#fdca26"
             ],
             [
              1,
              "#f0f921"
             ]
            ],
            "type": "heatmapgl"
           }
          ],
          "histogram": [
           {
            "marker": {
             "pattern": {
              "fillmode": "overlay",
              "size": 10,
              "solidity": 0.2
             }
            },
            "type": "histogram"
           }
          ],
          "histogram2d": [
           {
            "colorbar": {
             "outlinewidth": 0,
             "ticks": ""
            },
            "colorscale": [
             [
              0,
              "#0d0887"
             ],
             [
              0.1111111111111111,
              "#46039f"
             ],
             [
              0.2222222222222222,
              "#7201a8"
             ],
             [
              0.3333333333333333,
              "#9c179e"
             ],
             [
              0.4444444444444444,
              "#bd3786"
             ],
             [
              0.5555555555555556,
              "#d8576b"
             ],
             [
              0.6666666666666666,
              "#ed7953"
             ],
             [
              0.7777777777777778,
              "#fb9f3a"
             ],
             [
              0.8888888888888888,
              "#fdca26"
             ],
             [
              1,
              "#f0f921"
             ]
            ],
            "type": "histogram2d"
           }
          ],
          "histogram2dcontour": [
           {
            "colorbar": {
             "outlinewidth": 0,
             "ticks": ""
            },
            "colorscale": [
             [
              0,
              "#0d0887"
             ],
             [
              0.1111111111111111,
              "#46039f"
             ],
             [
              0.2222222222222222,
              "#7201a8"
             ],
             [
              0.3333333333333333,
              "#9c179e"
             ],
             [
              0.4444444444444444,
              "#bd3786"
             ],
             [
              0.5555555555555556,
              "#d8576b"
             ],
             [
              0.6666666666666666,
              "#ed7953"
             ],
             [
              0.7777777777777778,
              "#fb9f3a"
             ],
             [
              0.8888888888888888,
              "#fdca26"
             ],
             [
              1,
              "#f0f921"
             ]
            ],
            "type": "histogram2dcontour"
           }
          ],
          "mesh3d": [
           {
            "colorbar": {
             "outlinewidth": 0,
             "ticks": ""
            },
            "type": "mesh3d"
           }
          ],
          "parcoords": [
           {
            "line": {
             "colorbar": {
              "outlinewidth": 0,
              "ticks": ""
             }
            },
            "type": "parcoords"
           }
          ],
          "pie": [
           {
            "automargin": true,
            "type": "pie"
           }
          ],
          "scatter": [
           {
            "fillpattern": {
             "fillmode": "overlay",
             "size": 10,
             "solidity": 0.2
            },
            "type": "scatter"
           }
          ],
          "scatter3d": [
           {
            "line": {
             "colorbar": {
              "outlinewidth": 0,
              "ticks": ""
             }
            },
            "marker": {
             "colorbar": {
              "outlinewidth": 0,
              "ticks": ""
             }
            },
            "type": "scatter3d"
           }
          ],
          "scattercarpet": [
           {
            "marker": {
             "colorbar": {
              "outlinewidth": 0,
              "ticks": ""
             }
            },
            "type": "scattercarpet"
           }
          ],
          "scattergeo": [
           {
            "marker": {
             "colorbar": {
              "outlinewidth": 0,
              "ticks": ""
             }
            },
            "type": "scattergeo"
           }
          ],
          "scattergl": [
           {
            "marker": {
             "colorbar": {
              "outlinewidth": 0,
              "ticks": ""
             }
            },
            "type": "scattergl"
           }
          ],
          "scattermapbox": [
           {
            "marker": {
             "colorbar": {
              "outlinewidth": 0,
              "ticks": ""
             }
            },
            "type": "scattermapbox"
           }
          ],
          "scatterpolar": [
           {
            "marker": {
             "colorbar": {
              "outlinewidth": 0,
              "ticks": ""
             }
            },
            "type": "scatterpolar"
           }
          ],
          "scatterpolargl": [
           {
            "marker": {
             "colorbar": {
              "outlinewidth": 0,
              "ticks": ""
             }
            },
            "type": "scatterpolargl"
           }
          ],
          "scatterternary": [
           {
            "marker": {
             "colorbar": {
              "outlinewidth": 0,
              "ticks": ""
             }
            },
            "type": "scatterternary"
           }
          ],
          "surface": [
           {
            "colorbar": {
             "outlinewidth": 0,
             "ticks": ""
            },
            "colorscale": [
             [
              0,
              "#0d0887"
             ],
             [
              0.1111111111111111,
              "#46039f"
             ],
             [
              0.2222222222222222,
              "#7201a8"
             ],
             [
              0.3333333333333333,
              "#9c179e"
             ],
             [
              0.4444444444444444,
              "#bd3786"
             ],
             [
              0.5555555555555556,
              "#d8576b"
             ],
             [
              0.6666666666666666,
              "#ed7953"
             ],
             [
              0.7777777777777778,
              "#fb9f3a"
             ],
             [
              0.8888888888888888,
              "#fdca26"
             ],
             [
              1,
              "#f0f921"
             ]
            ],
            "type": "surface"
           }
          ],
          "table": [
           {
            "cells": {
             "fill": {
              "color": "#EBF0F8"
             },
             "line": {
              "color": "white"
             }
            },
            "header": {
             "fill": {
              "color": "#C8D4E3"
             },
             "line": {
              "color": "white"
             }
            },
            "type": "table"
           }
          ]
         },
         "layout": {
          "annotationdefaults": {
           "arrowcolor": "#2a3f5f",
           "arrowhead": 0,
           "arrowwidth": 1
          },
          "autotypenumbers": "strict",
          "coloraxis": {
           "colorbar": {
            "outlinewidth": 0,
            "ticks": ""
           }
          },
          "colorscale": {
           "diverging": [
            [
             0,
             "#8e0152"
            ],
            [
             0.1,
             "#c51b7d"
            ],
            [
             0.2,
             "#de77ae"
            ],
            [
             0.3,
             "#f1b6da"
            ],
            [
             0.4,
             "#fde0ef"
            ],
            [
             0.5,
             "#f7f7f7"
            ],
            [
             0.6,
             "#e6f5d0"
            ],
            [
             0.7,
             "#b8e186"
            ],
            [
             0.8,
             "#7fbc41"
            ],
            [
             0.9,
             "#4d9221"
            ],
            [
             1,
             "#276419"
            ]
           ],
           "sequential": [
            [
             0,
             "#0d0887"
            ],
            [
             0.1111111111111111,
             "#46039f"
            ],
            [
             0.2222222222222222,
             "#7201a8"
            ],
            [
             0.3333333333333333,
             "#9c179e"
            ],
            [
             0.4444444444444444,
             "#bd3786"
            ],
            [
             0.5555555555555556,
             "#d8576b"
            ],
            [
             0.6666666666666666,
             "#ed7953"
            ],
            [
             0.7777777777777778,
             "#fb9f3a"
            ],
            [
             0.8888888888888888,
             "#fdca26"
            ],
            [
             1,
             "#f0f921"
            ]
           ],
           "sequentialminus": [
            [
             0,
             "#0d0887"
            ],
            [
             0.1111111111111111,
             "#46039f"
            ],
            [
             0.2222222222222222,
             "#7201a8"
            ],
            [
             0.3333333333333333,
             "#9c179e"
            ],
            [
             0.4444444444444444,
             "#bd3786"
            ],
            [
             0.5555555555555556,
             "#d8576b"
            ],
            [
             0.6666666666666666,
             "#ed7953"
            ],
            [
             0.7777777777777778,
             "#fb9f3a"
            ],
            [
             0.8888888888888888,
             "#fdca26"
            ],
            [
             1,
             "#f0f921"
            ]
           ]
          },
          "colorway": [
           "#636efa",
           "#EF553B",
           "#00cc96",
           "#ab63fa",
           "#FFA15A",
           "#19d3f3",
           "#FF6692",
           "#B6E880",
           "#FF97FF",
           "#FECB52"
          ],
          "font": {
           "color": "#2a3f5f"
          },
          "geo": {
           "bgcolor": "white",
           "lakecolor": "white",
           "landcolor": "#E5ECF6",
           "showlakes": true,
           "showland": true,
           "subunitcolor": "white"
          },
          "hoverlabel": {
           "align": "left"
          },
          "hovermode": "closest",
          "mapbox": {
           "style": "light"
          },
          "paper_bgcolor": "white",
          "plot_bgcolor": "#E5ECF6",
          "polar": {
           "angularaxis": {
            "gridcolor": "white",
            "linecolor": "white",
            "ticks": ""
           },
           "bgcolor": "#E5ECF6",
           "radialaxis": {
            "gridcolor": "white",
            "linecolor": "white",
            "ticks": ""
           }
          },
          "scene": {
           "xaxis": {
            "backgroundcolor": "#E5ECF6",
            "gridcolor": "white",
            "gridwidth": 2,
            "linecolor": "white",
            "showbackground": true,
            "ticks": "",
            "zerolinecolor": "white"
           },
           "yaxis": {
            "backgroundcolor": "#E5ECF6",
            "gridcolor": "white",
            "gridwidth": 2,
            "linecolor": "white",
            "showbackground": true,
            "ticks": "",
            "zerolinecolor": "white"
           },
           "zaxis": {
            "backgroundcolor": "#E5ECF6",
            "gridcolor": "white",
            "gridwidth": 2,
            "linecolor": "white",
            "showbackground": true,
            "ticks": "",
            "zerolinecolor": "white"
           }
          },
          "shapedefaults": {
           "line": {
            "color": "#2a3f5f"
           }
          },
          "ternary": {
           "aaxis": {
            "gridcolor": "white",
            "linecolor": "white",
            "ticks": ""
           },
           "baxis": {
            "gridcolor": "white",
            "linecolor": "white",
            "ticks": ""
           },
           "bgcolor": "#E5ECF6",
           "caxis": {
            "gridcolor": "white",
            "linecolor": "white",
            "ticks": ""
           }
          },
          "title": {
           "x": 0.05
          },
          "xaxis": {
           "automargin": true,
           "gridcolor": "white",
           "linecolor": "white",
           "ticks": "",
           "title": {
            "standoff": 15
           },
           "zerolinecolor": "white",
           "zerolinewidth": 2
          },
          "yaxis": {
           "automargin": true,
           "gridcolor": "white",
           "linecolor": "white",
           "ticks": "",
           "title": {
            "standoff": 15
           },
           "zerolinecolor": "white",
           "zerolinewidth": 2
          }
         }
        },
        "xaxis": {
         "anchor": "y",
         "domain": [
          0,
          1
         ],
         "title": {
          "text": "Pozos"
         }
        },
        "yaxis": {
         "anchor": "x",
         "domain": [
          0,
          1
         ],
         "title": {
          "text": "sum of Np (MMb)"
         }
        }
       }
      }
     },
     "metadata": {},
     "output_type": "display_data"
    }
   ],
   "source": [
    "fig=plotly_express.histogram(x=pozos,y=acum,labels={'x':'Pozos','y':'Np (MMb)'})\n",
    "fig.show() #graficamos la producción acumulada por pozo"
   ]
  },
  {
   "cell_type": "code",
   "execution_count": 20,
   "metadata": {},
   "outputs": [
    {
     "data": {
      "application/vnd.plotly.v1+json": {
       "config": {
        "plotlyServerURL": "https://plot.ly"
       },
       "data": [
        {
         "alignmentgroup": "True",
         "bingroup": "x",
         "hovertemplate": "Np (MMb)=%{x}<br>count=%{y}<extra></extra>",
         "legendgroup": "",
         "marker": {
          "color": "#636efa",
          "pattern": {
           "shape": ""
          }
         },
         "name": "",
         "offsetgroup": "",
         "orientation": "v",
         "showlegend": false,
         "type": "histogram",
         "x": [
          0.0022557795619999998,
          0.656579118186,
          0.197968321403,
          1.87946916079,
          0.0132358644,
          0.123079055602,
          0.000375968031,
          0.019748359309,
          0.4217096447,
          0.386206943375,
          0.06779774781,
          0.078683632748,
          0.13457313044,
          0.631751670501,
          0.083667219049,
          0.259410695768,
          0.615592119586,
          0.219090350619,
          0.739456422962,
          0.387763848412,
          0.09096825519,
          0.152918460974,
          0.206351215191,
          1.617747214343,
          0.035054613149,
          0.016758160771,
          0.163336212529,
          0.070192053006,
          0.14716429593900002,
          1.008383609153,
          0.063807811263,
          1.497930062505,
          0.018982342012,
          0.0032458398860000003,
          1.890319971008,
          0.053864770898,
          0.006215929195000001,
          0.240061808817,
          0.44012377863,
          0.8934282533360001,
          0.107219761377,
          0.00025064535,
          0.296148982603,
          0.311243269824,
          0.101840903919,
          2.208232454108,
          0.111191495652,
          0.285177741402,
          0.227286478614
         ],
         "xaxis": "x",
         "yaxis": "y"
        }
       ],
       "layout": {
        "barmode": "relative",
        "legend": {
         "tracegroupgap": 0
        },
        "margin": {
         "t": 60
        },
        "template": {
         "data": {
          "bar": [
           {
            "error_x": {
             "color": "#2a3f5f"
            },
            "error_y": {
             "color": "#2a3f5f"
            },
            "marker": {
             "line": {
              "color": "#E5ECF6",
              "width": 0.5
             },
             "pattern": {
              "fillmode": "overlay",
              "size": 10,
              "solidity": 0.2
             }
            },
            "type": "bar"
           }
          ],
          "barpolar": [
           {
            "marker": {
             "line": {
              "color": "#E5ECF6",
              "width": 0.5
             },
             "pattern": {
              "fillmode": "overlay",
              "size": 10,
              "solidity": 0.2
             }
            },
            "type": "barpolar"
           }
          ],
          "carpet": [
           {
            "aaxis": {
             "endlinecolor": "#2a3f5f",
             "gridcolor": "white",
             "linecolor": "white",
             "minorgridcolor": "white",
             "startlinecolor": "#2a3f5f"
            },
            "baxis": {
             "endlinecolor": "#2a3f5f",
             "gridcolor": "white",
             "linecolor": "white",
             "minorgridcolor": "white",
             "startlinecolor": "#2a3f5f"
            },
            "type": "carpet"
           }
          ],
          "choropleth": [
           {
            "colorbar": {
             "outlinewidth": 0,
             "ticks": ""
            },
            "type": "choropleth"
           }
          ],
          "contour": [
           {
            "colorbar": {
             "outlinewidth": 0,
             "ticks": ""
            },
            "colorscale": [
             [
              0,
              "#0d0887"
             ],
             [
              0.1111111111111111,
              "#46039f"
             ],
             [
              0.2222222222222222,
              "#7201a8"
             ],
             [
              0.3333333333333333,
              "#9c179e"
             ],
             [
              0.4444444444444444,
              "#bd3786"
             ],
             [
              0.5555555555555556,
              "#d8576b"
             ],
             [
              0.6666666666666666,
              "#ed7953"
             ],
             [
              0.7777777777777778,
              "#fb9f3a"
             ],
             [
              0.8888888888888888,
              "#fdca26"
             ],
             [
              1,
              "#f0f921"
             ]
            ],
            "type": "contour"
           }
          ],
          "contourcarpet": [
           {
            "colorbar": {
             "outlinewidth": 0,
             "ticks": ""
            },
            "type": "contourcarpet"
           }
          ],
          "heatmap": [
           {
            "colorbar": {
             "outlinewidth": 0,
             "ticks": ""
            },
            "colorscale": [
             [
              0,
              "#0d0887"
             ],
             [
              0.1111111111111111,
              "#46039f"
             ],
             [
              0.2222222222222222,
              "#7201a8"
             ],
             [
              0.3333333333333333,
              "#9c179e"
             ],
             [
              0.4444444444444444,
              "#bd3786"
             ],
             [
              0.5555555555555556,
              "#d8576b"
             ],
             [
              0.6666666666666666,
              "#ed7953"
             ],
             [
              0.7777777777777778,
              "#fb9f3a"
             ],
             [
              0.8888888888888888,
              "#fdca26"
             ],
             [
              1,
              "#f0f921"
             ]
            ],
            "type": "heatmap"
           }
          ],
          "heatmapgl": [
           {
            "colorbar": {
             "outlinewidth": 0,
             "ticks": ""
            },
            "colorscale": [
             [
              0,
              "#0d0887"
             ],
             [
              0.1111111111111111,
              "#46039f"
             ],
             [
              0.2222222222222222,
              "#7201a8"
             ],
             [
              0.3333333333333333,
              "#9c179e"
             ],
             [
              0.4444444444444444,
              "#bd3786"
             ],
             [
              0.5555555555555556,
              "#d8576b"
             ],
             [
              0.6666666666666666,
              "#ed7953"
             ],
             [
              0.7777777777777778,
              "#fb9f3a"
             ],
             [
              0.8888888888888888,
              "#fdca26"
             ],
             [
              1,
              "#f0f921"
             ]
            ],
            "type": "heatmapgl"
           }
          ],
          "histogram": [
           {
            "marker": {
             "pattern": {
              "fillmode": "overlay",
              "size": 10,
              "solidity": 0.2
             }
            },
            "type": "histogram"
           }
          ],
          "histogram2d": [
           {
            "colorbar": {
             "outlinewidth": 0,
             "ticks": ""
            },
            "colorscale": [
             [
              0,
              "#0d0887"
             ],
             [
              0.1111111111111111,
              "#46039f"
             ],
             [
              0.2222222222222222,
              "#7201a8"
             ],
             [
              0.3333333333333333,
              "#9c179e"
             ],
             [
              0.4444444444444444,
              "#bd3786"
             ],
             [
              0.5555555555555556,
              "#d8576b"
             ],
             [
              0.6666666666666666,
              "#ed7953"
             ],
             [
              0.7777777777777778,
              "#fb9f3a"
             ],
             [
              0.8888888888888888,
              "#fdca26"
             ],
             [
              1,
              "#f0f921"
             ]
            ],
            "type": "histogram2d"
           }
          ],
          "histogram2dcontour": [
           {
            "colorbar": {
             "outlinewidth": 0,
             "ticks": ""
            },
            "colorscale": [
             [
              0,
              "#0d0887"
             ],
             [
              0.1111111111111111,
              "#46039f"
             ],
             [
              0.2222222222222222,
              "#7201a8"
             ],
             [
              0.3333333333333333,
              "#9c179e"
             ],
             [
              0.4444444444444444,
              "#bd3786"
             ],
             [
              0.5555555555555556,
              "#d8576b"
             ],
             [
              0.6666666666666666,
              "#ed7953"
             ],
             [
              0.7777777777777778,
              "#fb9f3a"
             ],
             [
              0.8888888888888888,
              "#fdca26"
             ],
             [
              1,
              "#f0f921"
             ]
            ],
            "type": "histogram2dcontour"
           }
          ],
          "mesh3d": [
           {
            "colorbar": {
             "outlinewidth": 0,
             "ticks": ""
            },
            "type": "mesh3d"
           }
          ],
          "parcoords": [
           {
            "line": {
             "colorbar": {
              "outlinewidth": 0,
              "ticks": ""
             }
            },
            "type": "parcoords"
           }
          ],
          "pie": [
           {
            "automargin": true,
            "type": "pie"
           }
          ],
          "scatter": [
           {
            "fillpattern": {
             "fillmode": "overlay",
             "size": 10,
             "solidity": 0.2
            },
            "type": "scatter"
           }
          ],
          "scatter3d": [
           {
            "line": {
             "colorbar": {
              "outlinewidth": 0,
              "ticks": ""
             }
            },
            "marker": {
             "colorbar": {
              "outlinewidth": 0,
              "ticks": ""
             }
            },
            "type": "scatter3d"
           }
          ],
          "scattercarpet": [
           {
            "marker": {
             "colorbar": {
              "outlinewidth": 0,
              "ticks": ""
             }
            },
            "type": "scattercarpet"
           }
          ],
          "scattergeo": [
           {
            "marker": {
             "colorbar": {
              "outlinewidth": 0,
              "ticks": ""
             }
            },
            "type": "scattergeo"
           }
          ],
          "scattergl": [
           {
            "marker": {
             "colorbar": {
              "outlinewidth": 0,
              "ticks": ""
             }
            },
            "type": "scattergl"
           }
          ],
          "scattermapbox": [
           {
            "marker": {
             "colorbar": {
              "outlinewidth": 0,
              "ticks": ""
             }
            },
            "type": "scattermapbox"
           }
          ],
          "scatterpolar": [
           {
            "marker": {
             "colorbar": {
              "outlinewidth": 0,
              "ticks": ""
             }
            },
            "type": "scatterpolar"
           }
          ],
          "scatterpolargl": [
           {
            "marker": {
             "colorbar": {
              "outlinewidth": 0,
              "ticks": ""
             }
            },
            "type": "scatterpolargl"
           }
          ],
          "scatterternary": [
           {
            "marker": {
             "colorbar": {
              "outlinewidth": 0,
              "ticks": ""
             }
            },
            "type": "scatterternary"
           }
          ],
          "surface": [
           {
            "colorbar": {
             "outlinewidth": 0,
             "ticks": ""
            },
            "colorscale": [
             [
              0,
              "#0d0887"
             ],
             [
              0.1111111111111111,
              "#46039f"
             ],
             [
              0.2222222222222222,
              "#7201a8"
             ],
             [
              0.3333333333333333,
              "#9c179e"
             ],
             [
              0.4444444444444444,
              "#bd3786"
             ],
             [
              0.5555555555555556,
              "#d8576b"
             ],
             [
              0.6666666666666666,
              "#ed7953"
             ],
             [
              0.7777777777777778,
              "#fb9f3a"
             ],
             [
              0.8888888888888888,
              "#fdca26"
             ],
             [
              1,
              "#f0f921"
             ]
            ],
            "type": "surface"
           }
          ],
          "table": [
           {
            "cells": {
             "fill": {
              "color": "#EBF0F8"
             },
             "line": {
              "color": "white"
             }
            },
            "header": {
             "fill": {
              "color": "#C8D4E3"
             },
             "line": {
              "color": "white"
             }
            },
            "type": "table"
           }
          ]
         },
         "layout": {
          "annotationdefaults": {
           "arrowcolor": "#2a3f5f",
           "arrowhead": 0,
           "arrowwidth": 1
          },
          "autotypenumbers": "strict",
          "coloraxis": {
           "colorbar": {
            "outlinewidth": 0,
            "ticks": ""
           }
          },
          "colorscale": {
           "diverging": [
            [
             0,
             "#8e0152"
            ],
            [
             0.1,
             "#c51b7d"
            ],
            [
             0.2,
             "#de77ae"
            ],
            [
             0.3,
             "#f1b6da"
            ],
            [
             0.4,
             "#fde0ef"
            ],
            [
             0.5,
             "#f7f7f7"
            ],
            [
             0.6,
             "#e6f5d0"
            ],
            [
             0.7,
             "#b8e186"
            ],
            [
             0.8,
             "#7fbc41"
            ],
            [
             0.9,
             "#4d9221"
            ],
            [
             1,
             "#276419"
            ]
           ],
           "sequential": [
            [
             0,
             "#0d0887"
            ],
            [
             0.1111111111111111,
             "#46039f"
            ],
            [
             0.2222222222222222,
             "#7201a8"
            ],
            [
             0.3333333333333333,
             "#9c179e"
            ],
            [
             0.4444444444444444,
             "#bd3786"
            ],
            [
             0.5555555555555556,
             "#d8576b"
            ],
            [
             0.6666666666666666,
             "#ed7953"
            ],
            [
             0.7777777777777778,
             "#fb9f3a"
            ],
            [
             0.8888888888888888,
             "#fdca26"
            ],
            [
             1,
             "#f0f921"
            ]
           ],
           "sequentialminus": [
            [
             0,
             "#0d0887"
            ],
            [
             0.1111111111111111,
             "#46039f"
            ],
            [
             0.2222222222222222,
             "#7201a8"
            ],
            [
             0.3333333333333333,
             "#9c179e"
            ],
            [
             0.4444444444444444,
             "#bd3786"
            ],
            [
             0.5555555555555556,
             "#d8576b"
            ],
            [
             0.6666666666666666,
             "#ed7953"
            ],
            [
             0.7777777777777778,
             "#fb9f3a"
            ],
            [
             0.8888888888888888,
             "#fdca26"
            ],
            [
             1,
             "#f0f921"
            ]
           ]
          },
          "colorway": [
           "#636efa",
           "#EF553B",
           "#00cc96",
           "#ab63fa",
           "#FFA15A",
           "#19d3f3",
           "#FF6692",
           "#B6E880",
           "#FF97FF",
           "#FECB52"
          ],
          "font": {
           "color": "#2a3f5f"
          },
          "geo": {
           "bgcolor": "white",
           "lakecolor": "white",
           "landcolor": "#E5ECF6",
           "showlakes": true,
           "showland": true,
           "subunitcolor": "white"
          },
          "hoverlabel": {
           "align": "left"
          },
          "hovermode": "closest",
          "mapbox": {
           "style": "light"
          },
          "paper_bgcolor": "white",
          "plot_bgcolor": "#E5ECF6",
          "polar": {
           "angularaxis": {
            "gridcolor": "white",
            "linecolor": "white",
            "ticks": ""
           },
           "bgcolor": "#E5ECF6",
           "radialaxis": {
            "gridcolor": "white",
            "linecolor": "white",
            "ticks": ""
           }
          },
          "scene": {
           "xaxis": {
            "backgroundcolor": "#E5ECF6",
            "gridcolor": "white",
            "gridwidth": 2,
            "linecolor": "white",
            "showbackground": true,
            "ticks": "",
            "zerolinecolor": "white"
           },
           "yaxis": {
            "backgroundcolor": "#E5ECF6",
            "gridcolor": "white",
            "gridwidth": 2,
            "linecolor": "white",
            "showbackground": true,
            "ticks": "",
            "zerolinecolor": "white"
           },
           "zaxis": {
            "backgroundcolor": "#E5ECF6",
            "gridcolor": "white",
            "gridwidth": 2,
            "linecolor": "white",
            "showbackground": true,
            "ticks": "",
            "zerolinecolor": "white"
           }
          },
          "shapedefaults": {
           "line": {
            "color": "#2a3f5f"
           }
          },
          "ternary": {
           "aaxis": {
            "gridcolor": "white",
            "linecolor": "white",
            "ticks": ""
           },
           "baxis": {
            "gridcolor": "white",
            "linecolor": "white",
            "ticks": ""
           },
           "bgcolor": "#E5ECF6",
           "caxis": {
            "gridcolor": "white",
            "linecolor": "white",
            "ticks": ""
           }
          },
          "title": {
           "x": 0.05
          },
          "xaxis": {
           "automargin": true,
           "gridcolor": "white",
           "linecolor": "white",
           "ticks": "",
           "title": {
            "standoff": 15
           },
           "zerolinecolor": "white",
           "zerolinewidth": 2
          },
          "yaxis": {
           "automargin": true,
           "gridcolor": "white",
           "linecolor": "white",
           "ticks": "",
           "title": {
            "standoff": 15
           },
           "zerolinecolor": "white",
           "zerolinewidth": 2
          }
         }
        },
        "xaxis": {
         "anchor": "y",
         "domain": [
          0,
          1
         ],
         "title": {
          "text": "Np (MMb)"
         }
        },
        "yaxis": {
         "anchor": "x",
         "domain": [
          0,
          1
         ],
         "title": {
          "text": "count"
         }
        }
       }
      }
     },
     "metadata": {},
     "output_type": "display_data"
    }
   ],
   "source": [
    "fig2=plotly_express.histogram(x=acum,labels={'x':'Np (MMb)'})\n",
    "fig2.show() #graficamos la cantidad de pozos que han alcanzado cierta Np"
   ]
  },
  {
   "cell_type": "code",
   "execution_count": 42,
   "metadata": {},
   "outputs": [
    {
     "name": "stderr",
     "output_type": "stream",
     "text": [
      "c:\\Users\\rodri\\anaconda3\\envs\\prod_RS\\Lib\\site-packages\\plotly\\express\\_core.py:1979: FutureWarning:\n",
      "\n",
      "When grouping with a length-1 list-like, you will need to pass a length-1 tuple to get_group in a future version of pandas. Pass `(name,)` instead of `name` to silence this warning.\n",
      "\n",
      "c:\\Users\\rodri\\anaconda3\\envs\\prod_RS\\Lib\\site-packages\\_plotly_utils\\basevalidators.py:106: FutureWarning:\n",
      "\n",
      "The behavior of DatetimeProperties.to_pydatetime is deprecated, in a future version this will return a Series containing python datetime objects instead of an ndarray. To retain the old behavior, call `np.array` on the result\n",
      "\n"
     ]
    },
    {
     "data": {
      "application/vnd.plotly.v1+json": {
       "config": {
        "plotlyServerURL": "https://plot.ly"
       },
       "data": [
        {
         "hovertemplate": "Nombre_del_pozo=JUJO-6<br>Fecha=%{x}<br>Petróleo_(Mbd)=%{y}<extra></extra>",
         "legendgroup": "JUJO-6",
         "line": {
          "color": "#636efa",
          "dash": "solid",
          "shape": "linear"
         },
         "marker": {
          "symbol": "circle"
         },
         "mode": "lines",
         "name": "JUJO-6",
         "showlegend": true,
         "type": "scattergl",
         "x": [
          "2016-01-01T00:00:00",
          "2016-02-01T00:00:00",
          "2016-03-01T00:00:00",
          "2016-04-01T00:00:00",
          "2016-05-01T00:00:00",
          "2016-06-01T00:00:00",
          "2016-07-01T00:00:00",
          "2016-08-01T00:00:00",
          "2016-09-01T00:00:00",
          "2016-10-01T00:00:00",
          "2016-11-01T00:00:00",
          "2016-12-01T00:00:00",
          "2017-01-01T00:00:00",
          "2017-02-01T00:00:00",
          "2017-03-01T00:00:00",
          "2017-04-01T00:00:00",
          "2017-05-01T00:00:00",
          "2017-06-01T00:00:00",
          "2017-07-01T00:00:00",
          "2017-08-01T00:00:00",
          "2017-09-01T00:00:00",
          "2017-10-01T00:00:00",
          "2017-11-01T00:00:00",
          "2017-12-01T00:00:00",
          "2018-01-01T00:00:00",
          "2018-02-01T00:00:00",
          "2018-03-01T00:00:00",
          "2018-04-01T00:00:00",
          "2018-05-01T00:00:00",
          "2018-06-01T00:00:00",
          "2018-07-01T00:00:00",
          "2018-08-01T00:00:00",
          "2018-09-01T00:00:00",
          "2018-10-01T00:00:00",
          "2018-11-01T00:00:00",
          "2018-12-01T00:00:00",
          "2019-01-01T00:00:00",
          "2019-02-01T00:00:00",
          "2019-03-01T00:00:00",
          "2019-04-01T00:00:00",
          "2019-05-01T00:00:00",
          "2019-06-01T00:00:00",
          "2019-07-01T00:00:00",
          "2019-08-01T00:00:00",
          "2019-09-01T00:00:00",
          "2019-10-01T00:00:00",
          "2019-11-01T00:00:00",
          "2019-12-01T00:00:00",
          "2020-01-01T00:00:00",
          "2020-02-01T00:00:00",
          "2020-03-01T00:00:00",
          "2020-04-01T00:00:00",
          "2020-05-01T00:00:00",
          "2020-06-01T00:00:00",
          "2020-07-01T00:00:00",
          "2020-08-01T00:00:00",
          "2020-09-01T00:00:00",
          "2020-10-01T00:00:00",
          "2020-11-01T00:00:00",
          "2020-12-01T00:00:00",
          "2021-01-01T00:00:00",
          "2021-02-01T00:00:00",
          "2021-03-01T00:00:00",
          "2021-04-01T00:00:00",
          "2021-05-01T00:00:00",
          "2021-06-01T00:00:00",
          "2021-07-01T00:00:00",
          "2021-08-01T00:00:00",
          "2021-09-01T00:00:00",
          "2021-10-01T00:00:00",
          "2021-11-01T00:00:00",
          "2021-12-01T00:00:00",
          "2022-01-01T00:00:00",
          "2022-02-01T00:00:00",
          "2022-03-01T00:00:00",
          "2022-04-01T00:00:00",
          "2022-05-01T00:00:00",
          "2022-06-01T00:00:00",
          "2022-07-01T00:00:00",
          "2022-08-01T00:00:00",
          "2022-09-01T00:00:00",
          "2022-10-01T00:00:00",
          "2022-11-01T00:00:00",
          "2022-12-01T00:00:00",
          "2023-01-01T00:00:00",
          "2023-02-01T00:00:00",
          "2023-03-01T00:00:00",
          "2023-04-01T00:00:00",
          "2023-05-01T00:00:00",
          "2023-06-01T00:00:00",
          "2023-07-01T00:00:00"
         ],
         "xaxis": "x",
         "y": [
          0.062661052,
          0.062659907,
          0.062660766,
          0.062570469,
          0.062660766,
          0.062658185,
          0.062661338,
          0.062660194,
          0.062660194,
          0.062743892,
          0.06266048,
          0.06266048,
          0.062661338,
          0.06266048,
          0.06265876,
          0.062574558,
          0.062661908,
          0.062660194,
          0.062053805,
          0.107534941,
          0.112370665,
          0.099756554,
          0.069554085,
          0.089747206,
          0.039618136,
          0.037596803,
          0.046423966,
          0.05012907,
          0.069129605,
          0.060572626,
          0.031330669,
          0.031330669,
          0.031330669,
          0.068474693,
          0.075193605,
          0.05012907,
          0.05012907,
          0.05012907,
          0.032341336,
          0.02502485,
          0.025064535,
          0.025064535,
          0.025064535,
          0.025064535,
          0.034672607,
          0.075299526,
          0.075193605,
          0.075193605,
          0.075193605,
          0.075193605,
          0.075193605,
          0.073835943,
          0.063672004,
          0.062661338,
          0.058214404,
          0.029915735,
          0.031330669,
          0.056474499,
          0.093574264,
          0.131588809,
          0.117439475,
          0.096677492,
          0.068927471,
          0.047109142,
          0.043850224,
          0.043850224,
          0.043847642,
          0.043854174,
          0.043854134,
          0.043919724,
          0.043854295,
          0.043850913,
          0.572649714,
          0.656024396,
          0.569088014,
          0.164975723,
          0.0501192,
          0.05011896,
          0.042439055,
          0.037589074,
          0.036961556,
          0.037437334,
          0.037588719,
          0.037585822,
          0.037579328,
          0.037580017,
          0.034549404,
          0.03758132,
          0.037579963,
          0.035700793,
          0.013132497
         ],
         "yaxis": "y"
        },
        {
         "hovertemplate": "Nombre_del_pozo=JUJO-852<br>Fecha=%{x}<br>Petróleo_(Mbd)=%{y}<extra></extra>",
         "legendgroup": "JUJO-852",
         "line": {
          "color": "#EF553B",
          "dash": "solid",
          "shape": "linear"
         },
         "marker": {
          "symbol": "circle"
         },
         "mode": "lines",
         "name": "JUJO-852",
         "showlegend": true,
         "type": "scattergl",
         "x": [
          "2016-01-01T00:00:00",
          "2016-02-01T00:00:00",
          "2016-03-01T00:00:00",
          "2016-04-01T00:00:00",
          "2016-05-01T00:00:00",
          "2016-06-01T00:00:00",
          "2016-07-01T00:00:00",
          "2016-08-01T00:00:00",
          "2016-09-01T00:00:00",
          "2016-10-01T00:00:00",
          "2016-11-01T00:00:00",
          "2016-12-01T00:00:00",
          "2017-01-01T00:00:00"
         ],
         "xaxis": "x",
         "y": [
          0.457425679,
          0.457417323,
          0.457423592,
          0.326226534,
          0.300771677,
          0.307442829,
          0.501290701,
          0.50128155,
          0.499610611,
          0.49784762,
          0.437787886,
          0.464496074,
          0.140078409
         ],
         "yaxis": "y"
        },
        {
         "hovertemplate": "Nombre_del_pozo=JUJO-13A<br>Fecha=%{x}<br>Petróleo_(Mbd)=%{y}<extra></extra>",
         "legendgroup": "JUJO-13A",
         "line": {
          "color": "#00cc96",
          "dash": "solid",
          "shape": "linear"
         },
         "marker": {
          "symbol": "circle"
         },
         "mode": "lines",
         "name": "JUJO-13A",
         "showlegend": true,
         "type": "scattergl",
         "x": [
          "2016-01-01T00:00:00",
          "2016-02-01T00:00:00",
          "2016-03-01T00:00:00"
         ],
         "xaxis": "x",
         "y": [
          0.031330526,
          0.031329954,
          0.01212789
         ],
         "yaxis": "y"
        },
        {
         "hovertemplate": "Nombre_del_pozo=JUJO-513A<br>Fecha=%{x}<br>Petróleo_(Mbd)=%{y}<extra></extra>",
         "legendgroup": "JUJO-513A",
         "line": {
          "color": "#ab63fa",
          "dash": "solid",
          "shape": "linear"
         },
         "marker": {
          "symbol": "circle"
         },
         "mode": "lines",
         "name": "JUJO-513A",
         "showlegend": true,
         "type": "scattergl",
         "x": [
          "2016-01-01T00:00:00",
          "2016-02-01T00:00:00",
          "2016-03-01T00:00:00",
          "2016-04-01T00:00:00",
          "2016-05-01T00:00:00",
          "2016-06-01T00:00:00",
          "2016-07-01T00:00:00",
          "2016-08-01T00:00:00",
          "2016-09-01T00:00:00",
          "2016-10-01T00:00:00",
          "2016-11-01T00:00:00",
          "2016-12-01T00:00:00"
         ],
         "xaxis": "x",
         "y": [
          0.919500403,
          0.902734802,
          0.664608382,
          0.304436516,
          0.231440571,
          0.337101037,
          0.269443752,
          0.269438833,
          0.231842717,
          0.150795813,
          0.105060738,
          0.044468728
         ],
         "yaxis": "y"
        },
        {
         "hovertemplate": "Nombre_del_pozo=JUJO-543<br>Fecha=%{x}<br>Petróleo_(Mbd)=%{y}<extra></extra>",
         "legendgroup": "JUJO-543",
         "line": {
          "color": "#FFA15A",
          "dash": "solid",
          "shape": "linear"
         },
         "marker": {
          "symbol": "circle"
         },
         "mode": "lines",
         "name": "JUJO-543",
         "showlegend": true,
         "type": "scattergl",
         "x": [
          "2016-01-01T00:00:00",
          "2016-02-01T00:00:00",
          "2016-03-01T00:00:00",
          "2016-04-01T00:00:00",
          "2016-05-01T00:00:00",
          "2016-06-01T00:00:00",
          "2016-07-01T00:00:00",
          "2016-08-01T00:00:00",
          "2016-09-01T00:00:00",
          "2016-10-01T00:00:00",
          "2016-11-01T00:00:00",
          "2016-12-01T00:00:00",
          "2017-01-01T00:00:00",
          "2017-02-01T00:00:00",
          "2017-03-01T00:00:00",
          "2017-04-01T00:00:00",
          "2017-05-01T00:00:00",
          "2017-06-01T00:00:00",
          "2017-07-01T00:00:00",
          "2017-08-01T00:00:00",
          "2017-09-01T00:00:00",
          "2017-10-01T00:00:00",
          "2017-11-01T00:00:00",
          "2017-12-01T00:00:00",
          "2018-01-01T00:00:00",
          "2018-02-01T00:00:00",
          "2018-03-01T00:00:00",
          "2018-04-01T00:00:00",
          "2018-05-01T00:00:00",
          "2018-06-01T00:00:00",
          "2018-07-01T00:00:00",
          "2018-08-01T00:00:00",
          "2018-09-01T00:00:00",
          "2018-10-01T00:00:00",
          "2018-11-01T00:00:00",
          "2018-12-01T00:00:00",
          "2019-01-01T00:00:00",
          "2019-02-01T00:00:00",
          "2019-03-01T00:00:00",
          "2019-04-01T00:00:00",
          "2019-05-01T00:00:00",
          "2019-06-01T00:00:00",
          "2019-07-01T00:00:00",
          "2019-08-01T00:00:00",
          "2019-09-01T00:00:00",
          "2019-10-01T00:00:00",
          "2019-11-01T00:00:00",
          "2019-12-01T00:00:00",
          "2020-01-01T00:00:00",
          "2020-02-01T00:00:00",
          "2020-03-01T00:00:00",
          "2020-04-01T00:00:00",
          "2020-05-01T00:00:00",
          "2020-06-01T00:00:00",
          "2020-07-01T00:00:00",
          "2020-08-01T00:00:00",
          "2020-09-01T00:00:00",
          "2020-10-01T00:00:00"
         ],
         "xaxis": "x",
         "y": [
          0.363434101,
          0.39410921,
          0.502094654,
          0.509850104,
          0.499669076,
          0.455733867,
          0.38890456,
          0.540696833,
          0.436532683,
          0.394073738,
          0.530943133,
          0.502496623,
          0.457225631,
          0.463687551,
          0.463674824,
          0.463050477,
          0.50372089,
          0.531149575,
          0.531600998,
          0.496237367,
          0.571461228,
          0.497266744,
          0.518835875,
          0.621560042,
          0.431554696,
          0.54649638,
          0.542315685,
          0.38056319,
          0.424682162,
          0.377638994,
          0.441257097,
          0.493811767,
          0.479359232,
          0.491657025,
          0.466618094,
          0.388500293,
          0.364042158,
          0.320915565,
          0.336147756,
          0.311729711,
          0.35150989,
          0.417533379,
          0.408511494,
          0.405883761,
          0.348605908,
          0.301426719,
          0.312262332,
          0.313710955,
          0.317349355,
          0.304231598,
          0.317147221,
          0.29334209,
          0.29895522,
          0.279469566,
          0.335137089,
          0.314115221,
          0.336073641,
          0.195472267
         ],
         "yaxis": "y"
        },
        {
         "hovertemplate": "Nombre_del_pozo=JUJO-58<br>Fecha=%{x}<br>Petróleo_(Mbd)=%{y}<extra></extra>",
         "legendgroup": "JUJO-58",
         "line": {
          "color": "#19d3f3",
          "dash": "solid",
          "shape": "linear"
         },
         "marker": {
          "symbol": "circle"
         },
         "mode": "lines",
         "name": "JUJO-58",
         "showlegend": true,
         "type": "scattergl",
         "x": [
          "2016-01-01T00:00:00",
          "2016-02-01T00:00:00",
          "2016-03-01T00:00:00",
          "2016-04-01T00:00:00",
          "2016-05-01T00:00:00",
          "2016-06-01T00:00:00",
          "2016-07-01T00:00:00",
          "2016-08-01T00:00:00",
          "2016-09-01T00:00:00",
          "2016-10-01T00:00:00",
          "2016-11-01T00:00:00",
          "2016-12-01T00:00:00",
          "2017-01-01T00:00:00",
          "2017-02-01T00:00:00",
          "2017-03-01T00:00:00",
          "2017-04-01T00:00:00",
          "2017-05-01T00:00:00",
          "2017-06-01T00:00:00",
          "2017-07-01T00:00:00",
          "2017-08-01T00:00:00",
          "2017-09-01T00:00:00",
          "2017-10-01T00:00:00",
          "2017-11-01T00:00:00",
          "2017-12-01T00:00:00",
          "2018-01-01T00:00:00",
          "2018-02-01T00:00:00",
          "2018-03-01T00:00:00",
          "2018-04-01T00:00:00",
          "2018-05-01T00:00:00",
          "2018-06-01T00:00:00",
          "2018-07-01T00:00:00",
          "2018-08-01T00:00:00",
          "2018-09-01T00:00:00",
          "2018-10-01T00:00:00",
          "2018-11-01T00:00:00",
          "2018-12-01T00:00:00",
          "2019-01-01T00:00:00",
          "2019-09-01T00:00:00",
          "2019-10-01T00:00:00"
         ],
         "xaxis": "x",
         "y": [
          0.100257683,
          0.100255852,
          0.100257226,
          0.10011275,
          0.054979769,
          0.130329025,
          0.20051628,
          0.20051262,
          0.20051262,
          0.20051443,
          0.192994278,
          0.200513536,
          0.20051628,
          0.200513536,
          0.175242403,
          0.200930354,
          0.153420608,
          0.137852426,
          0.157863262,
          0.128758942,
          0.122814036,
          0.128941072,
          0.131588809,
          0.130376009,
          0.011521601,
          0.104286369,
          0.122122904,
          0.125322675,
          0.124312008,
          0.147880757,
          0.129567475,
          0.153823477,
          0.135766231,
          0.123463048,
          0.043445194,
          0.050533337,
          0.026883735,
          0.065585533,
          0.009702401
         ],
         "yaxis": "y"
        },
        {
         "hovertemplate": "Nombre_del_pozo=JUJO-36A<br>Fecha=%{x}<br>Petróleo_(Mbd)=%{y}<extra></extra>",
         "legendgroup": "JUJO-36A",
         "line": {
          "color": "#FF6692",
          "dash": "solid",
          "shape": "linear"
         },
         "marker": {
          "symbol": "circle"
         },
         "mode": "lines",
         "name": "JUJO-36A",
         "showlegend": true,
         "type": "scattergl",
         "x": [
          "2016-01-01T00:00:00",
          "2016-02-01T00:00:00",
          "2016-03-01T00:00:00",
          "2016-04-01T00:00:00",
          "2016-05-01T00:00:00",
          "2016-06-01T00:00:00",
          "2016-07-01T00:00:00",
          "2016-08-01T00:00:00",
          "2016-09-01T00:00:00",
          "2016-10-01T00:00:00",
          "2016-11-01T00:00:00",
          "2016-12-01T00:00:00",
          "2017-01-01T00:00:00",
          "2017-02-01T00:00:00",
          "2017-03-01T00:00:00",
          "2017-04-01T00:00:00",
          "2017-05-01T00:00:00",
          "2017-06-01T00:00:00",
          "2017-07-01T00:00:00",
          "2017-08-01T00:00:00",
          "2017-09-01T00:00:00",
          "2017-10-01T00:00:00",
          "2017-11-01T00:00:00",
          "2017-12-01T00:00:00",
          "2018-01-01T00:00:00",
          "2018-02-01T00:00:00",
          "2018-03-01T00:00:00",
          "2018-04-01T00:00:00",
          "2018-05-01T00:00:00",
          "2018-06-01T00:00:00",
          "2018-07-01T00:00:00",
          "2018-08-01T00:00:00",
          "2018-09-01T00:00:00",
          "2018-10-01T00:00:00",
          "2018-11-01T00:00:00",
          "2018-12-01T00:00:00",
          "2019-01-01T00:00:00",
          "2019-02-01T00:00:00",
          "2019-03-01T00:00:00",
          "2019-04-01T00:00:00",
          "2019-05-01T00:00:00",
          "2019-06-01T00:00:00",
          "2019-07-01T00:00:00",
          "2019-08-01T00:00:00",
          "2019-09-01T00:00:00",
          "2019-10-01T00:00:00",
          "2019-11-01T00:00:00",
          "2019-12-01T00:00:00",
          "2020-01-01T00:00:00",
          "2020-02-01T00:00:00",
          "2020-03-01T00:00:00",
          "2020-04-01T00:00:00",
          "2020-05-01T00:00:00",
          "2020-06-01T00:00:00",
          "2020-07-01T00:00:00",
          "2020-08-01T00:00:00",
          "2020-09-01T00:00:00",
          "2020-10-01T00:00:00",
          "2020-11-01T00:00:00",
          "2020-12-01T00:00:00",
          "2021-01-01T00:00:00",
          "2021-02-01T00:00:00",
          "2021-03-01T00:00:00",
          "2021-04-01T00:00:00",
          "2021-05-01T00:00:00",
          "2021-06-01T00:00:00",
          "2021-07-01T00:00:00",
          "2021-08-01T00:00:00",
          "2021-09-01T00:00:00",
          "2021-10-01T00:00:00",
          "2021-11-01T00:00:00",
          "2021-12-01T00:00:00",
          "2022-01-01T00:00:00",
          "2022-02-01T00:00:00",
          "2022-03-01T00:00:00",
          "2022-04-01T00:00:00",
          "2022-05-01T00:00:00",
          "2022-06-01T00:00:00",
          "2022-07-01T00:00:00",
          "2022-08-01T00:00:00",
          "2023-08-01T00:00:00",
          "2023-09-01T00:00:00",
          "2023-10-01T00:00:00",
          "2023-11-01T00:00:00",
          "2023-12-01T00:00:00",
          "2024-01-01T00:00:00"
         ],
         "xaxis": "x",
         "y": [
          0.081459367,
          0.103064744,
          0.206780528,
          0.206482546,
          0.206780528,
          0.206772011,
          0.134822942,
          0.068926213,
          0.147042588,
          0.175682898,
          0.175449344,
          0.175449344,
          0.141493343,
          0.169183296,
          0.141487522,
          0.225267574,
          0.225582871,
          0.225576697,
          0.225576697,
          0.182930679,
          0.125320445,
          0.12328124,
          0.131588809,
          0.205165347,
          0.061448537,
          0.131812599,
          0.225277615,
          0.225580815,
          0.225580815,
          0.213257419,
          0.258124284,
          0.225580815,
          0.199263053,
          0.192020616,
          0.227878398,
          0.238113083,
          0.186366946,
          0.181717879,
          0.171611212,
          0.172082654,
          0.184749879,
          0.201978378,
          0.15402561,
          0.158674677,
          0.158950926,
          0.147988973,
          0.112790408,
          0.112790408,
          0.112790408,
          0.132453103,
          0.165547211,
          0.039415722,
          0.126737609,
          0.164799318,
          0.144121076,
          0.123907742,
          0.169185611,
          0.239625442,
          0.211377579,
          0.213048548,
          0.210016548,
          0.213048548,
          0.180302946,
          0.122154797,
          0.150343627,
          0.150343627,
          0.150334774,
          0.150357169,
          0.145136301,
          0.120647976,
          0.160799082,
          0.123267545,
          0.150537769,
          0.136037801,
          0.131561185,
          0.131285677,
          0.131562901,
          0.126341544,
          0.119031444,
          0.061435906,
          0.116775379,
          0.129438655,
          0.125269259,
          0.125263214,
          0.133137326,
          0.132335864
         ],
         "yaxis": "y"
        },
        {
         "hovertemplate": "Nombre_del_pozo=JUJO-863<br>Fecha=%{x}<br>Petróleo_(Mbd)=%{y}<extra></extra>",
         "legendgroup": "JUJO-863",
         "line": {
          "color": "#B6E880",
          "dash": "solid",
          "shape": "linear"
         },
         "marker": {
          "symbol": "circle"
         },
         "mode": "lines",
         "name": "JUJO-863",
         "showlegend": true,
         "type": "scattergl",
         "x": [
          "2016-01-01T00:00:00",
          "2016-02-01T00:00:00",
          "2016-03-01T00:00:00",
          "2016-04-01T00:00:00",
          "2016-05-01T00:00:00",
          "2016-06-01T00:00:00",
          "2016-07-01T00:00:00",
          "2016-08-01T00:00:00",
          "2016-09-01T00:00:00",
          "2016-10-01T00:00:00"
         ],
         "xaxis": "x",
         "y": [
          0.388296389,
          0.370557728,
          0.278537211,
          0.294081202,
          0.29854823,
          0.162911282,
          0.177068812,
          0.1942466,
          0.13910563,
          0.004042612
         ],
         "yaxis": "y"
        },
        {
         "hovertemplate": "Nombre_del_pozo=JUJO-701<br>Fecha=%{x}<br>Petróleo_(Mbd)=%{y}<extra></extra>",
         "legendgroup": "JUJO-701",
         "line": {
          "color": "#FF97FF",
          "dash": "solid",
          "shape": "linear"
         },
         "marker": {
          "symbol": "circle"
         },
         "mode": "lines",
         "name": "JUJO-701",
         "showlegend": true,
         "type": "scattergl",
         "x": [
          "2016-01-01T00:00:00",
          "2017-04-01T00:00:00",
          "2017-05-01T00:00:00",
          "2017-06-01T00:00:00",
          "2017-07-01T00:00:00",
          "2017-08-01T00:00:00",
          "2017-09-01T00:00:00",
          "2017-10-01T00:00:00",
          "2017-11-01T00:00:00",
          "2017-12-01T00:00:00"
         ],
         "xaxis": "x",
         "y": [
          0.004851178,
          0.093990291,
          0.059427745,
          0.062660194,
          0.062660194,
          0.057405871,
          0.072894725,
          0.058502445,
          0.062661338,
          0.014957868
         ],
         "yaxis": "y"
        },
        {
         "hovertemplate": "Nombre_del_pozo=JUJO-612<br>Fecha=%{x}<br>Petróleo_(Mbd)=%{y}<extra></extra>",
         "legendgroup": "JUJO-612",
         "line": {
          "color": "#FECB52",
          "dash": "solid",
          "shape": "linear"
         },
         "marker": {
          "symbol": "circle"
         },
         "mode": "lines",
         "name": "JUJO-612",
         "showlegend": true,
         "type": "scattergl",
         "x": [
          "2016-01-01T00:00:00",
          "2016-02-01T00:00:00",
          "2016-03-01T00:00:00",
          "2016-04-01T00:00:00",
          "2016-05-01T00:00:00",
          "2016-06-01T00:00:00",
          "2016-07-01T00:00:00",
          "2016-08-01T00:00:00",
          "2016-09-01T00:00:00",
          "2016-10-01T00:00:00",
          "2016-11-01T00:00:00",
          "2016-12-01T00:00:00",
          "2017-01-01T00:00:00",
          "2017-02-01T00:00:00",
          "2017-03-01T00:00:00",
          "2017-04-01T00:00:00",
          "2017-05-01T00:00:00",
          "2017-06-01T00:00:00",
          "2017-07-01T00:00:00",
          "2017-08-01T00:00:00",
          "2017-09-01T00:00:00",
          "2017-10-01T00:00:00",
          "2017-11-01T00:00:00",
          "2017-12-01T00:00:00",
          "2018-01-01T00:00:00",
          "2018-02-01T00:00:00",
          "2018-03-01T00:00:00",
          "2018-04-01T00:00:00",
          "2018-05-01T00:00:00",
          "2018-06-01T00:00:00",
          "2018-07-01T00:00:00",
          "2018-08-01T00:00:00",
          "2018-09-01T00:00:00",
          "2018-10-01T00:00:00",
          "2018-11-01T00:00:00",
          "2018-12-01T00:00:00",
          "2019-01-01T00:00:00",
          "2019-02-01T00:00:00",
          "2019-03-01T00:00:00",
          "2019-04-01T00:00:00",
          "2019-05-01T00:00:00",
          "2019-06-01T00:00:00",
          "2019-07-01T00:00:00",
          "2019-08-01T00:00:00",
          "2019-09-01T00:00:00",
          "2019-10-01T00:00:00",
          "2019-11-01T00:00:00",
          "2019-12-01T00:00:00",
          "2020-01-01T00:00:00",
          "2020-02-01T00:00:00",
          "2020-03-01T00:00:00",
          "2020-04-01T00:00:00",
          "2020-05-01T00:00:00",
          "2020-06-01T00:00:00",
          "2020-07-01T00:00:00",
          "2020-08-01T00:00:00",
          "2020-09-01T00:00:00",
          "2020-10-01T00:00:00",
          "2020-11-01T00:00:00",
          "2020-12-01T00:00:00",
          "2021-01-01T00:00:00",
          "2021-02-01T00:00:00",
          "2021-03-01T00:00:00",
          "2021-04-01T00:00:00",
          "2021-05-01T00:00:00",
          "2021-06-01T00:00:00",
          "2021-07-01T00:00:00",
          "2021-08-01T00:00:00",
          "2021-09-01T00:00:00",
          "2021-10-01T00:00:00",
          "2021-11-01T00:00:00",
          "2021-12-01T00:00:00",
          "2022-01-01T00:00:00",
          "2022-02-01T00:00:00",
          "2022-03-01T00:00:00",
          "2022-04-01T00:00:00",
          "2022-05-01T00:00:00",
          "2022-06-01T00:00:00",
          "2022-07-01T00:00:00",
          "2022-08-01T00:00:00",
          "2022-09-01T00:00:00",
          "2022-10-01T00:00:00",
          "2022-11-01T00:00:00",
          "2022-12-01T00:00:00",
          "2023-01-01T00:00:00",
          "2023-02-01T00:00:00",
          "2023-03-01T00:00:00",
          "2023-04-01T00:00:00",
          "2023-05-01T00:00:00",
          "2023-06-01T00:00:00",
          "2023-07-01T00:00:00",
          "2023-08-01T00:00:00",
          "2023-09-01T00:00:00",
          "2023-10-01T00:00:00",
          "2023-11-01T00:00:00",
          "2023-12-01T00:00:00",
          "2024-01-01T00:00:00"
         ],
         "xaxis": "x",
         "y": [
          0.463691784,
          0.463683314,
          0.473796243,
          0.494306701,
          0.495020051,
          0.494999663,
          0.495024567,
          0.49501553,
          0.49501553,
          0.518314007,
          0.64456747,
          0.719786997,
          0.745669917,
          0.907010447,
          0.900669143,
          0.967682258,
          0.827945733,
          0.883508731,
          0.821657056,
          0.725860849,
          0.582322333,
          0.660732788,
          0.700762625,
          0.674316846,
          0.78811792,
          0.516508454,
          0.692921199,
          0.745669917,
          0.668050712,
          0.634341607,
          0.666837912,
          0.612261908,
          0.626195634,
          0.627466379,
          0.609068201,
          0.611857641,
          0.448938164,
          0.76066388,
          0.730509916,
          0.712068819,
          0.723030982,
          0.743998948,
          0.760425652,
          0.700796314,
          0.668805343,
          0.667378111,
          0.658779529,
          0.653901378,
          0.615698175,
          0.616890065,
          0.645209644,
          0.543735054,
          0.581133373,
          0.513822968,
          0.58517604,
          0.59427204,
          0.580243986,
          0.432575702,
          0.475808423,
          0.4940139,
          0.545557904,
          0.56037139,
          0.490779767,
          0.526668544,
          0.576519311,
          0.550215912,
          0.261469351,
          0.451071508,
          0.451071093,
          0.447694479,
          0.43854295,
          0.401326793,
          0.435246113,
          0.457337608,
          0.457331738,
          0.446060941,
          0.432884383,
          0.417866826,
          0.412063014,
          0.413479813,
          0.40803887,
          0.404324893,
          0.389460894,
          0.380505931,
          0.398421691,
          0.382958272,
          0.335795963,
          0.330089258,
          0.106274519,
          0.21149066,
          0.325685933,
          0.325678046,
          0.324849269,
          0.322669366,
          0.306894875,
          0.342508353,
          0.341287202
         ],
         "yaxis": "y"
        },
        {
         "hovertemplate": "Nombre_del_pozo=JUJO-547<br>Fecha=%{x}<br>Petróleo_(Mbd)=%{y}<extra></extra>",
         "legendgroup": "JUJO-547",
         "line": {
          "color": "#636efa",
          "dash": "solid",
          "shape": "linear"
         },
         "marker": {
          "symbol": "circle"
         },
         "mode": "lines",
         "name": "JUJO-547",
         "showlegend": true,
         "type": "scattergl",
         "x": [
          "2016-01-01T00:00:00",
          "2016-02-01T00:00:00",
          "2016-03-01T00:00:00",
          "2016-04-01T00:00:00",
          "2016-05-01T00:00:00",
          "2016-06-01T00:00:00",
          "2016-07-01T00:00:00",
          "2016-08-01T00:00:00",
          "2016-09-01T00:00:00",
          "2016-10-01T00:00:00",
          "2016-11-01T00:00:00",
          "2016-12-01T00:00:00",
          "2017-01-01T00:00:00",
          "2017-02-01T00:00:00",
          "2017-03-01T00:00:00",
          "2017-04-01T00:00:00",
          "2017-05-01T00:00:00",
          "2017-06-01T00:00:00",
          "2017-07-01T00:00:00",
          "2017-08-01T00:00:00",
          "2017-09-01T00:00:00",
          "2017-10-01T00:00:00",
          "2017-11-01T00:00:00",
          "2017-12-01T00:00:00",
          "2018-01-01T00:00:00",
          "2018-02-01T00:00:00",
          "2018-03-01T00:00:00",
          "2018-04-01T00:00:00",
          "2018-05-01T00:00:00",
          "2018-06-01T00:00:00",
          "2018-07-01T00:00:00",
          "2018-08-01T00:00:00",
          "2018-09-01T00:00:00",
          "2018-10-01T00:00:00",
          "2018-11-01T00:00:00",
          "2018-12-01T00:00:00",
          "2019-01-01T00:00:00",
          "2019-02-01T00:00:00",
          "2019-03-01T00:00:00",
          "2019-04-01T00:00:00",
          "2019-05-01T00:00:00",
          "2019-06-01T00:00:00",
          "2019-07-01T00:00:00",
          "2019-08-01T00:00:00",
          "2019-09-01T00:00:00",
          "2019-10-01T00:00:00",
          "2019-11-01T00:00:00",
          "2019-12-01T00:00:00",
          "2020-01-01T00:00:00",
          "2020-02-01T00:00:00",
          "2020-03-01T00:00:00",
          "2020-04-01T00:00:00",
          "2020-05-01T00:00:00",
          "2020-06-01T00:00:00",
          "2020-07-01T00:00:00",
          "2020-08-01T00:00:00",
          "2020-09-01T00:00:00",
          "2020-10-01T00:00:00",
          "2020-11-01T00:00:00",
          "2020-12-01T00:00:00",
          "2021-01-01T00:00:00",
          "2021-02-01T00:00:00",
          "2021-03-01T00:00:00",
          "2021-04-01T00:00:00",
          "2021-05-01T00:00:00",
          "2021-06-01T00:00:00",
          "2021-07-01T00:00:00",
          "2021-08-01T00:00:00",
          "2021-09-01T00:00:00",
          "2021-10-01T00:00:00",
          "2021-11-01T00:00:00",
          "2021-12-01T00:00:00",
          "2022-01-01T00:00:00",
          "2022-02-01T00:00:00",
          "2022-03-01T00:00:00",
          "2022-04-01T00:00:00",
          "2022-05-01T00:00:00",
          "2022-06-01T00:00:00",
          "2022-07-01T00:00:00",
          "2022-08-01T00:00:00",
          "2022-09-01T00:00:00",
          "2022-10-01T00:00:00",
          "2022-11-01T00:00:00",
          "2022-12-01T00:00:00",
          "2023-01-01T00:00:00",
          "2023-02-01T00:00:00",
          "2023-03-01T00:00:00",
          "2023-04-01T00:00:00",
          "2023-05-01T00:00:00",
          "2023-06-01T00:00:00",
          "2023-07-01T00:00:00",
          "2023-08-01T00:00:00",
          "2023-09-01T00:00:00",
          "2023-10-01T00:00:00",
          "2023-11-01T00:00:00",
          "2023-12-01T00:00:00",
          "2024-01-01T00:00:00"
         ],
         "xaxis": "x",
         "y": [
          0.150386524,
          0.150383777,
          0.166556359,
          0.250281874,
          0.234472544,
          0.12531637,
          0.125322675,
          0.125320387,
          0.125320387,
          0.125487784,
          0.12532096,
          0.193236835,
          0.225580815,
          0.219759255,
          0.161902151,
          0.18146601,
          0.181719535,
          0.132004141,
          0.183533729,
          0.179898679,
          0.168555998,
          0.12328124,
          0.131588809,
          0.131588809,
          0.215676281,
          0.231846949,
          0.19158805,
          0.20051628,
          0.225580815,
          0.225580815,
          0.225580815,
          0.225580815,
          0.110075083,
          0.206246761,
          0.166888029,
          0.106524274,
          0.091364273,
          0.064899242,
          0.075193605,
          0.07340358,
          0.025064535,
          0.024646793,
          0.024660268,
          0.041639469,
          0.075193605,
          0.078533661,
          0.174825132,
          0.175451745,
          0.117237341,
          0.128563779,
          0.147759477,
          0.088430813,
          0.120875742,
          0.151222695,
          0.179494412,
          0.136035743,
          0.130544453,
          0.139472519,
          0.142450107,
          0.144121076,
          0.144121076,
          0.144121076,
          0.130780276,
          0.131406047,
          0.107301701,
          0.100229085,
          0.100223182,
          0.085889512,
          0.106502897,
          0.106662187,
          0.103788498,
          0.087903905,
          0.184080413,
          0.27655053,
          0.301721735,
          0.192076819,
          0.099227933,
          0.087708179,
          0.082453021,
          0.081442993,
          0.081440716,
          0.077703941,
          0.075177438,
          0.075171644,
          0.075158656,
          0.075160035,
          0.069098808,
          0.075162639,
          0.075159926,
          0.075159563,
          0.075158292,
          0.075156472,
          0.075157929,
          0.075161555,
          0.075157929,
          0.083935092,
          0.083580539
         ],
         "yaxis": "y"
        },
        {
         "hovertemplate": "Nombre_del_pozo=JUJO-506<br>Fecha=%{x}<br>Petróleo_(Mbd)=%{y}<extra></extra>",
         "legendgroup": "JUJO-506",
         "line": {
          "color": "#EF553B",
          "dash": "solid",
          "shape": "linear"
         },
         "marker": {
          "symbol": "circle"
         },
         "mode": "lines",
         "name": "JUJO-506",
         "showlegend": true,
         "type": "scattergl",
         "x": [
          "2016-01-01T00:00:00",
          "2016-02-01T00:00:00",
          "2016-03-01T00:00:00",
          "2016-04-01T00:00:00",
          "2016-05-01T00:00:00",
          "2016-06-01T00:00:00",
          "2016-07-01T00:00:00",
          "2016-08-01T00:00:00",
          "2016-09-01T00:00:00",
          "2016-10-01T00:00:00",
          "2016-11-01T00:00:00",
          "2016-12-01T00:00:00",
          "2017-01-01T00:00:00",
          "2017-02-01T00:00:00",
          "2017-07-01T00:00:00",
          "2017-08-01T00:00:00",
          "2017-09-01T00:00:00",
          "2017-10-01T00:00:00",
          "2017-11-01T00:00:00",
          "2017-12-01T00:00:00",
          "2018-01-01T00:00:00",
          "2018-02-01T00:00:00",
          "2018-03-01T00:00:00",
          "2018-04-01T00:00:00",
          "2018-05-01T00:00:00",
          "2018-06-01T00:00:00",
          "2018-07-01T00:00:00",
          "2018-08-01T00:00:00",
          "2018-09-01T00:00:00",
          "2018-10-01T00:00:00",
          "2018-11-01T00:00:00",
          "2018-12-01T00:00:00",
          "2019-01-01T00:00:00",
          "2019-02-01T00:00:00",
          "2019-03-01T00:00:00",
          "2019-04-01T00:00:00",
          "2019-05-01T00:00:00",
          "2019-06-01T00:00:00",
          "2019-07-01T00:00:00",
          "2019-08-01T00:00:00",
          "2019-09-01T00:00:00",
          "2019-10-01T00:00:00",
          "2019-11-01T00:00:00",
          "2019-12-01T00:00:00",
          "2020-01-01T00:00:00",
          "2020-02-01T00:00:00",
          "2020-03-01T00:00:00",
          "2020-04-01T00:00:00",
          "2020-05-01T00:00:00",
          "2020-06-01T00:00:00",
          "2020-07-01T00:00:00",
          "2020-08-01T00:00:00",
          "2020-09-01T00:00:00",
          "2020-10-01T00:00:00",
          "2020-11-01T00:00:00",
          "2020-12-01T00:00:00",
          "2021-01-01T00:00:00",
          "2021-02-01T00:00:00",
          "2021-03-01T00:00:00"
         ],
         "xaxis": "x",
         "y": [
          0.025064421,
          0.025063963,
          0.025064306,
          0.025028187,
          0.025064306,
          0.025063274,
          0.025064535,
          0.025064077,
          0.025064077,
          0.025097557,
          0.025064192,
          0.059022129,
          0.075193605,
          0.016112695,
          0.085298715,
          0.075193605,
          0.075192267,
          0.075297996,
          0.075193605,
          0.049926937,
          0.043862936,
          0.043862936,
          0.043804318,
          0.043862936,
          0.036181869,
          0.055977462,
          0.060640004,
          0.074789338,
          0.067674245,
          0.055243044,
          0.043862936,
          0.043862936,
          0.05376747,
          0.085935549,
          0.075193605,
          0.075074549,
          0.075193605,
          0.056395204,
          0.041235203,
          0.043862936,
          0.043862936,
          0.043924724,
          0.043862936,
          0.043862936,
          0.043862936,
          0.043862936,
          0.043862936,
          0.043802015,
          0.049724803,
          0.068927471,
          0.05316107,
          0.008691734,
          0.006266134,
          0.006274944,
          0.007937103,
          0.012532268,
          0.012532268,
          0.012532268,
          0.012128001
         ],
         "yaxis": "y"
        },
        {
         "hovertemplate": "Nombre_del_pozo=JUJO-502A<br>Fecha=%{x}<br>Petróleo_(Mbd)=%{y}<extra></extra>",
         "legendgroup": "JUJO-502A",
         "line": {
          "color": "#00cc96",
          "dash": "solid",
          "shape": "linear"
         },
         "marker": {
          "symbol": "circle"
         },
         "mode": "lines",
         "name": "JUJO-502A",
         "showlegend": true,
         "type": "scattergl",
         "x": [
          "2016-01-01T00:00:00",
          "2016-02-01T00:00:00",
          "2016-03-01T00:00:00",
          "2016-04-01T00:00:00",
          "2016-05-01T00:00:00",
          "2016-06-01T00:00:00",
          "2016-07-01T00:00:00",
          "2016-08-01T00:00:00",
          "2016-09-01T00:00:00",
          "2016-10-01T00:00:00",
          "2016-11-01T00:00:00",
          "2016-12-01T00:00:00",
          "2017-01-01T00:00:00",
          "2017-02-01T00:00:00",
          "2017-03-01T00:00:00",
          "2017-04-01T00:00:00",
          "2017-05-01T00:00:00",
          "2017-06-01T00:00:00",
          "2017-07-01T00:00:00",
          "2017-10-01T00:00:00",
          "2017-11-01T00:00:00",
          "2017-12-01T00:00:00",
          "2018-01-01T00:00:00",
          "2018-02-01T00:00:00",
          "2018-03-01T00:00:00",
          "2018-05-01T00:00:00",
          "2018-06-01T00:00:00",
          "2018-07-01T00:00:00",
          "2018-08-01T00:00:00",
          "2018-09-01T00:00:00",
          "2018-10-01T00:00:00",
          "2018-11-01T00:00:00",
          "2018-12-01T00:00:00",
          "2019-01-01T00:00:00",
          "2020-01-01T00:00:00"
         ],
         "xaxis": "x",
         "y": [
          0.119258131,
          0.006049922,
          0.211025289,
          0.157373986,
          0.144119762,
          0.110696127,
          0.043862936,
          0.043862136,
          0.043862136,
          0.043920725,
          0.043235731,
          0.043862336,
          0.043862936,
          0.043862336,
          0.043861132,
          0.043801564,
          0.043863336,
          0.043862136,
          0.013138428,
          0.019405137,
          0.10025814,
          0.10025814,
          0.09965174,
          0.083921434,
          0.035575469,
          0.034160536,
          0.044907292,
          0.09176854,
          0.058820804,
          0.029868571,
          0.01664366,
          0.082712966,
          0.084289606,
          0.047905603,
          0.0048512
         ],
         "yaxis": "y"
        },
        {
         "hovertemplate": "Nombre_del_pozo=JUJO-38<br>Fecha=%{x}<br>Petróleo_(Mbd)=%{y}<extra></extra>",
         "legendgroup": "JUJO-38",
         "line": {
          "color": "#ab63fa",
          "dash": "solid",
          "shape": "linear"
         },
         "marker": {
          "symbol": "circle"
         },
         "mode": "lines",
         "name": "JUJO-38",
         "showlegend": true,
         "type": "scattergl",
         "x": [
          "2016-01-01T00:00:00",
          "2016-02-01T00:00:00",
          "2016-03-01T00:00:00",
          "2016-04-01T00:00:00",
          "2016-05-01T00:00:00",
          "2016-06-01T00:00:00",
          "2016-07-01T00:00:00",
          "2016-08-01T00:00:00",
          "2016-09-01T00:00:00",
          "2016-10-01T00:00:00",
          "2016-11-01T00:00:00",
          "2016-12-01T00:00:00",
          "2017-01-01T00:00:00",
          "2017-02-01T00:00:00",
          "2017-03-01T00:00:00",
          "2017-04-01T00:00:00",
          "2017-05-01T00:00:00",
          "2017-06-01T00:00:00",
          "2017-07-01T00:00:00",
          "2017-08-01T00:00:00",
          "2017-09-01T00:00:00",
          "2017-10-01T00:00:00",
          "2017-11-01T00:00:00",
          "2017-12-01T00:00:00",
          "2018-02-01T00:00:00",
          "2018-03-01T00:00:00",
          "2018-04-01T00:00:00",
          "2018-05-01T00:00:00",
          "2018-06-01T00:00:00",
          "2018-07-01T00:00:00",
          "2018-08-01T00:00:00",
          "2018-09-01T00:00:00",
          "2018-10-01T00:00:00",
          "2018-11-01T00:00:00",
          "2018-12-01T00:00:00",
          "2019-01-01T00:00:00",
          "2019-02-01T00:00:00",
          "2019-03-01T00:00:00",
          "2019-04-01T00:00:00",
          "2019-05-01T00:00:00",
          "2019-06-01T00:00:00",
          "2019-07-01T00:00:00",
          "2019-08-01T00:00:00",
          "2019-09-01T00:00:00",
          "2019-10-01T00:00:00",
          "2019-11-01T00:00:00",
          "2019-12-01T00:00:00",
          "2020-01-01T00:00:00",
          "2020-02-01T00:00:00",
          "2020-03-01T00:00:00",
          "2020-04-01T00:00:00",
          "2020-05-01T00:00:00",
          "2020-06-01T00:00:00",
          "2020-07-01T00:00:00",
          "2020-08-01T00:00:00",
          "2020-09-01T00:00:00",
          "2020-10-01T00:00:00",
          "2020-11-01T00:00:00",
          "2020-12-01T00:00:00",
          "2021-01-01T00:00:00",
          "2021-02-01T00:00:00",
          "2021-03-01T00:00:00",
          "2021-04-01T00:00:00",
          "2021-05-01T00:00:00",
          "2021-06-01T00:00:00",
          "2021-07-01T00:00:00",
          "2021-08-01T00:00:00",
          "2021-09-01T00:00:00",
          "2021-10-01T00:00:00",
          "2021-11-01T00:00:00",
          "2021-12-01T00:00:00",
          "2022-01-01T00:00:00",
          "2022-02-01T00:00:00",
          "2022-03-01T00:00:00",
          "2022-04-01T00:00:00",
          "2022-05-01T00:00:00",
          "2022-06-01T00:00:00",
          "2022-07-01T00:00:00",
          "2022-08-01T00:00:00",
          "2022-09-01T00:00:00",
          "2022-10-01T00:00:00",
          "2022-11-01T00:00:00",
          "2022-12-01T00:00:00",
          "2023-01-01T00:00:00",
          "2023-02-01T00:00:00",
          "2023-03-01T00:00:00",
          "2023-04-01T00:00:00",
          "2023-05-01T00:00:00",
          "2023-06-01T00:00:00",
          "2023-07-01T00:00:00",
          "2023-08-01T00:00:00",
          "2023-09-01T00:00:00",
          "2023-10-01T00:00:00",
          "2023-11-01T00:00:00",
          "2023-12-01T00:00:00",
          "2024-01-01T00:00:00"
         ],
         "xaxis": "x",
         "y": [
          0.128151958,
          0.137851796,
          0.137853685,
          0.137655031,
          0.137853685,
          0.137848008,
          0.137854943,
          0.137852426,
          0.137852426,
          0.131366254,
          0.137853056,
          0.137853056,
          0.137854943,
          0.134496244,
          0.137849272,
          0.137664446,
          0.143718119,
          0.158112555,
          0.168778264,
          0.169185611,
          0.166049589,
          0.150794086,
          0.139943654,
          0.108747741,
          0.122189608,
          0.120875742,
          0.156235602,
          0.183537079,
          0.125113804,
          0.188186146,
          0.164132278,
          0.15038721,
          0.105311474,
          0.120309768,
          0.129163209,
          0.036181869,
          0.137854943,
          0.139067743,
          0.154527036,
          0.156653344,
          0.145583174,
          0.137854943,
          0.137854943,
          0.130544453,
          0.136237876,
          0.136183974,
          0.137854943,
          0.137854943,
          0.130724515,
          0.137854943,
          0.13265057,
          0.124312008,
          0.137854943,
          0.137046409,
          0.161302411,
          0.16145738,
          0.114609608,
          0.134513005,
          0.141695476,
          0.144121076,
          0.144121076,
          0.14311041,
          0.144121076,
          0.125084281,
          0.131550673,
          0.131542927,
          0.131562523,
          0.131562402,
          0.128327412,
          0.125297986,
          0.125288324,
          0.17215863,
          0.177430882,
          0.200474187,
          0.179593825,
          0.147932478,
          0.112767659,
          0.106906,
          0.106502376,
          0.106499398,
          0.105836674,
          0.101280715,
          0.100228859,
          0.100211541,
          0.099094927,
          0.092131744,
          0.100216853,
          0.099809149,
          0.097289879,
          0.09980698,
          0.09394559,
          0.093947411,
          0.093951944,
          0.093947411,
          0.104919668,
          0.104475673
         ],
         "yaxis": "y"
        },
        {
         "hovertemplate": "Nombre_del_pozo=JUJO-16<br>Fecha=%{x}<br>Petróleo_(Mbd)=%{y}<extra></extra>",
         "legendgroup": "JUJO-16",
         "line": {
          "color": "#FFA15A",
          "dash": "solid",
          "shape": "linear"
         },
         "marker": {
          "symbol": "circle"
         },
         "mode": "lines",
         "name": "JUJO-16",
         "showlegend": true,
         "type": "scattergl",
         "x": [
          "2016-01-01T00:00:00",
          "2016-02-01T00:00:00",
          "2016-03-01T00:00:00",
          "2016-04-01T00:00:00",
          "2016-05-01T00:00:00",
          "2016-06-01T00:00:00",
          "2016-07-01T00:00:00",
          "2016-08-01T00:00:00",
          "2016-09-01T00:00:00",
          "2016-10-01T00:00:00",
          "2016-11-01T00:00:00",
          "2016-12-01T00:00:00",
          "2017-01-01T00:00:00",
          "2017-02-01T00:00:00",
          "2017-07-01T00:00:00",
          "2017-08-01T00:00:00",
          "2017-09-01T00:00:00",
          "2017-10-01T00:00:00",
          "2017-11-01T00:00:00",
          "2017-12-01T00:00:00",
          "2018-01-01T00:00:00",
          "2018-02-01T00:00:00",
          "2018-03-01T00:00:00",
          "2018-04-01T00:00:00",
          "2018-05-01T00:00:00",
          "2018-06-01T00:00:00",
          "2018-07-01T00:00:00",
          "2018-08-01T00:00:00",
          "2018-09-01T00:00:00",
          "2018-10-01T00:00:00",
          "2018-11-01T00:00:00",
          "2018-12-01T00:00:00",
          "2019-01-01T00:00:00",
          "2019-02-01T00:00:00",
          "2019-03-01T00:00:00",
          "2019-04-01T00:00:00",
          "2019-05-01T00:00:00",
          "2019-06-01T00:00:00",
          "2019-07-01T00:00:00",
          "2019-08-01T00:00:00",
          "2019-09-01T00:00:00",
          "2019-10-01T00:00:00",
          "2020-01-01T00:00:00",
          "2020-02-01T00:00:00",
          "2020-03-01T00:00:00",
          "2020-04-01T00:00:00",
          "2020-05-01T00:00:00",
          "2020-06-01T00:00:00",
          "2020-07-01T00:00:00",
          "2020-08-01T00:00:00",
          "2020-09-01T00:00:00",
          "2020-10-01T00:00:00",
          "2020-11-01T00:00:00",
          "2020-12-01T00:00:00",
          "2021-01-01T00:00:00",
          "2021-02-01T00:00:00",
          "2021-03-01T00:00:00",
          "2021-04-01T00:00:00",
          "2021-05-01T00:00:00",
          "2021-06-01T00:00:00",
          "2021-07-01T00:00:00",
          "2021-08-01T00:00:00",
          "2021-09-01T00:00:00",
          "2021-10-01T00:00:00",
          "2021-11-01T00:00:00",
          "2021-12-01T00:00:00",
          "2022-01-01T00:00:00",
          "2022-02-01T00:00:00",
          "2022-03-01T00:00:00",
          "2022-04-01T00:00:00",
          "2022-05-01T00:00:00",
          "2022-06-01T00:00:00",
          "2022-07-01T00:00:00",
          "2022-08-01T00:00:00",
          "2022-09-01T00:00:00",
          "2022-10-01T00:00:00",
          "2022-11-01T00:00:00",
          "2022-12-01T00:00:00",
          "2023-01-01T00:00:00",
          "2023-02-01T00:00:00",
          "2023-03-01T00:00:00",
          "2023-04-01T00:00:00",
          "2023-05-01T00:00:00",
          "2023-06-01T00:00:00",
          "2023-07-01T00:00:00",
          "2023-08-01T00:00:00",
          "2023-09-01T00:00:00",
          "2023-10-01T00:00:00",
          "2023-11-01T00:00:00",
          "2023-12-01T00:00:00",
          "2024-01-01T00:00:00"
         ],
         "xaxis": "x",
         "y": [
          0.058214139,
          0.075191889,
          0.075192919,
          0.075084562,
          0.075192919,
          0.075189822,
          0.060640004,
          0.025064077,
          0.025064077,
          0.026131596,
          0.025064192,
          0.025064192,
          0.025064535,
          0.003580599,
          0.097022235,
          0.110769074,
          0.05075478,
          0.089760887,
          0.043862936,
          0.043862936,
          0.043862936,
          0.043862936,
          0.060949268,
          0.068927471,
          0.068927471,
          0.068091987,
          0.080449072,
          0.037596803,
          0.040729869,
          0.070453578,
          0.081459739,
          0.081459739,
          0.081459739,
          0.070717795,
          0.031330669,
          0.031281939,
          0.031330669,
          0.031330669,
          0.028905069,
          0.04952267,
          0.068927471,
          0.033352002,
          0.029107202,
          0.450205092,
          0.563479066,
          0.53450121,
          0.444442597,
          0.477255347,
          0.521225758,
          0.514571136,
          0.420683277,
          0.399508786,
          0.397371315,
          0.537129493,
          0.499079659,
          0.478147194,
          0.433231586,
          0.432518588,
          0.412994416,
          0.340533859,
          0.321765199,
          0.037589292,
          0.043854134,
          0.326116306,
          0.328150442,
          0.252235225,
          0.707533323,
          0.779651012,
          0.8650918,
          0.739554172,
          0.536795945,
          0.479653225,
          0.515594931,
          0.515491925,
          0.52639394,
          0.494719902,
          0.477992768,
          0.39452016,
          0.438687844,
          0.525945158,
          0.306153372,
          0.328993529,
          0.326648501,
          0.276933626,
          0.173678358,
          0.155953282,
          0.167868336,
          0.165270188,
          0.162623973,
          0.034971831,
          0.034825224
         ],
         "yaxis": "y"
        },
        {
         "hovertemplate": "Nombre_del_pozo=JUJO-23B<br>Fecha=%{x}<br>Petróleo_(Mbd)=%{y}<extra></extra>",
         "legendgroup": "JUJO-23B",
         "line": {
          "color": "#19d3f3",
          "dash": "solid",
          "shape": "linear"
         },
         "marker": {
          "symbol": "circle"
         },
         "mode": "lines",
         "name": "JUJO-23B",
         "showlegend": true,
         "type": "scattergl",
         "x": [
          "2016-01-01T00:00:00",
          "2016-02-01T00:00:00",
          "2016-03-01T00:00:00",
          "2016-04-01T00:00:00",
          "2016-05-01T00:00:00",
          "2016-06-01T00:00:00",
          "2016-07-01T00:00:00",
          "2016-08-01T00:00:00",
          "2016-09-01T00:00:00",
          "2016-10-01T00:00:00",
          "2016-11-01T00:00:00",
          "2016-12-01T00:00:00",
          "2017-01-01T00:00:00",
          "2017-02-01T00:00:00",
          "2017-03-01T00:00:00",
          "2017-04-01T00:00:00",
          "2017-05-01T00:00:00",
          "2017-06-01T00:00:00",
          "2017-07-01T00:00:00",
          "2017-08-01T00:00:00",
          "2017-09-01T00:00:00",
          "2017-10-01T00:00:00",
          "2017-11-01T00:00:00",
          "2017-12-01T00:00:00",
          "2018-01-01T00:00:00",
          "2018-02-01T00:00:00",
          "2018-03-01T00:00:00",
          "2018-04-01T00:00:00",
          "2018-05-01T00:00:00",
          "2018-06-01T00:00:00",
          "2018-07-01T00:00:00",
          "2018-08-01T00:00:00",
          "2018-09-01T00:00:00",
          "2018-10-01T00:00:00",
          "2018-11-01T00:00:00",
          "2018-12-01T00:00:00",
          "2019-01-01T00:00:00",
          "2019-02-01T00:00:00",
          "2019-03-01T00:00:00",
          "2019-04-01T00:00:00",
          "2019-05-01T00:00:00",
          "2019-06-01T00:00:00",
          "2019-07-01T00:00:00",
          "2019-08-01T00:00:00",
          "2019-09-01T00:00:00",
          "2019-10-01T00:00:00",
          "2019-11-01T00:00:00",
          "2019-12-01T00:00:00",
          "2020-01-01T00:00:00",
          "2020-02-01T00:00:00",
          "2020-03-01T00:00:00",
          "2020-04-01T00:00:00",
          "2020-05-01T00:00:00",
          "2020-06-01T00:00:00",
          "2020-07-01T00:00:00",
          "2020-08-01T00:00:00",
          "2020-09-01T00:00:00",
          "2020-10-01T00:00:00",
          "2020-11-01T00:00:00",
          "2020-12-01T00:00:00",
          "2021-01-01T00:00:00",
          "2021-02-01T00:00:00",
          "2021-03-01T00:00:00",
          "2021-04-01T00:00:00",
          "2021-05-01T00:00:00",
          "2021-06-01T00:00:00",
          "2021-07-01T00:00:00",
          "2021-08-01T00:00:00",
          "2021-09-01T00:00:00",
          "2021-10-01T00:00:00",
          "2021-11-01T00:00:00",
          "2021-12-01T00:00:00",
          "2022-01-01T00:00:00",
          "2022-02-01T00:00:00",
          "2022-03-01T00:00:00",
          "2022-04-01T00:00:00",
          "2022-05-01T00:00:00",
          "2022-06-01T00:00:00",
          "2022-07-01T00:00:00",
          "2022-08-01T00:00:00",
          "2022-09-01T00:00:00",
          "2022-10-01T00:00:00",
          "2022-11-01T00:00:00",
          "2022-12-01T00:00:00",
          "2023-01-01T00:00:00",
          "2023-02-01T00:00:00",
          "2023-03-01T00:00:00",
          "2023-04-01T00:00:00",
          "2023-05-01T00:00:00",
          "2023-06-01T00:00:00",
          "2023-07-01T00:00:00",
          "2023-08-01T00:00:00",
          "2023-09-01T00:00:00",
          "2023-10-01T00:00:00",
          "2023-11-01T00:00:00",
          "2023-12-01T00:00:00",
          "2024-01-01T00:00:00"
         ],
         "xaxis": "x",
         "y": [
          0.754762476,
          0.776550713,
          0.796802385,
          0.869729513,
          0.870984647,
          0.870948775,
          0.812373922,
          0.720592227,
          0.796619929,
          0.916060827,
          0.914843007,
          0.914843007,
          0.914855529,
          0.91193377,
          0.934221898,
          0.974230248,
          0.993696587,
          1.030760186,
          0.979924578,
          0.839257657,
          0.760695099,
          0.714357672,
          0.745669917,
          0.668859245,
          0.69149818,
          0.653915816,
          0.675361875,
          0.696376332,
          0.785894453,
          0.914228915,
          0.920110996,
          0.942345664,
          0.897519225,
          0.869634256,
          0.727707,
          0.831778723,
          0.904142461,
          0.907246652,
          0.902525394,
          0.913105189,
          0.851992058,
          0.707446501,
          0.595080574,
          0.551015504,
          0.609068201,
          0.610701334,
          0.502126185,
          0.501897101,
          0.483907233,
          0.525923088,
          0.695945114,
          0.516703649,
          0.505535501,
          0.481239073,
          0.513822968,
          0.584771773,
          0.102764594,
          0.36348185,
          0.554135095,
          0.507556834,
          0.505535501,
          0.479359232,
          0.482492299,
          0.481822173,
          0.453253703,
          0.412609731,
          0.399478289,
          0.68828559,
          0.810026464,
          0.479258357,
          0.463602547,
          0.457504461,
          0.503341721,
          0.572790742,
          0.618600288,
          0.570051971,
          0.552927952,
          0.537317013,
          0.508258205,
          0.469863423,
          0.463794437,
          0.464219576,
          0.442920405,
          0.44092615,
          0.454386604,
          0.450960208,
          0.407925421,
          0.413394517,
          0.404893795,
          0.380808454,
          0.349526467,
          0.356993243,
          0.356373845,
          0.349743689,
          0.340715943,
          0.373832967,
          0.370515177
         ],
         "yaxis": "y"
        },
        {
         "hovertemplate": "Nombre_del_pozo=TECOMINOACÁN-447<br>Fecha=%{x}<br>Petróleo_(Mbd)=%{y}<extra></extra>",
         "legendgroup": "TECOMINOACÁN-447",
         "line": {
          "color": "#FF6692",
          "dash": "solid",
          "shape": "linear"
         },
         "marker": {
          "symbol": "circle"
         },
         "mode": "lines",
         "name": "TECOMINOACÁN-447",
         "showlegend": true,
         "type": "scattergl",
         "x": [
          "2016-01-01T00:00:00",
          "2016-02-01T00:00:00",
          "2016-03-01T00:00:00",
          "2016-04-01T00:00:00",
          "2016-05-01T00:00:00",
          "2016-06-01T00:00:00",
          "2016-07-01T00:00:00",
          "2016-08-01T00:00:00",
          "2016-09-01T00:00:00",
          "2016-10-01T00:00:00",
          "2016-11-01T00:00:00",
          "2016-12-01T00:00:00",
          "2017-01-01T00:00:00",
          "2017-02-01T00:00:00",
          "2017-03-01T00:00:00",
          "2017-04-01T00:00:00",
          "2017-05-01T00:00:00",
          "2017-06-01T00:00:00",
          "2017-07-01T00:00:00"
         ],
         "xaxis": "x",
         "y": [
          0.175450945,
          0.171990642,
          0.173226698,
          0.173529316,
          0.175450145,
          0.14870876,
          0.057203737,
          0.04123445,
          0.075192232,
          0.00343622,
          0.03258345,
          0.075192576,
          0.075193605,
          0.075192576,
          0.075190512,
          0.075087799,
          0.07519429,
          0.074356763,
          0.021223614
         ],
         "yaxis": "y"
        },
        {
         "hovertemplate": "Nombre_del_pozo=TECOMINOACÁN-525<br>Fecha=%{x}<br>Petróleo_(Mbd)=%{y}<extra></extra>",
         "legendgroup": "TECOMINOACÁN-525",
         "line": {
          "color": "#B6E880",
          "dash": "solid",
          "shape": "linear"
         },
         "marker": {
          "symbol": "circle"
         },
         "mode": "lines",
         "name": "TECOMINOACÁN-525",
         "showlegend": true,
         "type": "scattergl",
         "x": [
          "2016-01-01T00:00:00",
          "2016-02-01T00:00:00",
          "2016-03-01T00:00:00",
          "2016-04-01T00:00:00",
          "2016-05-01T00:00:00",
          "2016-06-01T00:00:00",
          "2016-07-01T00:00:00",
          "2016-08-01T00:00:00",
          "2016-09-01T00:00:00",
          "2016-10-01T00:00:00",
          "2016-11-01T00:00:00",
          "2016-12-01T00:00:00",
          "2017-01-01T00:00:00",
          "2017-02-01T00:00:00",
          "2017-03-01T00:00:00",
          "2017-04-01T00:00:00",
          "2017-05-01T00:00:00",
          "2017-06-01T00:00:00",
          "2017-07-01T00:00:00",
          "2017-08-01T00:00:00",
          "2017-09-01T00:00:00",
          "2017-10-01T00:00:00",
          "2017-11-01T00:00:00",
          "2017-12-01T00:00:00",
          "2018-01-01T00:00:00",
          "2018-02-01T00:00:00",
          "2018-03-01T00:00:00",
          "2018-04-01T00:00:00",
          "2018-05-01T00:00:00",
          "2018-06-01T00:00:00",
          "2018-07-01T00:00:00",
          "2018-08-01T00:00:00",
          "2018-09-01T00:00:00",
          "2018-10-01T00:00:00",
          "2018-11-01T00:00:00",
          "2018-12-01T00:00:00",
          "2019-01-01T00:00:00",
          "2019-02-01T00:00:00",
          "2019-03-01T00:00:00",
          "2019-04-01T00:00:00",
          "2019-05-01T00:00:00",
          "2019-06-01T00:00:00",
          "2019-07-01T00:00:00",
          "2019-08-01T00:00:00",
          "2019-09-01T00:00:00",
          "2019-10-01T00:00:00",
          "2019-11-01T00:00:00",
          "2019-12-01T00:00:00",
          "2020-01-01T00:00:00",
          "2020-02-01T00:00:00",
          "2020-03-01T00:00:00",
          "2020-04-01T00:00:00",
          "2020-06-01T00:00:00",
          "2020-07-01T00:00:00"
         ],
         "xaxis": "x",
         "y": [
          0.300773049,
          0.300767555,
          0.300771677,
          0.324362173,
          0.350900289,
          0.351512419,
          0.409320028,
          0.355141807,
          0.469951453,
          0.204185108,
          0.469953599,
          0.394558893,
          0.341403223,
          0.371263344,
          0.261347666,
          0.206492491,
          0.206784298,
          0.204898833,
          0.207182899,
          0.271060818,
          0.300351332,
          0.310498364,
          0.312471203,
          0.313306688,
          0.345041623,
          0.350008328,
          0.234011797,
          0.19299692,
          0.192228813,
          0.240201794,
          0.275709885,
          0.275709885,
          0.284482473,
          0.288650462,
          0.253151804,
          0.24276215,
          0.262369084,
          0.287794572,
          0.279348286,
          0.257095291,
          0.262369084,
          0.254196159,
          0.25064535,
          0.25064535,
          0.24876551,
          0.238731469,
          0.248556639,
          0.192228813,
          0.107939207,
          0.187984013,
          0.187984013,
          0.123533673,
          0.110283954,
          0.018596268
         ],
         "yaxis": "y"
        },
        {
         "hovertemplate": "Nombre_del_pozo=TECOMINOACÁN-566A<br>Fecha=%{x}<br>Petróleo_(Mbd)=%{y}<extra></extra>",
         "legendgroup": "TECOMINOACÁN-566A",
         "line": {
          "color": "#FF97FF",
          "dash": "solid",
          "shape": "linear"
         },
         "marker": {
          "symbol": "circle"
         },
         "mode": "lines",
         "name": "TECOMINOACÁN-566A",
         "showlegend": true,
         "type": "scattergl",
         "x": [
          "2016-01-01T00:00:00",
          "2016-02-01T00:00:00",
          "2016-03-01T00:00:00",
          "2016-04-01T00:00:00",
          "2016-05-01T00:00:00",
          "2016-06-01T00:00:00",
          "2016-07-01T00:00:00",
          "2016-08-01T00:00:00",
          "2016-09-01T00:00:00",
          "2016-10-01T00:00:00",
          "2016-11-01T00:00:00",
          "2016-12-01T00:00:00",
          "2017-01-01T00:00:00",
          "2017-02-01T00:00:00",
          "2017-03-01T00:00:00",
          "2017-04-01T00:00:00",
          "2017-05-01T00:00:00",
          "2017-06-01T00:00:00",
          "2017-07-01T00:00:00",
          "2017-08-01T00:00:00",
          "2017-09-01T00:00:00",
          "2017-10-01T00:00:00",
          "2017-11-01T00:00:00",
          "2017-12-01T00:00:00",
          "2018-01-01T00:00:00",
          "2018-02-01T00:00:00",
          "2018-03-01T00:00:00",
          "2018-04-01T00:00:00",
          "2018-05-01T00:00:00",
          "2018-06-01T00:00:00",
          "2018-07-01T00:00:00",
          "2018-08-01T00:00:00",
          "2018-09-01T00:00:00",
          "2018-10-01T00:00:00",
          "2018-11-01T00:00:00",
          "2018-12-01T00:00:00",
          "2019-01-01T00:00:00",
          "2019-02-01T00:00:00",
          "2019-03-01T00:00:00",
          "2019-04-01T00:00:00",
          "2019-05-01T00:00:00",
          "2019-06-01T00:00:00",
          "2019-07-01T00:00:00",
          "2019-08-01T00:00:00",
          "2019-09-01T00:00:00",
          "2019-10-01T00:00:00",
          "2019-11-01T00:00:00",
          "2019-12-01T00:00:00",
          "2020-01-01T00:00:00",
          "2020-02-01T00:00:00",
          "2020-03-01T00:00:00",
          "2020-04-01T00:00:00",
          "2020-05-01T00:00:00",
          "2020-06-01T00:00:00",
          "2020-07-01T00:00:00"
         ],
         "xaxis": "x",
         "y": [
          0.125322104,
          0.125319815,
          0.159683888,
          0.173033579,
          0.162917992,
          0.21303783,
          0.213048548,
          0.21223614,
          0.213044659,
          0.21333559,
          0.210121476,
          0.213045632,
          0.213048548,
          0.213045632,
          0.213039784,
          0.212750156,
          0.213050489,
          0.187353979,
          0.208799936,
          0.213048548,
          0.213044756,
          0.209496647,
          0.213048548,
          0.213048548,
          0.211431481,
          0.213048548,
          0.196465528,
          0.145165432,
          0.162515211,
          0.231638078,
          0.185154146,
          0.135025076,
          0.187984013,
          0.163525878,
          0.123025093,
          0.136237876,
          0.137854943,
          0.137854943,
          0.137854943,
          0.136392845,
          0.137854943,
          0.137854943,
          0.165951478,
          0.163525878,
          0.169185611,
          0.16279618,
          0.161039638,
          0.157057611,
          0.169185611,
          0.169185611,
          0.169185611,
          0.155586307,
          0.169185611,
          0.150804952,
          0.094598406
         ],
         "yaxis": "y"
        },
        {
         "hovertemplate": "Nombre_del_pozo=TECOMINOACÁN-429<br>Fecha=%{x}<br>Petróleo_(Mbd)=%{y}<extra></extra>",
         "legendgroup": "TECOMINOACÁN-429",
         "line": {
          "color": "#FECB52",
          "dash": "solid",
          "shape": "linear"
         },
         "marker": {
          "symbol": "circle"
         },
         "mode": "lines",
         "name": "TECOMINOACÁN-429",
         "showlegend": true,
         "type": "scattergl",
         "x": [
          "2016-01-01T00:00:00",
          "2016-02-01T00:00:00",
          "2016-03-01T00:00:00",
          "2016-04-01T00:00:00",
          "2016-05-01T00:00:00",
          "2016-06-01T00:00:00",
          "2016-07-01T00:00:00",
          "2016-08-01T00:00:00"
         ],
         "xaxis": "x",
         "y": [
          0.087725473,
          0.08772387,
          0.087725072,
          0.087600101,
          0.087725072,
          0.087721459,
          0.066299738,
          0.031127967
         ],
         "yaxis": "y"
        },
        {
         "hovertemplate": "Nombre_del_pozo=TECOMINOACÁN-446<br>Fecha=%{x}<br>Petróleo_(Mbd)=%{y}<extra></extra>",
         "legendgroup": "TECOMINOACÁN-446",
         "line": {
          "color": "#636efa",
          "dash": "solid",
          "shape": "linear"
         },
         "marker": {
          "symbol": "circle"
         },
         "mode": "lines",
         "name": "TECOMINOACÁN-446",
         "showlegend": true,
         "type": "scattergl",
         "x": [
          "2016-01-01T00:00:00",
          "2016-02-01T00:00:00",
          "2016-03-01T00:00:00",
          "2016-04-01T00:00:00",
          "2016-05-01T00:00:00",
          "2016-06-01T00:00:00",
          "2016-07-01T00:00:00",
          "2016-08-01T00:00:00",
          "2016-09-01T00:00:00",
          "2016-10-01T00:00:00",
          "2016-11-01T00:00:00",
          "2016-12-01T00:00:00",
          "2017-01-01T00:00:00",
          "2017-02-01T00:00:00",
          "2017-03-01T00:00:00",
          "2017-04-01T00:00:00",
          "2017-05-01T00:00:00",
          "2017-06-01T00:00:00",
          "2017-07-01T00:00:00",
          "2017-08-01T00:00:00",
          "2017-09-01T00:00:00",
          "2017-10-01T00:00:00",
          "2017-11-01T00:00:00",
          "2017-12-01T00:00:00",
          "2018-01-01T00:00:00",
          "2018-02-01T00:00:00",
          "2018-03-01T00:00:00",
          "2018-04-01T00:00:00",
          "2018-05-01T00:00:00",
          "2018-06-01T00:00:00",
          "2018-07-01T00:00:00",
          "2018-08-01T00:00:00",
          "2018-09-01T00:00:00",
          "2018-10-01T00:00:00",
          "2018-11-01T00:00:00",
          "2018-12-01T00:00:00",
          "2019-01-01T00:00:00",
          "2019-02-01T00:00:00",
          "2019-03-01T00:00:00",
          "2019-04-01T00:00:00",
          "2019-05-01T00:00:00",
          "2019-06-01T00:00:00",
          "2019-07-01T00:00:00",
          "2019-08-01T00:00:00",
          "2019-09-01T00:00:00",
          "2019-10-01T00:00:00",
          "2019-11-01T00:00:00",
          "2019-12-01T00:00:00",
          "2020-01-01T00:00:00",
          "2020-02-01T00:00:00",
          "2020-03-01T00:00:00",
          "2020-04-01T00:00:00",
          "2020-05-01T00:00:00",
          "2020-06-01T00:00:00",
          "2020-07-01T00:00:00",
          "2020-08-01T00:00:00",
          "2020-09-01T00:00:00",
          "2020-10-01T00:00:00",
          "2020-11-01T00:00:00",
          "2020-12-01T00:00:00",
          "2021-01-01T00:00:00",
          "2021-02-01T00:00:00",
          "2021-03-01T00:00:00",
          "2021-04-01T00:00:00",
          "2021-05-01T00:00:00",
          "2021-06-01T00:00:00",
          "2021-08-01T00:00:00",
          "2021-09-01T00:00:00",
          "2021-10-01T00:00:00",
          "2021-11-01T00:00:00",
          "2021-12-01T00:00:00",
          "2022-01-01T00:00:00"
         ],
         "xaxis": "x",
         "y": [
          1.031683899,
          0.902950871,
          0.804685514,
          0.88617368,
          0.925762285,
          0.927341142,
          0.927387796,
          0.925753829,
          0.872229896,
          0.878474777,
          0.88560145,
          0.802054143,
          0.908185128,
          1.00592449,
          0.965551278,
          0.901047319,
          0.973280933,
          0.89833831,
          0.842274281,
          0.837236323,
          0.935517119,
          0.974623008,
          0.909842622,
          0.924153663,
          1.08767954,
          1.089859693,
          1.147654526,
          1.067122579,
          1.137606477,
          1.139183117,
          1.13113821,
          1.13417021,
          1.146702478,
          1.099469978,
          0.998403979,
          0.883120593,
          0.78569232,
          0.653020654,
          0.900908328,
          0.917572942,
          0.93911153,
          0.938666837,
          1.03391207,
          1.015517935,
          0.956629754,
          0.955459429,
          0.958718465,
          0.950026731,
          0.873418192,
          0.939271843,
          0.949824598,
          0.850732093,
          0.666635778,
          0.696585203,
          0.701806981,
          0.68422138,
          0.751936051,
          0.662180422,
          0.672147281,
          0.737180317,
          0.678965913,
          0.659510578,
          0.645411777,
          0.619145544,
          0.676344246,
          0.480055553,
          0.522208233,
          0.637346748,
          0.651404763,
          0.674520823,
          0.648670194,
          0.102244444
         ],
         "yaxis": "y"
        },
        {
         "hovertemplate": "Nombre_del_pozo=TECOMINOACÁN-105<br>Fecha=%{x}<br>Petróleo_(Mbd)=%{y}<extra></extra>",
         "legendgroup": "TECOMINOACÁN-105",
         "line": {
          "color": "#EF553B",
          "dash": "solid",
          "shape": "linear"
         },
         "marker": {
          "symbol": "circle"
         },
         "mode": "lines",
         "name": "TECOMINOACÁN-105",
         "showlegend": true,
         "type": "scattergl",
         "x": [
          "2016-01-01T00:00:00",
          "2016-02-01T00:00:00",
          "2016-03-01T00:00:00",
          "2016-04-01T00:00:00",
          "2016-05-01T00:00:00",
          "2016-06-01T00:00:00",
          "2016-07-01T00:00:00",
          "2016-08-01T00:00:00",
          "2016-09-01T00:00:00",
          "2016-10-01T00:00:00",
          "2016-11-01T00:00:00",
          "2016-12-01T00:00:00",
          "2017-01-01T00:00:00",
          "2017-02-01T00:00:00",
          "2017-03-01T00:00:00",
          "2017-04-01T00:00:00",
          "2017-05-01T00:00:00",
          "2017-06-01T00:00:00",
          "2017-07-01T00:00:00",
          "2017-08-01T00:00:00",
          "2017-09-01T00:00:00",
          "2017-10-01T00:00:00",
          "2017-11-01T00:00:00",
          "2017-12-01T00:00:00",
          "2018-01-01T00:00:00",
          "2018-02-01T00:00:00",
          "2018-03-01T00:00:00",
          "2018-04-01T00:00:00",
          "2018-05-01T00:00:00",
          "2018-06-01T00:00:00",
          "2018-07-01T00:00:00",
          "2018-08-01T00:00:00",
          "2018-09-01T00:00:00",
          "2018-10-01T00:00:00",
          "2018-11-01T00:00:00",
          "2018-12-01T00:00:00",
          "2019-01-01T00:00:00",
          "2019-02-01T00:00:00",
          "2019-03-01T00:00:00",
          "2019-04-01T00:00:00",
          "2019-05-01T00:00:00",
          "2019-06-01T00:00:00",
          "2019-07-01T00:00:00",
          "2019-08-01T00:00:00",
          "2019-09-01T00:00:00",
          "2019-10-01T00:00:00",
          "2019-11-01T00:00:00",
          "2019-12-01T00:00:00",
          "2020-01-01T00:00:00",
          "2020-02-01T00:00:00",
          "2020-03-01T00:00:00",
          "2020-04-01T00:00:00",
          "2020-05-01T00:00:00",
          "2020-06-01T00:00:00",
          "2020-07-01T00:00:00",
          "2020-08-01T00:00:00",
          "2020-09-01T00:00:00",
          "2020-10-01T00:00:00",
          "2020-11-01T00:00:00",
          "2020-12-01T00:00:00",
          "2021-01-01T00:00:00",
          "2021-02-01T00:00:00",
          "2021-03-01T00:00:00",
          "2021-04-01T00:00:00",
          "2021-05-01T00:00:00",
          "2021-06-01T00:00:00",
          "2021-07-01T00:00:00",
          "2021-08-01T00:00:00",
          "2021-09-01T00:00:00",
          "2021-10-01T00:00:00",
          "2021-11-01T00:00:00",
          "2021-12-01T00:00:00",
          "2022-01-01T00:00:00"
         ],
         "xaxis": "x",
         "y": [
          0.595279993,
          0.595269119,
          0.551414741,
          0.510032228,
          0.507552204,
          0.506069276,
          0.477034699,
          0.419419038,
          0.426089317,
          0.42667118,
          0.426091263,
          0.453985284,
          0.538887503,
          0.512025636,
          0.487525577,
          0.481597894,
          0.661588472,
          0.601955594,
          0.419419038,
          0.356765357,
          0.439665893,
          0.41006693,
          0.393304329,
          0.596899774,
          0.517259235,
          0.588121411,
          0.512466653,
          0.534083467,
          0.473194165,
          0.444060012,
          0.332711489,
          0.438022963,
          0.421501931,
          0.369640645,
          0.380980932,
          0.388500293,
          0.412756295,
          0.457427764,
          0.427714162,
          0.39727288,
          0.384255493,
          0.400405947,
          0.398202694,
          0.39618136,
          0.405627725,
          0.369305197,
          0.36761318,
          0.369701892,
          0.369701892,
          0.334914046,
          0.466523765,
          0.458131637,
          0.419426695,
          0.509018932,
          0.434182429,
          0.458640564,
          0.497322149,
          0.551343969,
          0.546615735,
          0.570218172,
          0.529993636,
          0.501738282,
          0.465513098,
          0.435914038,
          0.451030881,
          0.43328198,
          0.433424851,
          0.368011297,
          0.442300266,
          0.443377944,
          0.423924852,
          0.527827585,
          0.08486693
         ],
         "yaxis": "y"
        },
        {
         "hovertemplate": "Nombre_del_pozo=TECOMINOACÁN-101B<br>Fecha=%{x}<br>Petróleo_(Mbd)=%{y}<extra></extra>",
         "legendgroup": "TECOMINOACÁN-101B",
         "line": {
          "color": "#00cc96",
          "dash": "solid",
          "shape": "linear"
         },
         "marker": {
          "symbol": "circle"
         },
         "mode": "lines",
         "name": "TECOMINOACÁN-101B",
         "showlegend": true,
         "type": "scattergl",
         "x": [
          "2016-01-01T00:00:00",
          "2016-02-01T00:00:00",
          "2016-03-01T00:00:00",
          "2016-04-01T00:00:00",
          "2016-05-01T00:00:00",
          "2016-06-01T00:00:00",
          "2016-07-01T00:00:00",
          "2016-08-01T00:00:00",
          "2016-09-01T00:00:00",
          "2016-10-01T00:00:00",
          "2016-11-01T00:00:00",
          "2016-12-01T00:00:00",
          "2017-01-01T00:00:00",
          "2017-02-01T00:00:00",
          "2017-03-01T00:00:00",
          "2017-04-01T00:00:00",
          "2017-05-01T00:00:00",
          "2017-06-01T00:00:00",
          "2017-07-01T00:00:00",
          "2017-08-01T00:00:00",
          "2017-09-01T00:00:00",
          "2017-10-01T00:00:00",
          "2017-11-01T00:00:00",
          "2017-12-01T00:00:00",
          "2018-01-01T00:00:00",
          "2018-02-01T00:00:00",
          "2018-03-01T00:00:00",
          "2018-04-01T00:00:00",
          "2018-05-01T00:00:00",
          "2018-06-01T00:00:00"
         ],
         "xaxis": "x",
         "y": [
          0.256910313,
          0.25690562,
          0.198695268,
          0.23433117,
          0.288239524,
          0.261493493,
          0.085704539,
          0.050128155,
          0.06683754,
          0.100762094,
          0.099421295,
          0.211832848,
          0.25064535,
          0.25064192,
          0.162508526,
          0.135832679,
          0.164133773,
          0.074356763,
          0.075192232,
          0.111577608,
          0.137852489,
          0.137030588,
          0.137854943,
          0.184749879,
          0.238113083,
          0.231399368,
          0.153469744,
          0.112790408,
          0.110566941,
          0.073522636
         ],
         "yaxis": "y"
        },
        {
         "hovertemplate": "Nombre_del_pozo=TECOMINOACÁN-426A<br>Fecha=%{x}<br>Petróleo_(Mbd)=%{y}<extra></extra>",
         "legendgroup": "TECOMINOACÁN-426A",
         "line": {
          "color": "#ab63fa",
          "dash": "solid",
          "shape": "linear"
         },
         "marker": {
          "symbol": "circle"
         },
         "mode": "lines",
         "name": "TECOMINOACÁN-426A",
         "showlegend": true,
         "type": "scattergl",
         "x": [
          "2016-01-01T00:00:00",
          "2016-02-01T00:00:00",
          "2016-03-01T00:00:00",
          "2016-04-01T00:00:00",
          "2016-05-01T00:00:00",
          "2016-06-01T00:00:00",
          "2016-07-01T00:00:00",
          "2016-08-01T00:00:00",
          "2016-09-01T00:00:00",
          "2016-10-01T00:00:00",
          "2016-11-01T00:00:00",
          "2016-12-01T00:00:00",
          "2017-01-01T00:00:00",
          "2017-02-01T00:00:00",
          "2017-03-01T00:00:00",
          "2017-04-01T00:00:00",
          "2017-05-01T00:00:00",
          "2017-06-01T00:00:00",
          "2017-07-01T00:00:00",
          "2017-08-01T00:00:00",
          "2017-09-01T00:00:00",
          "2017-10-01T00:00:00",
          "2017-11-01T00:00:00",
          "2017-12-01T00:00:00",
          "2018-01-01T00:00:00",
          "2018-02-01T00:00:00",
          "2018-03-01T00:00:00",
          "2018-04-01T00:00:00",
          "2018-05-01T00:00:00",
          "2018-06-01T00:00:00",
          "2018-07-01T00:00:00",
          "2018-08-01T00:00:00",
          "2018-09-01T00:00:00",
          "2018-10-01T00:00:00",
          "2018-11-01T00:00:00",
          "2018-12-01T00:00:00",
          "2019-01-01T00:00:00",
          "2019-02-01T00:00:00",
          "2019-03-01T00:00:00",
          "2019-04-01T00:00:00",
          "2019-05-01T00:00:00",
          "2019-06-01T00:00:00",
          "2019-07-01T00:00:00",
          "2019-08-01T00:00:00",
          "2019-09-01T00:00:00",
          "2019-10-01T00:00:00",
          "2019-11-01T00:00:00",
          "2019-12-01T00:00:00",
          "2020-01-01T00:00:00",
          "2020-02-01T00:00:00",
          "2020-03-01T00:00:00",
          "2020-04-01T00:00:00",
          "2020-05-01T00:00:00",
          "2020-06-01T00:00:00",
          "2020-07-01T00:00:00",
          "2020-08-01T00:00:00",
          "2020-09-01T00:00:00",
          "2020-10-01T00:00:00",
          "2020-11-01T00:00:00",
          "2020-12-01T00:00:00",
          "2021-01-01T00:00:00",
          "2021-02-01T00:00:00",
          "2021-03-01T00:00:00",
          "2021-04-01T00:00:00",
          "2021-05-01T00:00:00",
          "2021-06-01T00:00:00",
          "2021-07-01T00:00:00",
          "2021-08-01T00:00:00",
          "2021-09-01T00:00:00",
          "2021-10-01T00:00:00",
          "2021-11-01T00:00:00",
          "2021-12-01T00:00:00",
          "2022-01-01T00:00:00",
          "2022-02-01T00:00:00",
          "2022-03-01T00:00:00"
         ],
         "xaxis": "x",
         "y": [
          0.401030732,
          0.401023407,
          0.318559249,
          0.369206526,
          0.394762826,
          0.501892064,
          0.610644841,
          0.539281925,
          0.43674155,
          0.475387195,
          0.616161386,
          0.595880951,
          0.457427764,
          0.478905097,
          0.557662964,
          0.536851653,
          0.463495988,
          0.632867956,
          0.585973876,
          0.582750439,
          0.581069128,
          0.550525759,
          0.55497058,
          0.545153637,
          0.545153637,
          0.606248441,
          0.665111693,
          0.618467402,
          0.615091775,
          0.618258531,
          0.621155775,
          0.624389909,
          0.613872237,
          0.650790545,
          0.606144006,
          0.629645376,
          0.726265116,
          0.685470275,
          0.638539243,
          0.441957724,
          0.331094422,
          0.332105089,
          0.332105089,
          0.332105089,
          0.322497017,
          0.332656623,
          0.330642991,
          0.330690156,
          0.305625621,
          0.313306688,
          0.977999977,
          0.869739366,
          0.938189657,
          1.547730971,
          2.345797864,
          1.279545599,
          0.699847195,
          0.813317757,
          0.86844026,
          0.954627658,
          0.879379364,
          0.948823161,
          0.93912423,
          0.985261862,
          0.924722187,
          0.996443529,
          1.552786344,
          0.727993382,
          0.741751943,
          0.696155313,
          0.705855431,
          0.625083853,
          0.557337705,
          0.570257398,
          0.681867199
         ],
         "yaxis": "y"
        },
        {
         "hovertemplate": "Nombre_del_pozo=TECOMINOACÁN-529<br>Fecha=%{x}<br>Petróleo_(Mbd)=%{y}<extra></extra>",
         "legendgroup": "TECOMINOACÁN-529",
         "line": {
          "color": "#FFA15A",
          "dash": "solid",
          "shape": "linear"
         },
         "marker": {
          "symbol": "circle"
         },
         "mode": "lines",
         "name": "TECOMINOACÁN-529",
         "showlegend": true,
         "type": "scattergl",
         "x": [
          "2016-01-01T00:00:00",
          "2016-02-01T00:00:00",
          "2016-03-01T00:00:00",
          "2016-04-01T00:00:00",
          "2016-05-01T00:00:00",
          "2016-06-01T00:00:00",
          "2016-07-01T00:00:00",
          "2016-08-01T00:00:00",
          "2016-09-01T00:00:00",
          "2016-10-01T00:00:00",
          "2016-11-01T00:00:00",
          "2016-12-01T00:00:00",
          "2017-01-01T00:00:00",
          "2017-02-01T00:00:00",
          "2017-03-01T00:00:00",
          "2017-04-01T00:00:00",
          "2017-05-01T00:00:00",
          "2017-06-01T00:00:00",
          "2017-07-01T00:00:00",
          "2017-08-01T00:00:00",
          "2017-09-01T00:00:00",
          "2017-10-01T00:00:00",
          "2017-11-01T00:00:00",
          "2017-12-01T00:00:00",
          "2018-01-01T00:00:00",
          "2018-02-01T00:00:00",
          "2018-03-01T00:00:00",
          "2018-04-01T00:00:00",
          "2018-05-01T00:00:00",
          "2018-06-01T00:00:00",
          "2018-07-01T00:00:00",
          "2018-08-01T00:00:00",
          "2018-09-01T00:00:00",
          "2018-10-01T00:00:00",
          "2018-11-01T00:00:00",
          "2018-12-01T00:00:00",
          "2019-01-01T00:00:00",
          "2019-02-01T00:00:00",
          "2019-03-01T00:00:00",
          "2019-04-01T00:00:00",
          "2019-05-01T00:00:00",
          "2019-06-01T00:00:00",
          "2019-07-01T00:00:00",
          "2019-08-01T00:00:00",
          "2019-09-01T00:00:00",
          "2019-10-01T00:00:00",
          "2019-11-01T00:00:00",
          "2019-12-01T00:00:00",
          "2020-01-01T00:00:00",
          "2020-02-01T00:00:00",
          "2020-03-01T00:00:00",
          "2020-04-01T00:00:00",
          "2020-05-01T00:00:00",
          "2020-06-01T00:00:00",
          "2020-07-01T00:00:00",
          "2020-08-01T00:00:00",
          "2020-09-01T00:00:00",
          "2020-10-01T00:00:00",
          "2020-11-01T00:00:00",
          "2020-12-01T00:00:00",
          "2021-01-01T00:00:00",
          "2021-02-01T00:00:00",
          "2021-03-01T00:00:00",
          "2021-04-01T00:00:00",
          "2021-05-01T00:00:00",
          "2021-06-01T00:00:00",
          "2021-07-01T00:00:00",
          "2021-08-01T00:00:00",
          "2021-09-01T00:00:00",
          "2021-10-01T00:00:00",
          "2021-11-01T00:00:00",
          "2021-12-01T00:00:00",
          "2022-01-01T00:00:00",
          "2022-02-01T00:00:00",
          "2022-03-01T00:00:00"
         ],
         "xaxis": "x",
         "y": [
          0.256910313,
          0.25690562,
          0.256909141,
          0.256543152,
          0.366060152,
          0.369683293,
          0.321189888,
          0.29450291,
          0.382227182,
          0.482880537,
          0.43737015,
          0.438623359,
          0.438629363,
          0.438623359,
          0.43861132,
          0.350707015,
          0.394972159,
          0.439247958,
          0.380205885,
          0.403053894,
          0.426089512,
          0.426674493,
          0.439464848,
          0.507758968,
          0.53686617,
          0.61945208,
          0.672665416,
          0.587136733,
          0.518472035,
          0.563952038,
          0.430746163,
          0.386883226,
          0.271950205,
          0.321256592,
          0.360511562,
          0.370914692,
          0.382234159,
          0.382234159,
          0.371925359,
          0.482559138,
          0.58456964,
          0.438629363,
          0.438629363,
          0.418618162,
          0.437793879,
          0.439357805,
          0.431110003,
          0.421245895,
          0.438629363,
          0.438629363,
          0.39618136,
          0.431809324,
          0.363435758,
          0.322705889,
          0.311487488,
          0.319572822,
          0.32291476,
          0.33863231,
          0.344637357,
          0.344637357,
          0.308657621,
          0.344637357,
          0.34362669,
          0.321829407,
          0.32129888,
          0.309457299,
          0.29945717,
          0.256455978,
          0.400952082,
          0.399869563,
          0.364825969,
          0.396881078,
          0.211763197,
          0.365154098,
          0.287777461
         ],
         "yaxis": "y"
        },
        {
         "hovertemplate": "Nombre_del_pozo=TECOMINOACÁN-547<br>Fecha=%{x}<br>Petróleo_(Mbd)=%{y}<extra></extra>",
         "legendgroup": "TECOMINOACÁN-547",
         "line": {
          "color": "#19d3f3",
          "dash": "solid",
          "shape": "linear"
         },
         "marker": {
          "symbol": "circle"
         },
         "mode": "lines",
         "name": "TECOMINOACÁN-547",
         "showlegend": true,
         "type": "scattergl",
         "x": [
          "2016-01-01T00:00:00",
          "2016-02-01T00:00:00",
          "2016-03-01T00:00:00",
          "2016-04-01T00:00:00",
          "2016-05-01T00:00:00",
          "2016-06-01T00:00:00",
          "2016-07-01T00:00:00",
          "2016-08-01T00:00:00",
          "2016-09-01T00:00:00",
          "2016-10-01T00:00:00",
          "2016-11-01T00:00:00",
          "2016-12-01T00:00:00",
          "2017-01-01T00:00:00",
          "2017-02-01T00:00:00",
          "2017-03-01T00:00:00",
          "2017-04-01T00:00:00",
          "2017-05-01T00:00:00",
          "2017-06-01T00:00:00",
          "2017-07-01T00:00:00",
          "2017-08-01T00:00:00"
         ],
         "xaxis": "x",
         "y": [
          0.375966311,
          0.362995325,
          0.217291366,
          0.181457351,
          0.181716221,
          0.181708737,
          0.181111479,
          0.179289006,
          0.181714562,
          0.181962709,
          0.181715392,
          0.178885564,
          0.175653879,
          0.18798144,
          0.111168768,
          0.112631698,
          0.111982895,
          0.109028737,
          0.102883995,
          0.033756269
         ],
         "yaxis": "y"
        },
        {
         "hovertemplate": "Nombre_del_pozo=TECOMINOACÁN-658<br>Fecha=%{x}<br>Petróleo_(Mbd)=%{y}<extra></extra>",
         "legendgroup": "TECOMINOACÁN-658",
         "line": {
          "color": "#FF6692",
          "dash": "solid",
          "shape": "linear"
         },
         "marker": {
          "symbol": "circle"
         },
         "mode": "lines",
         "name": "TECOMINOACÁN-658",
         "showlegend": true,
         "type": "scattergl",
         "x": [
          "2016-01-01T00:00:00",
          "2016-02-01T00:00:00",
          "2016-03-01T00:00:00",
          "2016-04-01T00:00:00",
          "2016-05-01T00:00:00",
          "2016-06-01T00:00:00",
          "2016-07-01T00:00:00",
          "2016-08-01T00:00:00",
          "2016-09-01T00:00:00",
          "2016-10-01T00:00:00",
          "2016-11-01T00:00:00",
          "2016-12-01T00:00:00",
          "2017-01-01T00:00:00",
          "2017-02-01T00:00:00",
          "2017-03-01T00:00:00",
          "2017-04-01T00:00:00",
          "2017-05-01T00:00:00",
          "2017-06-01T00:00:00",
          "2017-07-01T00:00:00",
          "2017-08-01T00:00:00",
          "2017-09-01T00:00:00",
          "2017-10-01T00:00:00",
          "2017-11-01T00:00:00",
          "2017-12-01T00:00:00",
          "2018-01-01T00:00:00",
          "2018-02-01T00:00:00",
          "2018-03-01T00:00:00",
          "2018-04-01T00:00:00",
          "2018-05-01T00:00:00",
          "2018-06-01T00:00:00",
          "2018-07-01T00:00:00",
          "2018-08-01T00:00:00",
          "2018-09-01T00:00:00",
          "2018-10-01T00:00:00",
          "2018-11-01T00:00:00",
          "2018-12-01T00:00:00",
          "2019-01-01T00:00:00",
          "2019-02-01T00:00:00",
          "2019-03-01T00:00:00",
          "2019-04-01T00:00:00",
          "2019-05-01T00:00:00",
          "2019-06-01T00:00:00",
          "2019-07-01T00:00:00",
          "2019-08-01T00:00:00",
          "2019-09-01T00:00:00",
          "2019-10-01T00:00:00",
          "2019-11-01T00:00:00",
          "2019-12-01T00:00:00",
          "2020-01-01T00:00:00",
          "2020-02-01T00:00:00",
          "2020-03-01T00:00:00",
          "2020-04-01T00:00:00",
          "2020-05-01T00:00:00",
          "2020-06-01T00:00:00",
          "2020-07-01T00:00:00"
         ],
         "xaxis": "x",
         "y": [
          0.075193262,
          0.075191889,
          0.075192919,
          0.075085801,
          0.075192919,
          0.075189822,
          0.075193605,
          0.075192232,
          0.075192232,
          0.075294914,
          0.075192576,
          0.075192576,
          0.075193605,
          0.075192576,
          0.075190512,
          0.075087799,
          0.07519429,
          0.075192232,
          0.068117694,
          0.040628803,
          0.040729145,
          0.039677441,
          0.043862936,
          0.043862936,
          0.043862936,
          0.043862936,
          0.043400051,
          0.078326672,
          0.04285227,
          0.037596803,
          0.037192536,
          0.037596803,
          0.026317762,
          0.04952267,
          0.066629889,
          0.056395204,
          0.056395204,
          0.056395204,
          0.056395204,
          0.056307478,
          0.056395204,
          0.02777986,
          0.025064535,
          0.025064535,
          0.025064535,
          0.024660268,
          0.025064535,
          0.025064535,
          0.025064535,
          0.600949792,
          0.023851735,
          0.022013204,
          0.018596268,
          0.018798401,
          0.012734401
         ],
         "yaxis": "y"
        },
        {
         "hovertemplate": "Nombre_del_pozo=TECOMINOACÁN-726<br>Fecha=%{x}<br>Petróleo_(Mbd)=%{y}<extra></extra>",
         "legendgroup": "TECOMINOACÁN-726",
         "line": {
          "color": "#B6E880",
          "dash": "solid",
          "shape": "linear"
         },
         "marker": {
          "symbol": "circle"
         },
         "mode": "lines",
         "name": "TECOMINOACÁN-726",
         "showlegend": true,
         "type": "scattergl",
         "x": [
          "2016-01-01T00:00:00",
          "2016-02-01T00:00:00",
          "2016-03-01T00:00:00",
          "2016-04-01T00:00:00",
          "2016-05-01T00:00:00",
          "2016-06-01T00:00:00",
          "2016-07-01T00:00:00",
          "2016-08-01T00:00:00",
          "2016-09-01T00:00:00",
          "2016-10-01T00:00:00",
          "2016-11-01T00:00:00",
          "2016-12-01T00:00:00",
          "2017-01-01T00:00:00",
          "2017-02-01T00:00:00",
          "2017-08-01T00:00:00",
          "2017-09-01T00:00:00",
          "2017-10-01T00:00:00",
          "2017-11-01T00:00:00",
          "2017-12-01T00:00:00",
          "2018-01-01T00:00:00",
          "2018-02-01T00:00:00",
          "2018-03-01T00:00:00",
          "2018-04-01T00:00:00",
          "2018-05-01T00:00:00",
          "2018-06-01T00:00:00",
          "2018-07-01T00:00:00",
          "2018-08-01T00:00:00",
          "2018-09-01T00:00:00",
          "2018-10-01T00:00:00",
          "2018-11-01T00:00:00",
          "2018-12-01T00:00:00",
          "2019-01-01T00:00:00",
          "2019-02-01T00:00:00",
          "2019-03-01T00:00:00",
          "2019-04-01T00:00:00",
          "2019-05-01T00:00:00",
          "2019-06-01T00:00:00",
          "2019-07-01T00:00:00",
          "2019-08-01T00:00:00",
          "2019-09-01T00:00:00",
          "2019-10-01T00:00:00",
          "2019-11-01T00:00:00",
          "2019-12-01T00:00:00",
          "2020-01-01T00:00:00",
          "2020-02-01T00:00:00",
          "2020-03-01T00:00:00",
          "2020-04-01T00:00:00",
          "2020-05-01T00:00:00",
          "2020-06-01T00:00:00",
          "2020-07-01T00:00:00",
          "2020-08-01T00:00:00",
          "2020-09-01T00:00:00",
          "2021-05-01T00:00:00",
          "2021-06-01T00:00:00",
          "2021-07-01T00:00:00",
          "2021-08-01T00:00:00"
         ],
         "xaxis": "x",
         "y": [
          0.16918484,
          0.140012482,
          0.116629877,
          0.156524104,
          0.085501626,
          0.04386073,
          0.079034139,
          0.043862136,
          0.064748867,
          0.106667795,
          0.106522816,
          0.077416012,
          0.056395204,
          0.018126782,
          0.054778137,
          0.066628703,
          0.035760029,
          0.126367031,
          0.04285227,
          0.080449072,
          0.10025814,
          0.144525343,
          0.142032365,
          0.138461343,
          0.068300858,
          0.057810137,
          0.031330669,
          0.029241958,
          0.020213335,
          0.05200891,
          0.041639469,
          0.034969069,
          0.055052461,
          0.048714137,
          0.047622617,
          0.04952267,
          0.045742776,
          0.056395204,
          0.051139737,
          0.061825853,
          0.049201654,
          0.048875843,
          0.05012907,
          0.04588427,
          0.05012907,
          0.04952267,
          0.038178016,
          0.009702401,
          0.042818581,
          0.023649602,
          0.077012805,
          0.023393566,
          0.033544411,
          0.087700449,
          0.070317878,
          0.008083719
         ],
         "yaxis": "y"
        },
        {
         "hovertemplate": "Nombre_del_pozo=TECOMINOACÁN-513<br>Fecha=%{x}<br>Petróleo_(Mbd)=%{y}<extra></extra>",
         "legendgroup": "TECOMINOACÁN-513",
         "line": {
          "color": "#FF97FF",
          "dash": "solid",
          "shape": "linear"
         },
         "marker": {
          "symbol": "circle"
         },
         "mode": "lines",
         "name": "TECOMINOACÁN-513",
         "showlegend": true,
         "type": "scattergl",
         "x": [
          "2016-01-01T00:00:00",
          "2016-02-01T00:00:00",
          "2016-03-01T00:00:00",
          "2016-04-01T00:00:00",
          "2016-05-01T00:00:00",
          "2016-06-01T00:00:00",
          "2016-07-01T00:00:00",
          "2016-08-01T00:00:00",
          "2016-09-01T00:00:00",
          "2016-10-01T00:00:00",
          "2016-11-01T00:00:00",
          "2016-12-01T00:00:00",
          "2017-01-01T00:00:00",
          "2017-02-01T00:00:00",
          "2017-03-01T00:00:00",
          "2017-04-01T00:00:00",
          "2017-05-01T00:00:00",
          "2017-06-01T00:00:00",
          "2017-07-01T00:00:00",
          "2017-08-01T00:00:00",
          "2017-09-01T00:00:00",
          "2017-10-01T00:00:00",
          "2017-11-01T00:00:00",
          "2017-12-01T00:00:00",
          "2018-01-01T00:00:00",
          "2018-02-01T00:00:00",
          "2018-03-01T00:00:00",
          "2018-04-01T00:00:00",
          "2018-05-01T00:00:00",
          "2018-06-01T00:00:00",
          "2018-07-01T00:00:00",
          "2018-08-01T00:00:00",
          "2018-09-01T00:00:00",
          "2018-10-01T00:00:00",
          "2018-11-01T00:00:00",
          "2018-12-01T00:00:00",
          "2019-01-01T00:00:00",
          "2019-02-01T00:00:00",
          "2019-03-01T00:00:00",
          "2019-04-01T00:00:00",
          "2019-05-01T00:00:00",
          "2019-06-01T00:00:00",
          "2019-07-01T00:00:00",
          "2019-08-01T00:00:00",
          "2019-09-01T00:00:00",
          "2019-10-01T00:00:00",
          "2019-11-01T00:00:00",
          "2019-12-01T00:00:00",
          "2020-01-01T00:00:00",
          "2020-02-01T00:00:00",
          "2020-03-01T00:00:00",
          "2020-04-01T00:00:00",
          "2020-05-01T00:00:00",
          "2020-06-01T00:00:00",
          "2020-07-01T00:00:00"
         ],
         "xaxis": "x",
         "y": [
          0.15665263,
          0.156649768,
          0.136438765,
          0.121139158,
          0.125321532,
          0.12531637,
          0.125322675,
          0.125320387,
          0.125320387,
          0.125491523,
          0.12532096,
          0.12532096,
          0.125322675,
          0.12532096,
          0.12531752,
          0.125147028,
          0.116429869,
          0.134928284,
          0.137852426,
          0.174441078,
          0.174404285,
          0.156866277,
          0.156653344,
          0.156653344,
          0.159078944,
          0.25064535,
          0.208138729,
          0.194250146,
          0.221538148,
          0.220776779,
          0.194250146,
          0.166962145,
          0.129500098,
          0.086058272,
          0.106524274,
          0.09965174,
          0.106524274,
          0.106524274,
          0.104098674,
          0.08839426,
          0.10571574,
          0.106524274,
          0.116630941,
          0.156653344,
          0.156653344,
          0.156913502,
          0.156653344,
          0.156653344,
          0.150185077,
          0.156653344,
          0.156653344,
          0.161707137,
          0.166355745,
          0.155817859,
          0.107939207
         ],
         "yaxis": "y"
        },
        {
         "hovertemplate": "Nombre_del_pozo=TECOMINOACÁN-628<br>Fecha=%{x}<br>Petróleo_(Mbd)=%{y}<extra></extra>",
         "legendgroup": "TECOMINOACÁN-628",
         "line": {
          "color": "#FECB52",
          "dash": "solid",
          "shape": "linear"
         },
         "marker": {
          "symbol": "circle"
         },
         "mode": "lines",
         "name": "TECOMINOACÁN-628",
         "showlegend": true,
         "type": "scattergl",
         "x": [
          "2016-01-01T00:00:00",
          "2016-02-01T00:00:00",
          "2016-03-01T00:00:00",
          "2016-04-01T00:00:00",
          "2016-05-01T00:00:00",
          "2016-06-01T00:00:00",
          "2016-07-01T00:00:00",
          "2016-08-01T00:00:00",
          "2016-09-01T00:00:00",
          "2016-10-01T00:00:00",
          "2016-11-01T00:00:00",
          "2016-12-01T00:00:00",
          "2017-01-01T00:00:00",
          "2017-02-01T00:00:00",
          "2017-03-01T00:00:00",
          "2017-04-01T00:00:00",
          "2017-05-01T00:00:00",
          "2017-06-01T00:00:00",
          "2017-07-01T00:00:00",
          "2017-08-01T00:00:00",
          "2017-09-01T00:00:00",
          "2017-10-01T00:00:00",
          "2017-11-01T00:00:00",
          "2017-12-01T00:00:00",
          "2018-01-01T00:00:00",
          "2018-02-01T00:00:00",
          "2018-03-01T00:00:00",
          "2018-04-01T00:00:00",
          "2018-05-01T00:00:00",
          "2018-06-01T00:00:00",
          "2018-07-01T00:00:00",
          "2018-08-01T00:00:00",
          "2018-09-01T00:00:00",
          "2018-10-01T00:00:00",
          "2018-11-01T00:00:00",
          "2018-12-01T00:00:00",
          "2019-01-01T00:00:00",
          "2019-02-01T00:00:00",
          "2019-03-01T00:00:00",
          "2019-04-01T00:00:00",
          "2019-05-01T00:00:00",
          "2019-06-01T00:00:00",
          "2019-07-01T00:00:00",
          "2019-08-01T00:00:00",
          "2019-09-01T00:00:00",
          "2019-10-01T00:00:00",
          "2019-11-01T00:00:00",
          "2019-12-01T00:00:00",
          "2020-01-01T00:00:00",
          "2020-02-01T00:00:00",
          "2020-03-01T00:00:00",
          "2020-04-01T00:00:00",
          "2020-06-01T00:00:00",
          "2020-07-01T00:00:00"
         ],
         "xaxis": "x",
         "y": [
          0.238111997,
          0.238107648,
          0.238110911,
          0.237771702,
          0.238110911,
          0.238101104,
          0.236496016,
          0.237502347,
          0.238108736,
          0.238433895,
          0.238109824,
          0.238109824,
          0.233261882,
          0.238109824,
          0.238103288,
          0.237778726,
          0.239328063,
          0.275704852,
          0.240130033,
          0.274092819,
          0.253982768,
          0.225885902,
          0.225580815,
          0.201324814,
          0.223761615,
          0.230951787,
          0.181313612,
          0.15038721,
          0.15038721,
          0.177331585,
          0.181313612,
          0.140886943,
          0.11132831,
          0.15202449,
          0.138481556,
          0.156653344,
          0.156451211,
          0.159786411,
          0.176462412,
          0.127183717,
          0.117843741,
          0.1374372,
          0.15220641,
          0.154834144,
          0.154982375,
          0.156913502,
          0.156653344,
          0.148770143,
          0.14189761,
          0.15578905,
          0.121077875,
          0.081636826,
          0.100049269,
          0.09904534
         ],
         "yaxis": "y"
        },
        {
         "hovertemplate": "Nombre_del_pozo=TECOMINOACÁN-807<br>Fecha=%{x}<br>Petróleo_(Mbd)=%{y}<extra></extra>",
         "legendgroup": "TECOMINOACÁN-807",
         "line": {
          "color": "#636efa",
          "dash": "solid",
          "shape": "linear"
         },
         "marker": {
          "symbol": "circle"
         },
         "mode": "lines",
         "name": "TECOMINOACÁN-807",
         "showlegend": true,
         "type": "scattergl",
         "x": [
          "2016-01-01T00:00:00",
          "2016-02-01T00:00:00",
          "2016-03-01T00:00:00",
          "2016-04-01T00:00:00",
          "2016-05-01T00:00:00",
          "2016-06-01T00:00:00",
          "2016-07-01T00:00:00",
          "2016-08-01T00:00:00",
          "2016-09-01T00:00:00",
          "2016-10-01T00:00:00",
          "2016-11-01T00:00:00",
          "2016-12-01T00:00:00",
          "2017-01-01T00:00:00",
          "2017-02-01T00:00:00",
          "2017-03-01T00:00:00",
          "2017-04-01T00:00:00",
          "2017-05-01T00:00:00",
          "2017-06-01T00:00:00",
          "2017-07-01T00:00:00",
          "2017-08-01T00:00:00",
          "2017-09-01T00:00:00",
          "2017-10-01T00:00:00",
          "2017-11-01T00:00:00",
          "2017-12-01T00:00:00",
          "2018-01-01T00:00:00",
          "2018-02-01T00:00:00",
          "2018-03-01T00:00:00",
          "2018-04-01T00:00:00",
          "2018-05-01T00:00:00",
          "2018-06-01T00:00:00",
          "2018-07-01T00:00:00",
          "2018-08-01T00:00:00",
          "2018-09-01T00:00:00",
          "2018-10-01T00:00:00",
          "2018-11-01T00:00:00",
          "2018-12-01T00:00:00",
          "2019-01-01T00:00:00",
          "2019-02-01T00:00:00",
          "2019-03-01T00:00:00",
          "2019-04-01T00:00:00"
         ],
         "xaxis": "x",
         "y": [
          0.382232416,
          0.382225434,
          0.382230672,
          0.37416717,
          0.382230672,
          0.38221493,
          0.369904025,
          0.324620229,
          0.382227182,
          0.102884465,
          0.267351381,
          0.269440064,
          0.269443752,
          0.26541189,
          0.279134669,
          0.337861676,
          0.269446206,
          0.269438833,
          0.28318365,
          0.28985922,
          0.309123763,
          0.296247716,
          0.29137522,
          0.196473613,
          0.19505868,
          0.219986053,
          0.168959222,
          0.167514642,
          0.217495481,
          0.14286785,
          0.076406405,
          0.061852804,
          0.112790408,
          0.107282274,
          0.106524274,
          0.085098139,
          0.106524274,
          0.105405321,
          0.092172806,
          0.059778916
         ],
         "yaxis": "y"
        },
        {
         "hovertemplate": "Nombre_del_pozo=TECOMINOACÁN-825<br>Fecha=%{x}<br>Petróleo_(Mbd)=%{y}<extra></extra>",
         "legendgroup": "TECOMINOACÁN-825",
         "line": {
          "color": "#EF553B",
          "dash": "solid",
          "shape": "linear"
         },
         "marker": {
          "symbol": "circle"
         },
         "mode": "lines",
         "name": "TECOMINOACÁN-825",
         "showlegend": true,
         "type": "scattergl",
         "x": [
          "2016-01-01T00:00:00",
          "2016-02-01T00:00:00",
          "2016-03-01T00:00:00",
          "2016-04-01T00:00:00",
          "2016-05-01T00:00:00",
          "2016-06-01T00:00:00",
          "2016-07-01T00:00:00",
          "2016-08-01T00:00:00",
          "2016-09-01T00:00:00",
          "2016-10-01T00:00:00",
          "2016-11-01T00:00:00",
          "2016-12-01T00:00:00",
          "2017-01-01T00:00:00",
          "2017-02-01T00:00:00",
          "2017-03-01T00:00:00",
          "2017-04-01T00:00:00",
          "2017-05-01T00:00:00",
          "2017-06-01T00:00:00",
          "2017-07-01T00:00:00",
          "2017-08-01T00:00:00",
          "2017-09-01T00:00:00",
          "2017-10-01T00:00:00",
          "2017-11-01T00:00:00",
          "2017-12-01T00:00:00",
          "2018-01-01T00:00:00",
          "2018-02-01T00:00:00",
          "2018-03-01T00:00:00",
          "2018-04-01T00:00:00",
          "2018-05-01T00:00:00",
          "2018-06-01T00:00:00",
          "2018-07-01T00:00:00",
          "2018-08-01T00:00:00",
          "2018-09-01T00:00:00",
          "2018-10-01T00:00:00",
          "2018-11-01T00:00:00",
          "2018-12-01T00:00:00",
          "2019-01-01T00:00:00",
          "2019-02-01T00:00:00",
          "2019-03-01T00:00:00",
          "2019-04-01T00:00:00",
          "2019-05-01T00:00:00",
          "2019-06-01T00:00:00",
          "2019-07-01T00:00:00",
          "2019-08-01T00:00:00",
          "2019-09-01T00:00:00",
          "2019-10-01T00:00:00",
          "2019-11-01T00:00:00",
          "2019-12-01T00:00:00",
          "2020-01-01T00:00:00",
          "2020-02-01T00:00:00",
          "2020-03-01T00:00:00",
          "2020-04-01T00:00:00",
          "2020-05-01T00:00:00",
          "2020-06-01T00:00:00",
          "2020-07-01T00:00:00",
          "2020-08-01T00:00:00",
          "2020-10-01T00:00:00",
          "2020-11-01T00:00:00",
          "2021-05-01T00:00:00",
          "2021-06-01T00:00:00"
         ],
         "xaxis": "x",
         "y": [
          0.222345668,
          0.225575666,
          0.225578758,
          0.225257402,
          0.106725434,
          0.093987278,
          0.093992006,
          0.093990291,
          0.093990291,
          0.094118643,
          0.09399072,
          0.092980067,
          0.093992006,
          0.086829522,
          0.043861132,
          0.041086289,
          0.093992863,
          0.093990291,
          0.134416222,
          0.091364273,
          0.068926245,
          0.066806227,
          0.075193605,
          0.080044805,
          0.188994679,
          0.231846949,
          0.180116983,
          0.084383935,
          0.073980805,
          0.167723514,
          0.210825081,
          0.245389883,
          0.179629168,
          0.189243303,
          0.154355762,
          0.149982943,
          0.175451745,
          0.118161379,
          0.086917339,
          0.075523621,
          0.087725873,
          0.052635524,
          0.05012907,
          0.05012907,
          0.05012907,
          0.050212321,
          0.05012907,
          0.044873603,
          0.05012907,
          0.05012907,
          0.04649067,
          0.044026407,
          0.135227209,
          0.533874596,
          0.924962196,
          0.008489601,
          0.009702401,
          0.051800039,
          0.01778258,
          0.010022908
         ],
         "yaxis": "y"
        },
        {
         "hovertemplate": "Nombre_del_pozo=TECOMINOACÁN-711<br>Fecha=%{x}<br>Petróleo_(Mbd)=%{y}<extra></extra>",
         "legendgroup": "TECOMINOACÁN-711",
         "line": {
          "color": "#00cc96",
          "dash": "solid",
          "shape": "linear"
         },
         "marker": {
          "symbol": "circle"
         },
         "mode": "lines",
         "name": "TECOMINOACÁN-711",
         "showlegend": true,
         "type": "scattergl",
         "x": [
          "2016-01-01T00:00:00",
          "2016-02-01T00:00:00",
          "2016-03-01T00:00:00",
          "2016-04-01T00:00:00",
          "2016-05-01T00:00:00",
          "2016-06-01T00:00:00",
          "2016-07-01T00:00:00",
          "2016-08-01T00:00:00",
          "2016-09-01T00:00:00",
          "2016-10-01T00:00:00",
          "2016-11-01T00:00:00",
          "2016-12-01T00:00:00",
          "2017-01-01T00:00:00",
          "2017-02-01T00:00:00",
          "2017-03-01T00:00:00",
          "2017-04-01T00:00:00",
          "2017-05-01T00:00:00",
          "2017-06-01T00:00:00",
          "2017-07-01T00:00:00",
          "2017-08-01T00:00:00",
          "2017-09-01T00:00:00",
          "2017-10-01T00:00:00",
          "2017-11-01T00:00:00",
          "2017-12-01T00:00:00",
          "2018-01-01T00:00:00",
          "2018-02-01T00:00:00",
          "2018-03-01T00:00:00",
          "2018-04-01T00:00:00",
          "2018-05-01T00:00:00",
          "2018-06-01T00:00:00",
          "2018-07-01T00:00:00",
          "2018-08-01T00:00:00",
          "2018-09-01T00:00:00",
          "2018-10-01T00:00:00",
          "2018-11-01T00:00:00",
          "2018-12-01T00:00:00",
          "2019-01-01T00:00:00",
          "2019-02-01T00:00:00",
          "2019-03-01T00:00:00",
          "2019-04-01T00:00:00",
          "2019-05-01T00:00:00",
          "2019-06-01T00:00:00",
          "2019-07-01T00:00:00",
          "2019-08-01T00:00:00",
          "2019-09-01T00:00:00",
          "2019-10-01T00:00:00",
          "2019-11-01T00:00:00",
          "2019-12-01T00:00:00",
          "2020-01-01T00:00:00",
          "2020-02-01T00:00:00",
          "2020-03-01T00:00:00",
          "2020-04-01T00:00:00",
          "2020-05-01T00:00:00",
          "2020-06-01T00:00:00",
          "2020-07-01T00:00:00",
          "2020-08-01T00:00:00",
          "2020-09-01T00:00:00",
          "2020-10-01T00:00:00",
          "2020-11-01T00:00:00",
          "2020-12-01T00:00:00",
          "2021-01-01T00:00:00",
          "2021-02-01T00:00:00",
          "2021-03-01T00:00:00",
          "2021-04-01T00:00:00",
          "2021-05-01T00:00:00",
          "2021-06-01T00:00:00",
          "2021-08-01T00:00:00",
          "2021-09-01T00:00:00",
          "2021-10-01T00:00:00",
          "2021-11-01T00:00:00",
          "2021-12-01T00:00:00",
          "2022-01-01T00:00:00"
         ],
         "xaxis": "x",
         "y": [
          1.258880745,
          1.460624046,
          1.44018696,
          1.11078798,
          1.279290284,
          1.253581426,
          1.086264607,
          1.093117185,
          1.127883486,
          1.11850866,
          1.127888639,
          1.114952281,
          1.027645936,
          1.161904328,
          1.175357062,
          1.171994174,
          1.056964901,
          1.034310931,
          1.074521257,
          1.106680075,
          1.157543174,
          1.146960839,
          1.08404114,
          1.08404114,
          1.084243273,
          1.096573408,
          1.098315797,
          1.045608853,
          1.072519539,
          1.069420161,
          1.073732339,
          1.07615794,
          1.075268553,
          1.098740277,
          1.092813727,
          0.992272601,
          1.018954202,
          1.085607674,
          1.000357934,
          1.026029274,
          1.046646471,
          1.017620122,
          1.006017668,
          1.051093405,
          0.975845897,
          0.972671983,
          0.895848256,
          0.920313129,
          0.927387796,
          0.920905589,
          0.903536061,
          0.921430549,
          0.864928592,
          0.923210374,
          1.864073726,
          0.820863522,
          0.886240184,
          0.924591617,
          0.920495049,
          0.925770729,
          0.927387796,
          0.927387796,
          0.92940913,
          0.891521048,
          0.839216508,
          0.534555118,
          0.353662697,
          0.704589753,
          0.853158358,
          0.761394094,
          0.247343401,
          0.148719192
         ],
         "yaxis": "y"
        },
        {
         "hovertemplate": "Nombre_del_pozo=JUJO-18<br>Fecha=%{x}<br>Petróleo_(Mbd)=%{y}<extra></extra>",
         "legendgroup": "JUJO-18",
         "line": {
          "color": "#ab63fa",
          "dash": "solid",
          "shape": "linear"
         },
         "marker": {
          "symbol": "circle"
         },
         "mode": "lines",
         "name": "JUJO-18",
         "showlegend": true,
         "type": "scattergl",
         "x": [
          "2016-01-01T00:00:00",
          "2016-02-01T00:00:00",
          "2016-03-01T00:00:00",
          "2016-04-01T00:00:00",
          "2016-05-01T00:00:00",
          "2016-06-01T00:00:00",
          "2016-07-01T00:00:00",
          "2016-08-01T00:00:00",
          "2016-09-01T00:00:00",
          "2016-10-01T00:00:00",
          "2016-11-01T00:00:00",
          "2016-12-01T00:00:00",
          "2017-01-01T00:00:00",
          "2017-02-01T00:00:00",
          "2017-03-01T00:00:00",
          "2017-04-01T00:00:00",
          "2017-05-01T00:00:00",
          "2017-06-01T00:00:00",
          "2017-07-01T00:00:00",
          "2017-08-01T00:00:00",
          "2017-09-01T00:00:00",
          "2017-10-01T00:00:00",
          "2017-11-01T00:00:00",
          "2017-12-01T00:00:00",
          "2018-01-01T00:00:00",
          "2018-02-01T00:00:00",
          "2018-03-01T00:00:00",
          "2018-04-01T00:00:00",
          "2018-05-01T00:00:00",
          "2018-06-01T00:00:00",
          "2018-07-01T00:00:00",
          "2018-08-01T00:00:00",
          "2018-09-01T00:00:00",
          "2018-10-01T00:00:00",
          "2018-11-01T00:00:00",
          "2018-12-01T00:00:00",
          "2019-01-01T00:00:00",
          "2019-02-01T00:00:00",
          "2019-03-01T00:00:00",
          "2019-04-01T00:00:00",
          "2019-05-01T00:00:00",
          "2019-06-01T00:00:00",
          "2019-07-01T00:00:00",
          "2019-08-01T00:00:00",
          "2019-09-01T00:00:00",
          "2019-10-01T00:00:00",
          "2019-11-01T00:00:00",
          "2019-12-01T00:00:00",
          "2020-01-01T00:00:00",
          "2020-02-01T00:00:00",
          "2020-03-01T00:00:00",
          "2020-04-01T00:00:00",
          "2020-05-01T00:00:00",
          "2020-06-01T00:00:00",
          "2020-07-01T00:00:00",
          "2020-08-01T00:00:00",
          "2020-09-01T00:00:00",
          "2020-10-01T00:00:00",
          "2020-11-01T00:00:00",
          "2020-12-01T00:00:00",
          "2021-01-01T00:00:00",
          "2021-02-01T00:00:00",
          "2021-03-01T00:00:00",
          "2021-04-01T00:00:00",
          "2021-05-01T00:00:00",
          "2021-06-01T00:00:00",
          "2021-07-01T00:00:00",
          "2021-08-01T00:00:00",
          "2021-09-01T00:00:00",
          "2021-10-01T00:00:00",
          "2021-11-01T00:00:00",
          "2021-12-01T00:00:00",
          "2022-01-01T00:00:00",
          "2022-02-01T00:00:00",
          "2022-03-01T00:00:00",
          "2022-04-01T00:00:00",
          "2022-05-01T00:00:00",
          "2022-06-01T00:00:00",
          "2022-07-01T00:00:00",
          "2022-08-01T00:00:00",
          "2022-09-01T00:00:00",
          "2022-10-01T00:00:00",
          "2022-11-01T00:00:00",
          "2022-12-01T00:00:00"
         ],
         "xaxis": "x",
         "y": [
          0.100257683,
          0.100255852,
          0.100257226,
          0.10011275,
          0.100257226,
          0.100253096,
          0.10025814,
          0.10025631,
          0.10025631,
          0.100390227,
          0.100256768,
          0.100256768,
          0.10025814,
          0.071611977,
          0.067914011,
          0.098499736,
          0.100259054,
          0.10025631,
          0.118650109,
          0.106524274,
          0.106940113,
          0.085194616,
          0.068927471,
          0.086715206,
          0.119056541,
          0.119056541,
          0.084786854,
          0.081459739,
          0.081459739,
          0.057439559,
          0.05012907,
          0.05012907,
          0.05012907,
          0.063065604,
          0.05012907,
          0.05012907,
          0.05012907,
          0.05012907,
          0.052150404,
          0.037538319,
          0.037596803,
          0.037596803,
          0.037596803,
          0.037596803,
          0.037596803,
          0.037649764,
          0.037596803,
          0.034969069,
          0.037596803,
          0.037596803,
          0.037596803,
          0.036917971,
          0.031330669,
          0.031330669,
          0.031330669,
          0.029713602,
          0.058483915,
          0.069621977,
          0.062661338,
          0.062661338,
          0.062661338,
          0.084145225,
          0.10025814,
          0.100118893,
          0.100229085,
          0.099393842,
          0.087695285,
          0.071743004,
          0.077475637,
          0.075290955,
          0.075178791,
          0.075172994,
          0.146294422,
          0.193316875,
          0.22553346,
          0.153223633,
          0.085081384,
          0.081443309,
          0.075784027,
          0.075178148,
          0.075176046,
          0.07527885,
          0.067242042,
          0.062643037
         ],
         "yaxis": "y"
        },
        {
         "hovertemplate": "Nombre_del_pozo=JUJO-524<br>Fecha=%{x}<br>Petróleo_(Mbd)=%{y}<extra></extra>",
         "legendgroup": "JUJO-524",
         "line": {
          "color": "#FFA15A",
          "dash": "solid",
          "shape": "linear"
         },
         "marker": {
          "symbol": "circle"
         },
         "mode": "lines",
         "name": "JUJO-524",
         "showlegend": true,
         "type": "scattergl",
         "x": [
          "2016-01-01T00:00:00",
          "2016-02-01T00:00:00",
          "2016-03-01T00:00:00",
          "2016-04-01T00:00:00",
          "2016-05-01T00:00:00",
          "2016-06-01T00:00:00",
          "2016-07-01T00:00:00",
          "2016-08-01T00:00:00",
          "2016-09-01T00:00:00",
          "2016-10-01T00:00:00",
          "2016-11-01T00:00:00",
          "2016-12-01T00:00:00",
          "2017-01-01T00:00:00",
          "2017-02-01T00:00:00",
          "2017-03-01T00:00:00",
          "2017-04-01T00:00:00",
          "2017-05-01T00:00:00",
          "2017-06-01T00:00:00",
          "2017-07-01T00:00:00",
          "2019-09-01T00:00:00",
          "2019-10-01T00:00:00"
         ],
         "xaxis": "x",
         "y": [
          0.219313682,
          0.192517163,
          0.162917992,
          0.162683218,
          0.162917992,
          0.160196094,
          0.213452814,
          0.253066331,
          0.220563882,
          0.190048911,
          0.216596392,
          0.09399072,
          0.093992006,
          0.09399072,
          0.09398814,
          0.093860793,
          0.054374366,
          0.048248349,
          0.009500094,
          0.010443556,
          0.003234134
         ],
         "yaxis": "y"
        },
        {
         "hovertemplate": "Nombre_del_pozo=JUJO-532<br>Fecha=%{x}<br>Petróleo_(Mbd)=%{y}<extra></extra>",
         "legendgroup": "JUJO-532",
         "line": {
          "color": "#19d3f3",
          "dash": "solid",
          "shape": "linear"
         },
         "marker": {
          "symbol": "circle"
         },
         "mode": "lines",
         "name": "JUJO-532",
         "showlegend": true,
         "type": "scattergl",
         "x": [
          "2016-01-01T00:00:00",
          "2016-02-01T00:00:00",
          "2016-03-01T00:00:00",
          "2016-04-01T00:00:00",
          "2016-05-01T00:00:00",
          "2016-06-01T00:00:00",
          "2016-07-01T00:00:00",
          "2016-08-01T00:00:00",
          "2016-09-01T00:00:00",
          "2016-10-01T00:00:00",
          "2016-11-01T00:00:00",
          "2016-12-01T00:00:00",
          "2017-01-01T00:00:00",
          "2017-02-01T00:00:00",
          "2017-03-01T00:00:00",
          "2017-04-01T00:00:00",
          "2017-05-01T00:00:00",
          "2017-06-01T00:00:00",
          "2017-07-01T00:00:00",
          "2017-08-01T00:00:00",
          "2017-09-01T00:00:00",
          "2017-10-01T00:00:00",
          "2017-11-01T00:00:00",
          "2017-12-01T00:00:00",
          "2018-01-01T00:00:00",
          "2018-02-01T00:00:00",
          "2018-03-01T00:00:00",
          "2018-04-01T00:00:00",
          "2018-05-01T00:00:00",
          "2018-06-01T00:00:00",
          "2018-07-01T00:00:00",
          "2018-08-01T00:00:00",
          "2018-09-01T00:00:00",
          "2018-10-01T00:00:00",
          "2018-11-01T00:00:00",
          "2018-12-01T00:00:00",
          "2019-01-01T00:00:00",
          "2019-02-01T00:00:00",
          "2019-03-01T00:00:00",
          "2019-04-01T00:00:00",
          "2019-05-01T00:00:00",
          "2019-06-01T00:00:00",
          "2019-07-01T00:00:00",
          "2019-08-01T00:00:00",
          "2019-09-01T00:00:00",
          "2019-10-01T00:00:00",
          "2019-11-01T00:00:00",
          "2019-12-01T00:00:00",
          "2020-01-01T00:00:00",
          "2020-02-01T00:00:00",
          "2020-03-01T00:00:00",
          "2020-04-01T00:00:00",
          "2020-06-01T00:00:00",
          "2020-07-01T00:00:00",
          "2020-08-01T00:00:00",
          "2020-09-01T00:00:00",
          "2020-10-01T00:00:00",
          "2020-11-01T00:00:00",
          "2020-12-01T00:00:00",
          "2021-01-01T00:00:00",
          "2021-02-01T00:00:00",
          "2021-03-01T00:00:00",
          "2021-04-01T00:00:00",
          "2021-05-01T00:00:00",
          "2021-06-01T00:00:00",
          "2021-07-01T00:00:00",
          "2021-08-01T00:00:00",
          "2021-09-01T00:00:00",
          "2021-10-01T00:00:00",
          "2021-11-01T00:00:00",
          "2021-12-01T00:00:00",
          "2022-01-01T00:00:00",
          "2022-02-01T00:00:00",
          "2022-03-01T00:00:00",
          "2022-04-01T00:00:00",
          "2022-05-01T00:00:00",
          "2022-06-01T00:00:00",
          "2022-07-01T00:00:00",
          "2022-08-01T00:00:00",
          "2022-09-01T00:00:00",
          "2022-10-01T00:00:00",
          "2022-11-01T00:00:00",
          "2022-12-01T00:00:00",
          "2023-01-01T00:00:00",
          "2023-02-01T00:00:00",
          "2023-03-01T00:00:00",
          "2023-04-01T00:00:00",
          "2023-05-01T00:00:00",
          "2023-06-01T00:00:00",
          "2023-07-01T00:00:00",
          "2023-08-01T00:00:00",
          "2023-09-01T00:00:00",
          "2023-10-01T00:00:00",
          "2023-11-01T00:00:00",
          "2023-12-01T00:00:00",
          "2024-01-01T00:00:00"
         ],
         "xaxis": "x",
         "y": [
          0.32583747,
          0.325831518,
          0.325835983,
          0.325366436,
          0.323410405,
          0.325822563,
          0.336147756,
          0.432355336,
          0.337111842,
          0.282347515,
          0.27466177,
          0.237503432,
          0.238113083,
          0.238109824,
          0.238103288,
          0.191832094,
          0.238115252,
          0.24479249,
          0.299556152,
          0.241347216,
          0.238735447,
          0.257265626,
          0.218479197,
          0.309466154,
          0.265401085,
          0.311740154,
          0.272526285,
          0.258373582,
          0.258932818,
          0.297850225,
          0.270454418,
          0.242357883,
          0.24876551,
          0.247490049,
          0.190072724,
          0.202739747,
          0.255900817,
          0.219314682,
          0.222346682,
          0.193226678,
          0.170802678,
          0.156653344,
          0.155844811,
          0.156451211,
          0.19863644,
          0.252220048,
          0.255031644,
          0.231442682,
          0.215069881,
          0.230334434,
          0.213857081,
          0.116297702,
          0.058483915,
          0.19081388,
          0.190611746,
          0.144538819,
          0.145325575,
          0.137854943,
          0.137854943,
          0.135833609,
          0.110328712,
          0.136440009,
          0.266954705,
          0.240671048,
          0.212777994,
          0.093757171,
          0.156015772,
          0.206740918,
          0.154194985,
          0.162887382,
          0.151760535,
          0.200043478,
          0.16825728,
          0.162885277,
          0.154190972,
          0.225536401,
          0.220523422,
          0.208759732,
          0.187945369,
          0.182719555,
          0.158068744,
          0.169566888,
          0.168934125,
          0.174966118,
          0.175373414,
          0.137995573,
          0.144061726,
          0.143652439,
          0.141968064,
          0.137184087,
          0.137988899,
          0.135701816,
          0.131532722,
          0.131526375,
          0.137856703,
          0.135728786
         ],
         "yaxis": "y"
        },
        {
         "hovertemplate": "Nombre_del_pozo=JUJO-52A<br>Fecha=%{x}<br>Petróleo_(Mbd)=%{y}<extra></extra>",
         "legendgroup": "JUJO-52A",
         "line": {
          "color": "#FF6692",
          "dash": "solid",
          "shape": "linear"
         },
         "marker": {
          "symbol": "circle"
         },
         "mode": "lines",
         "name": "JUJO-52A",
         "showlegend": true,
         "type": "scattergl",
         "x": [
          "2016-01-01T00:00:00",
          "2016-02-01T00:00:00",
          "2016-03-01T00:00:00",
          "2016-04-01T00:00:00",
          "2016-05-01T00:00:00",
          "2016-06-01T00:00:00",
          "2016-07-01T00:00:00",
          "2016-08-01T00:00:00",
          "2016-09-01T00:00:00",
          "2016-10-01T00:00:00",
          "2016-11-01T00:00:00",
          "2016-12-01T00:00:00",
          "2017-01-01T00:00:00",
          "2017-02-01T00:00:00",
          "2017-03-01T00:00:00",
          "2017-04-01T00:00:00",
          "2017-05-01T00:00:00",
          "2017-06-01T00:00:00",
          "2017-07-01T00:00:00",
          "2017-08-01T00:00:00",
          "2017-09-01T00:00:00",
          "2017-10-01T00:00:00",
          "2017-11-01T00:00:00",
          "2017-12-01T00:00:00",
          "2018-01-01T00:00:00",
          "2018-02-01T00:00:00",
          "2018-03-01T00:00:00",
          "2018-04-01T00:00:00",
          "2018-05-01T00:00:00",
          "2018-06-01T00:00:00",
          "2018-07-01T00:00:00",
          "2018-08-01T00:00:00",
          "2018-09-01T00:00:00",
          "2018-10-01T00:00:00",
          "2018-11-01T00:00:00",
          "2018-12-01T00:00:00",
          "2019-01-01T00:00:00",
          "2019-02-01T00:00:00",
          "2019-03-01T00:00:00",
          "2019-04-01T00:00:00",
          "2019-05-01T00:00:00",
          "2019-06-01T00:00:00",
          "2019-07-01T00:00:00",
          "2019-08-01T00:00:00",
          "2019-09-01T00:00:00",
          "2019-10-01T00:00:00",
          "2019-11-01T00:00:00",
          "2019-12-01T00:00:00",
          "2020-01-01T00:00:00",
          "2020-02-01T00:00:00",
          "2020-03-01T00:00:00",
          "2020-04-01T00:00:00",
          "2020-06-01T00:00:00",
          "2020-07-01T00:00:00"
         ],
         "xaxis": "x",
         "y": [
          0.17585521,
          0.22492746,
          0.238110911,
          0.236305756,
          0.238110911,
          0.238101104,
          0.234474683,
          0.181714562,
          0.181714562,
          0.181957288,
          0.181715392,
          0.166151337,
          0.137854943,
          0.137853056,
          0.137849272,
          0.109258491,
          0.206380028,
          0.184220969,
          0.187980581,
          0.187984013,
          0.178163899,
          0.16780188,
          0.175034003,
          0.257922151,
          0.281976019,
          0.283318762,
          0.169371574,
          0.162919478,
          0.162919478,
          0.153311406,
          0.20051628,
          0.120067208,
          0.123860577,
          0.112944029,
          0.112790408,
          0.112386141,
          0.112386141,
          0.120846865,
          0.131588809,
          0.130755413,
          0.113801074,
          0.10025814,
          0.09722614,
          0.092172806,
          0.10025814,
          0.098782302,
          0.099213784,
          0.09358774,
          0.123301342,
          0.162919478,
          0.155036277,
          0.101076219,
          0.075193605,
          0.078629872
         ],
         "yaxis": "y"
        },
        {
         "hovertemplate": "Nombre_del_pozo=JUJO-522<br>Fecha=%{x}<br>Petróleo_(Mbd)=%{y}<extra></extra>",
         "legendgroup": "JUJO-522",
         "line": {
          "color": "#B6E880",
          "dash": "solid",
          "shape": "linear"
         },
         "marker": {
          "symbol": "circle"
         },
         "mode": "lines",
         "name": "JUJO-522",
         "showlegend": true,
         "type": "scattergl",
         "x": [
          "2016-01-01T00:00:00",
          "2016-02-01T00:00:00",
          "2016-03-01T00:00:00",
          "2016-04-01T00:00:00",
          "2016-05-01T00:00:00",
          "2016-06-01T00:00:00",
          "2016-07-01T00:00:00",
          "2016-08-01T00:00:00",
          "2016-09-01T00:00:00",
          "2016-10-01T00:00:00",
          "2016-11-01T00:00:00",
          "2016-12-01T00:00:00",
          "2017-01-01T00:00:00",
          "2017-02-01T00:00:00",
          "2017-03-01T00:00:00",
          "2017-04-01T00:00:00",
          "2017-05-01T00:00:00",
          "2017-06-01T00:00:00",
          "2017-07-01T00:00:00",
          "2017-08-01T00:00:00",
          "2017-09-01T00:00:00",
          "2017-10-01T00:00:00",
          "2017-11-01T00:00:00",
          "2017-12-01T00:00:00",
          "2018-01-01T00:00:00",
          "2018-02-01T00:00:00",
          "2018-03-01T00:00:00",
          "2018-04-01T00:00:00",
          "2018-05-01T00:00:00",
          "2018-06-01T00:00:00",
          "2018-07-01T00:00:00",
          "2018-08-01T00:00:00",
          "2018-09-01T00:00:00",
          "2018-10-01T00:00:00",
          "2018-11-01T00:00:00",
          "2018-12-01T00:00:00",
          "2019-01-01T00:00:00",
          "2019-02-01T00:00:00",
          "2019-03-01T00:00:00",
          "2019-04-01T00:00:00",
          "2019-05-01T00:00:00",
          "2019-06-01T00:00:00",
          "2019-07-01T00:00:00",
          "2019-08-01T00:00:00",
          "2019-09-01T00:00:00",
          "2019-10-01T00:00:00",
          "2019-11-01T00:00:00",
          "2019-12-01T00:00:00",
          "2020-01-01T00:00:00",
          "2020-02-01T00:00:00",
          "2020-03-01T00:00:00",
          "2020-04-01T00:00:00",
          "2020-05-01T00:00:00",
          "2020-06-01T00:00:00",
          "2020-07-01T00:00:00",
          "2020-08-01T00:00:00",
          "2020-09-01T00:00:00",
          "2020-10-01T00:00:00",
          "2020-11-01T00:00:00",
          "2020-12-01T00:00:00",
          "2021-01-01T00:00:00",
          "2021-02-01T00:00:00",
          "2021-03-01T00:00:00",
          "2021-04-01T00:00:00",
          "2021-05-01T00:00:00",
          "2021-06-01T00:00:00",
          "2021-07-01T00:00:00",
          "2021-08-01T00:00:00",
          "2021-09-01T00:00:00",
          "2021-10-01T00:00:00",
          "2021-11-01T00:00:00",
          "2021-12-01T00:00:00",
          "2022-01-01T00:00:00",
          "2022-02-01T00:00:00",
          "2022-03-01T00:00:00",
          "2022-04-01T00:00:00"
         ],
         "xaxis": "x",
         "y": [
          0.269442523,
          0.269437601,
          0.269441294,
          0.269053015,
          0.269441294,
          0.269430197,
          0.269443752,
          0.269438833,
          0.269438833,
          0.269798737,
          0.326252232,
          0.37596288,
          0.368893358,
          0.34463264,
          0.341793429,
          0.396150277,
          0.395578564,
          0.382227182,
          0.377982459,
          0.362020825,
          0.357372135,
          0.382105341,
          0.344637357,
          0.344637357,
          0.337158423,
          0.357169624,
          0.357009939,
          0.29889458,
          0.332307223,
          0.42693258,
          0.437012296,
          0.407500828,
          0.367822052,
          0.395742731,
          0.442180172,
          0.477034699,
          0.469555765,
          0.429230162,
          0.403660294,
          0.379727706,
          0.309264021,
          0.316857497,
          0.29046562,
          0.25003895,
          0.2358155,
          0.244319194,
          0.241663892,
          0.243570683,
          0.249230417,
          0.305528039,
          0.305625621,
          0.274239084,
          0.018596268,
          0.227042913,
          0.235889616,
          0.228410682,
          0.159368669,
          0.144692744,
          0.101302496,
          0.159483211,
          0.157259744,
          0.16851424,
          0.15281281,
          0.128455742,
          0.124680131,
          0.121736576,
          0.108709823,
          0.106907181,
          0.109844164,
          0.106662187,
          0.101909028,
          0.095987022,
          0.134372639,
          0.195106846,
          0.262516097,
          0.043018986
         ],
         "yaxis": "y"
        },
        {
         "hovertemplate": "Nombre_del_pozo=JUJO-32<br>Fecha=%{x}<br>Petróleo_(Mbd)=%{y}<extra></extra>",
         "legendgroup": "JUJO-32",
         "line": {
          "color": "#FF97FF",
          "dash": "solid",
          "shape": "linear"
         },
         "marker": {
          "symbol": "circle"
         },
         "mode": "lines",
         "name": "JUJO-32",
         "showlegend": true,
         "type": "scattergl",
         "x": [
          "2016-01-01T00:00:00",
          "2016-02-01T00:00:00",
          "2016-03-01T00:00:00",
          "2016-04-01T00:00:00",
          "2016-05-01T00:00:00",
          "2016-06-01T00:00:00",
          "2016-07-01T00:00:00"
         ],
         "xaxis": "x",
         "y": [
          0.263176418,
          0.108898597,
          0.050128613,
          0.081385467,
          0.040830564,
          0.086886017,
          0.018192001
         ],
         "yaxis": "y"
        },
        {
         "hovertemplate": "Nombre_del_pozo=JUJO-652<br>Fecha=%{x}<br>Petróleo_(Mbd)=%{y}<extra></extra>",
         "legendgroup": "JUJO-652",
         "line": {
          "color": "#FECB52",
          "dash": "solid",
          "shape": "linear"
         },
         "marker": {
          "symbol": "circle"
         },
         "mode": "lines",
         "name": "JUJO-652",
         "showlegend": true,
         "type": "scattergl",
         "x": [
          "2016-02-01T00:00:00",
          "2016-03-01T00:00:00",
          "2016-04-01T00:00:00",
          "2016-05-01T00:00:00",
          "2016-06-01T00:00:00"
         ],
         "xaxis": "x",
         "y": [
          0.079081124,
          0.382230672,
          0.29458498,
          0.256909141,
          0.137012565
         ],
         "yaxis": "y"
        },
        {
         "hovertemplate": "Nombre_del_pozo=JUJO-24<br>Fecha=%{x}<br>Petróleo_(Mbd)=%{y}<extra></extra>",
         "legendgroup": "JUJO-24",
         "line": {
          "color": "#636efa",
          "dash": "solid",
          "shape": "linear"
         },
         "marker": {
          "symbol": "circle"
         },
         "mode": "lines",
         "name": "JUJO-24",
         "showlegend": true,
         "type": "scattergl",
         "x": [
          "2016-04-01T00:00:00",
          "2016-05-01T00:00:00",
          "2016-06-01T00:00:00",
          "2016-07-01T00:00:00",
          "2016-08-01T00:00:00",
          "2016-09-01T00:00:00",
          "2016-10-01T00:00:00",
          "2016-11-01T00:00:00",
          "2016-12-01T00:00:00"
         ],
         "xaxis": "x",
         "y": [
          0.051797433,
          0.050128613,
          0.050126548,
          0.05012907,
          0.050128155,
          0.050128155,
          0.050195114,
          0.050128384,
          0.030723848
         ],
         "yaxis": "y"
        },
        {
         "hovertemplate": "Nombre_del_pozo=JUJO-25<br>Fecha=%{x}<br>Petróleo_(Mbd)=%{y}<extra></extra>",
         "legendgroup": "JUJO-25",
         "line": {
          "color": "#EF553B",
          "dash": "solid",
          "shape": "linear"
         },
         "marker": {
          "symbol": "circle"
         },
         "mode": "lines",
         "name": "JUJO-25",
         "showlegend": true,
         "type": "scattergl",
         "x": [
          "2016-09-01T00:00:00",
          "2016-10-01T00:00:00",
          "2016-11-01T00:00:00",
          "2016-12-01T00:00:00",
          "2017-01-01T00:00:00",
          "2017-02-01T00:00:00",
          "2017-03-01T00:00:00",
          "2017-04-01T00:00:00",
          "2017-05-01T00:00:00",
          "2017-06-01T00:00:00",
          "2017-07-01T00:00:00",
          "2017-08-01T00:00:00",
          "2017-09-01T00:00:00",
          "2017-10-01T00:00:00",
          "2017-11-01T00:00:00",
          "2017-12-01T00:00:00",
          "2018-01-01T00:00:00",
          "2018-02-01T00:00:00",
          "2018-03-01T00:00:00",
          "2018-04-01T00:00:00",
          "2018-05-01T00:00:00",
          "2018-06-01T00:00:00",
          "2018-07-01T00:00:00",
          "2018-08-01T00:00:00",
          "2018-09-01T00:00:00",
          "2018-10-01T00:00:00",
          "2018-11-01T00:00:00",
          "2018-12-01T00:00:00",
          "2019-01-01T00:00:00",
          "2019-02-01T00:00:00",
          "2019-03-01T00:00:00",
          "2019-04-01T00:00:00",
          "2019-05-01T00:00:00",
          "2019-06-01T00:00:00",
          "2019-07-01T00:00:00",
          "2019-08-01T00:00:00",
          "2019-09-01T00:00:00",
          "2019-10-01T00:00:00",
          "2019-11-01T00:00:00",
          "2019-12-01T00:00:00",
          "2020-01-01T00:00:00",
          "2020-02-01T00:00:00",
          "2020-03-01T00:00:00",
          "2020-04-01T00:00:00",
          "2020-05-01T00:00:00",
          "2020-06-01T00:00:00",
          "2020-07-01T00:00:00",
          "2020-08-01T00:00:00",
          "2020-09-01T00:00:00",
          "2020-10-01T00:00:00",
          "2020-11-01T00:00:00",
          "2020-12-01T00:00:00",
          "2021-01-01T00:00:00",
          "2021-02-01T00:00:00",
          "2021-03-01T00:00:00",
          "2021-04-01T00:00:00",
          "2021-05-01T00:00:00",
          "2021-06-01T00:00:00",
          "2021-07-01T00:00:00",
          "2021-08-01T00:00:00",
          "2021-09-01T00:00:00",
          "2021-10-01T00:00:00",
          "2021-11-01T00:00:00",
          "2021-12-01T00:00:00",
          "2022-01-01T00:00:00",
          "2022-02-01T00:00:00",
          "2022-03-01T00:00:00",
          "2022-04-01T00:00:00",
          "2022-05-01T00:00:00",
          "2022-06-01T00:00:00",
          "2022-07-01T00:00:00",
          "2022-08-01T00:00:00",
          "2022-09-01T00:00:00",
          "2022-10-01T00:00:00",
          "2022-11-01T00:00:00",
          "2022-12-01T00:00:00",
          "2023-01-01T00:00:00",
          "2023-02-01T00:00:00",
          "2023-03-01T00:00:00",
          "2023-04-01T00:00:00",
          "2023-05-01T00:00:00",
          "2023-06-01T00:00:00",
          "2023-07-01T00:00:00",
          "2023-08-01T00:00:00",
          "2023-09-01T00:00:00",
          "2023-10-01T00:00:00",
          "2023-11-01T00:00:00",
          "2023-12-01T00:00:00",
          "2024-01-01T00:00:00"
         ],
         "xaxis": "x",
         "y": [
          0.037596116,
          0.075193164,
          0.075192576,
          0.075192576,
          0.075193605,
          0.075192576,
          0.068116136,
          0.031286235,
          0.031330954,
          0.031330097,
          0.04103232,
          0.043054403,
          0.040729145,
          0.039618821,
          0.043862936,
          0.022638935,
          0.0072768,
          0.012532268,
          0.051054841,
          0.058483915,
          0.061852804,
          0.054724235,
          0.04891627,
          0.049724803,
          0.048040359,
          0.044942328,
          0.05012907,
          0.049724803,
          0.049926937,
          0.05012907,
          0.054576004,
          0.054237565,
          0.031330669,
          0.031330669,
          0.030926402,
          0.064884804,
          0.075193605,
          0.075299527,
          0.074775863,
          0.074789338,
          0.075193605,
          0.075193605,
          0.074789338,
          0.060885933,
          0.05012907,
          0.049920199,
          0.023851735,
          0.012330134,
          0.017962917,
          0.018824832,
          0.022140339,
          0.030926402,
          0.031330669,
          0.043862936,
          0.056395204,
          0.050677357,
          0.052741514,
          0.05637886,
          0.05637554,
          0.056383938,
          0.056383887,
          0.050598151,
          0.045524935,
          0.032332471,
          0.02990549,
          0.082338669,
          0.125296367,
          0.095171285,
          0.065882497,
          0.03758922,
          0.024452979,
          0.031324228,
          0.031323352,
          0.031164097,
          0.026312103,
          0.024653066,
          0.025052885,
          0.025053345,
          0.023032936,
          0.025054213,
          0.024851266,
          0.025053188,
          0.024850726,
          0.025052157,
          0.025052643,
          0.025053852,
          0.025052643,
          0.027978043,
          0.027860179
         ],
         "yaxis": "y"
        },
        {
         "hovertemplate": "Nombre_del_pozo=JUJO-552<br>Fecha=%{x}<br>Petróleo_(Mbd)=%{y}<extra></extra>",
         "legendgroup": "JUJO-552",
         "line": {
          "color": "#00cc96",
          "dash": "solid",
          "shape": "linear"
         },
         "marker": {
          "symbol": "circle"
         },
         "mode": "lines",
         "name": "JUJO-552",
         "showlegend": true,
         "type": "scattergl",
         "x": [
          "2017-04-01T00:00:00",
          "2017-05-01T00:00:00",
          "2017-06-01T00:00:00",
          "2017-07-01T00:00:00",
          "2017-08-01T00:00:00",
          "2017-09-01T00:00:00",
          "2017-10-01T00:00:00",
          "2017-11-01T00:00:00",
          "2017-12-01T00:00:00",
          "2018-01-01T00:00:00",
          "2018-02-01T00:00:00",
          "2018-03-01T00:00:00",
          "2018-04-01T00:00:00",
          "2018-05-01T00:00:00",
          "2018-06-01T00:00:00",
          "2018-07-01T00:00:00",
          "2018-08-01T00:00:00",
          "2018-09-01T00:00:00",
          "2018-10-01T00:00:00",
          "2018-11-01T00:00:00",
          "2018-12-01T00:00:00",
          "2019-01-01T00:00:00",
          "2019-02-01T00:00:00",
          "2019-03-01T00:00:00",
          "2019-04-01T00:00:00",
          "2019-05-01T00:00:00",
          "2019-06-01T00:00:00",
          "2019-07-01T00:00:00",
          "2019-08-01T00:00:00",
          "2019-09-01T00:00:00",
          "2019-10-01T00:00:00",
          "2019-11-01T00:00:00",
          "2019-12-01T00:00:00",
          "2020-01-01T00:00:00",
          "2020-02-01T00:00:00",
          "2020-03-01T00:00:00",
          "2020-04-01T00:00:00",
          "2020-05-01T00:00:00",
          "2020-06-01T00:00:00",
          "2020-07-01T00:00:00",
          "2020-08-01T00:00:00",
          "2020-09-01T00:00:00",
          "2020-10-01T00:00:00",
          "2020-11-01T00:00:00",
          "2020-12-01T00:00:00",
          "2021-01-01T00:00:00",
          "2021-02-01T00:00:00",
          "2021-03-01T00:00:00",
          "2021-04-01T00:00:00",
          "2021-05-01T00:00:00",
          "2021-06-01T00:00:00",
          "2021-07-01T00:00:00",
          "2021-08-01T00:00:00",
          "2021-09-01T00:00:00",
          "2021-10-01T00:00:00",
          "2021-11-01T00:00:00",
          "2021-12-01T00:00:00",
          "2022-01-01T00:00:00",
          "2022-02-01T00:00:00",
          "2022-03-01T00:00:00",
          "2022-04-01T00:00:00",
          "2022-05-01T00:00:00",
          "2022-06-01T00:00:00",
          "2022-07-01T00:00:00",
          "2022-08-01T00:00:00",
          "2022-09-01T00:00:00",
          "2022-10-01T00:00:00",
          "2022-11-01T00:00:00",
          "2022-12-01T00:00:00",
          "2023-01-01T00:00:00",
          "2023-02-01T00:00:00",
          "2023-03-01T00:00:00",
          "2023-04-01T00:00:00",
          "2023-05-01T00:00:00",
          "2023-06-01T00:00:00",
          "2023-07-01T00:00:00",
          "2023-08-01T00:00:00",
          "2023-09-01T00:00:00",
          "2023-10-01T00:00:00",
          "2023-11-01T00:00:00",
          "2023-12-01T00:00:00",
          "2024-01-01T00:00:00"
         ],
         "xaxis": "x",
         "y": [
          0.031747831,
          0.024660493,
          0.043444401,
          0.050128155,
          0.046086403,
          0.048039504,
          0.047368748,
          0.040103256,
          0.048512003,
          0.05012907,
          0.05012907,
          0.065020234,
          0.05012907,
          0.05012907,
          0.037596803,
          0.068927471,
          0.039618136,
          0.052635524,
          0.023463639,
          0.042400838,
          0.0042448,
          0.048512003,
          0.042072612,
          0.031330669,
          0.03128054,
          0.029309335,
          0.031330669,
          0.031330669,
          0.031330669,
          0.031330669,
          0.031374803,
          0.031330669,
          0.031330669,
          0.038001069,
          0.05012907,
          0.04649067,
          0.042122344,
          0.032139202,
          0.031330669,
          0.031330669,
          0.031330669,
          0.031330669,
          0.031374722,
          0.031330669,
          0.031330669,
          0.030926402,
          0.031330669,
          0.031330669,
          0.031287154,
          0.031321589,
          0.031321589,
          0.031319744,
          0.03132441,
          0.031324381,
          0.027686387,
          0.025059597,
          0.025057665,
          0.025055951,
          0.082338669,
          0.125296367,
          0.087444574,
          0.0313245,
          0.03132435,
          0.031324064,
          0.031324228,
          0.031323352,
          0.028334825,
          0.029026844,
          0.025057215,
          0.025052885,
          0.025053345,
          0.023032936,
          0.025054213,
          0.025053309,
          0.025053188,
          0.025052764,
          0.025052157,
          0.025052643,
          0.025053852,
          0.025052643,
          0.027978043,
          0.027860179
         ],
         "yaxis": "y"
        },
        {
         "hovertemplate": "Nombre_del_pozo=TECOMINOACÁN-444A<br>Fecha=%{x}<br>Petróleo_(Mbd)=%{y}<extra></extra>",
         "legendgroup": "TECOMINOACÁN-444A",
         "line": {
          "color": "#ab63fa",
          "dash": "solid",
          "shape": "linear"
         },
         "marker": {
          "symbol": "circle"
         },
         "mode": "lines",
         "name": "TECOMINOACÁN-444A",
         "showlegend": true,
         "type": "scattergl",
         "x": [
          "2017-05-01T00:00:00",
          "2017-06-01T00:00:00"
         ],
         "xaxis": "x",
         "y": [
          0.049320986,
          0.057229644
         ],
         "yaxis": "y"
        },
        {
         "hovertemplate": "Nombre_del_pozo=TECOMINOACÁN-507<br>Fecha=%{x}<br>Petróleo_(Mbd)=%{y}<extra></extra>",
         "legendgroup": "TECOMINOACÁN-507",
         "line": {
          "color": "#FFA15A",
          "dash": "solid",
          "shape": "linear"
         },
         "marker": {
          "symbol": "circle"
         },
         "mode": "lines",
         "name": "TECOMINOACÁN-507",
         "showlegend": true,
         "type": "scattergl",
         "x": [
          "2017-07-01T00:00:00",
          "2017-08-01T00:00:00",
          "2018-07-01T00:00:00"
         ],
         "xaxis": "x",
         "y": [
          0.133405574,
          0.066097604,
          0.001010667
         ],
         "yaxis": "y"
        },
        {
         "hovertemplate": "Nombre_del_pozo=JUJO-54<br>Fecha=%{x}<br>Petróleo_(Mbd)=%{y}<extra></extra>",
         "legendgroup": "JUJO-54",
         "line": {
          "color": "#19d3f3",
          "dash": "solid",
          "shape": "linear"
         },
         "marker": {
          "symbol": "circle"
         },
         "mode": "lines",
         "name": "JUJO-54",
         "showlegend": true,
         "type": "scattergl",
         "x": [
          "2017-10-01T00:00:00",
          "2017-11-01T00:00:00",
          "2017-12-01T00:00:00",
          "2018-01-01T00:00:00",
          "2018-02-01T00:00:00",
          "2018-03-01T00:00:00",
          "2018-04-01T00:00:00",
          "2018-05-01T00:00:00",
          "2018-06-01T00:00:00",
          "2018-07-01T00:00:00",
          "2018-08-01T00:00:00",
          "2018-09-01T00:00:00",
          "2018-10-01T00:00:00",
          "2018-11-01T00:00:00",
          "2018-12-01T00:00:00",
          "2019-01-01T00:00:00",
          "2019-02-01T00:00:00",
          "2019-03-01T00:00:00",
          "2019-04-01T00:00:00",
          "2019-05-01T00:00:00",
          "2019-06-01T00:00:00",
          "2019-07-01T00:00:00",
          "2019-08-01T00:00:00",
          "2019-09-01T00:00:00",
          "2019-10-01T00:00:00",
          "2019-11-01T00:00:00",
          "2019-12-01T00:00:00",
          "2020-01-01T00:00:00",
          "2020-02-01T00:00:00",
          "2020-03-01T00:00:00",
          "2020-04-01T00:00:00",
          "2020-05-01T00:00:00",
          "2020-06-01T00:00:00",
          "2020-07-01T00:00:00",
          "2020-08-01T00:00:00",
          "2020-09-01T00:00:00",
          "2020-10-01T00:00:00",
          "2020-11-01T00:00:00",
          "2020-12-01T00:00:00",
          "2021-01-01T00:00:00",
          "2021-02-01T00:00:00"
         ],
         "xaxis": "x",
         "y": [
          0.0153624,
          0.082921837,
          0.088736539,
          0.232049082,
          0.244155426,
          0.23277272,
          0.184642075,
          0.098034673,
          0.251480835,
          0.277326952,
          0.288242153,
          0.288242153,
          0.288634292,
          0.288242153,
          0.288242153,
          0.207388814,
          0.222895329,
          0.177068812,
          0.187687416,
          0.170600545,
          0.147463014,
          0.158270411,
          0.162515211,
          0.162919478,
          0.163148974,
          0.161875122,
          0.162919478,
          0.162919478,
          0.127915558,
          0.148365877,
          0.145565768,
          0.155642677,
          0.198427569,
          0.205569614,
          0.175047479,
          0.201560636,
          0.115427462,
          0.143703334,
          0.093992006,
          0.090151473,
          0.001790324
         ],
         "yaxis": "y"
        },
        {
         "hovertemplate": "Nombre_del_pozo=TECOMINOACÁN-169<br>Fecha=%{x}<br>Petróleo_(Mbd)=%{y}<extra></extra>",
         "legendgroup": "TECOMINOACÁN-169",
         "line": {
          "color": "#FF6692",
          "dash": "solid",
          "shape": "linear"
         },
         "marker": {
          "symbol": "circle"
         },
         "mode": "lines",
         "name": "TECOMINOACÁN-169",
         "showlegend": true,
         "type": "scattergl",
         "x": [
          "2017-11-01T00:00:00",
          "2017-12-01T00:00:00",
          "2018-01-01T00:00:00",
          "2018-02-01T00:00:00",
          "2018-03-01T00:00:00",
          "2018-04-01T00:00:00",
          "2018-05-01T00:00:00",
          "2018-06-01T00:00:00",
          "2018-07-01T00:00:00",
          "2018-08-01T00:00:00",
          "2018-09-01T00:00:00",
          "2018-10-01T00:00:00",
          "2018-11-01T00:00:00",
          "2020-01-01T00:00:00",
          "2020-02-01T00:00:00",
          "2020-03-01T00:00:00",
          "2020-04-01T00:00:00"
         ],
         "xaxis": "x",
         "y": [
          0.12072751,
          0.663401645,
          0.338977623,
          0.307264345,
          0.238980235,
          0.136601716,
          0.085098139,
          0.023184695,
          0.045075736,
          0.019606935,
          0.018798401,
          0.018824679,
          0.016291948,
          0.017585601,
          0.018798401,
          0.018798401,
          0.011810302
         ],
         "yaxis": "y"
        },
        {
         "hovertemplate": "Nombre_del_pozo=JUJO-2C<br>Fecha=%{x}<br>Petróleo_(Mbd)=%{y}<extra></extra>",
         "legendgroup": "JUJO-2C",
         "line": {
          "color": "#B6E880",
          "dash": "solid",
          "shape": "linear"
         },
         "marker": {
          "symbol": "circle"
         },
         "mode": "lines",
         "name": "JUJO-2C",
         "showlegend": true,
         "type": "scattergl",
         "x": [
          "2018-03-01T00:00:00"
         ],
         "xaxis": "x",
         "y": [
          0.012128001
         ],
         "yaxis": "y"
        },
        {
         "hovertemplate": "Nombre_del_pozo=TECOMINOACÁN-566<br>Fecha=%{x}<br>Petróleo_(Mbd)=%{y}<extra></extra>",
         "legendgroup": "TECOMINOACÁN-566",
         "line": {
          "color": "#FF97FF",
          "dash": "solid",
          "shape": "linear"
         },
         "marker": {
          "symbol": "circle"
         },
         "mode": "lines",
         "name": "TECOMINOACÁN-566",
         "showlegend": true,
         "type": "scattergl",
         "x": [
          "2019-11-01T00:00:00"
         ],
         "xaxis": "x",
         "y": [
          0.008354845
         ],
         "yaxis": "y"
        }
       ],
       "layout": {
        "legend": {
         "title": {
          "text": "Nombre_del_pozo"
         },
         "tracegroupgap": 0
        },
        "margin": {
         "t": 60
        },
        "template": {
         "data": {
          "bar": [
           {
            "error_x": {
             "color": "#2a3f5f"
            },
            "error_y": {
             "color": "#2a3f5f"
            },
            "marker": {
             "line": {
              "color": "#E5ECF6",
              "width": 0.5
             },
             "pattern": {
              "fillmode": "overlay",
              "size": 10,
              "solidity": 0.2
             }
            },
            "type": "bar"
           }
          ],
          "barpolar": [
           {
            "marker": {
             "line": {
              "color": "#E5ECF6",
              "width": 0.5
             },
             "pattern": {
              "fillmode": "overlay",
              "size": 10,
              "solidity": 0.2
             }
            },
            "type": "barpolar"
           }
          ],
          "carpet": [
           {
            "aaxis": {
             "endlinecolor": "#2a3f5f",
             "gridcolor": "white",
             "linecolor": "white",
             "minorgridcolor": "white",
             "startlinecolor": "#2a3f5f"
            },
            "baxis": {
             "endlinecolor": "#2a3f5f",
             "gridcolor": "white",
             "linecolor": "white",
             "minorgridcolor": "white",
             "startlinecolor": "#2a3f5f"
            },
            "type": "carpet"
           }
          ],
          "choropleth": [
           {
            "colorbar": {
             "outlinewidth": 0,
             "ticks": ""
            },
            "type": "choropleth"
           }
          ],
          "contour": [
           {
            "colorbar": {
             "outlinewidth": 0,
             "ticks": ""
            },
            "colorscale": [
             [
              0,
              "#0d0887"
             ],
             [
              0.1111111111111111,
              "#46039f"
             ],
             [
              0.2222222222222222,
              "#7201a8"
             ],
             [
              0.3333333333333333,
              "#9c179e"
             ],
             [
              0.4444444444444444,
              "#bd3786"
             ],
             [
              0.5555555555555556,
              "#d8576b"
             ],
             [
              0.6666666666666666,
              "#ed7953"
             ],
             [
              0.7777777777777778,
              "#fb9f3a"
             ],
             [
              0.8888888888888888,
              "#fdca26"
             ],
             [
              1,
              "#f0f921"
             ]
            ],
            "type": "contour"
           }
          ],
          "contourcarpet": [
           {
            "colorbar": {
             "outlinewidth": 0,
             "ticks": ""
            },
            "type": "contourcarpet"
           }
          ],
          "heatmap": [
           {
            "colorbar": {
             "outlinewidth": 0,
             "ticks": ""
            },
            "colorscale": [
             [
              0,
              "#0d0887"
             ],
             [
              0.1111111111111111,
              "#46039f"
             ],
             [
              0.2222222222222222,
              "#7201a8"
             ],
             [
              0.3333333333333333,
              "#9c179e"
             ],
             [
              0.4444444444444444,
              "#bd3786"
             ],
             [
              0.5555555555555556,
              "#d8576b"
             ],
             [
              0.6666666666666666,
              "#ed7953"
             ],
             [
              0.7777777777777778,
              "#fb9f3a"
             ],
             [
              0.8888888888888888,
              "#fdca26"
             ],
             [
              1,
              "#f0f921"
             ]
            ],
            "type": "heatmap"
           }
          ],
          "heatmapgl": [
           {
            "colorbar": {
             "outlinewidth": 0,
             "ticks": ""
            },
            "colorscale": [
             [
              0,
              "#0d0887"
             ],
             [
              0.1111111111111111,
              "#46039f"
             ],
             [
              0.2222222222222222,
              "#7201a8"
             ],
             [
              0.3333333333333333,
              "#9c179e"
             ],
             [
              0.4444444444444444,
              "#bd3786"
             ],
             [
              0.5555555555555556,
              "#d8576b"
             ],
             [
              0.6666666666666666,
              "#ed7953"
             ],
             [
              0.7777777777777778,
              "#fb9f3a"
             ],
             [
              0.8888888888888888,
              "#fdca26"
             ],
             [
              1,
              "#f0f921"
             ]
            ],
            "type": "heatmapgl"
           }
          ],
          "histogram": [
           {
            "marker": {
             "pattern": {
              "fillmode": "overlay",
              "size": 10,
              "solidity": 0.2
             }
            },
            "type": "histogram"
           }
          ],
          "histogram2d": [
           {
            "colorbar": {
             "outlinewidth": 0,
             "ticks": ""
            },
            "colorscale": [
             [
              0,
              "#0d0887"
             ],
             [
              0.1111111111111111,
              "#46039f"
             ],
             [
              0.2222222222222222,
              "#7201a8"
             ],
             [
              0.3333333333333333,
              "#9c179e"
             ],
             [
              0.4444444444444444,
              "#bd3786"
             ],
             [
              0.5555555555555556,
              "#d8576b"
             ],
             [
              0.6666666666666666,
              "#ed7953"
             ],
             [
              0.7777777777777778,
              "#fb9f3a"
             ],
             [
              0.8888888888888888,
              "#fdca26"
             ],
             [
              1,
              "#f0f921"
             ]
            ],
            "type": "histogram2d"
           }
          ],
          "histogram2dcontour": [
           {
            "colorbar": {
             "outlinewidth": 0,
             "ticks": ""
            },
            "colorscale": [
             [
              0,
              "#0d0887"
             ],
             [
              0.1111111111111111,
              "#46039f"
             ],
             [
              0.2222222222222222,
              "#7201a8"
             ],
             [
              0.3333333333333333,
              "#9c179e"
             ],
             [
              0.4444444444444444,
              "#bd3786"
             ],
             [
              0.5555555555555556,
              "#d8576b"
             ],
             [
              0.6666666666666666,
              "#ed7953"
             ],
             [
              0.7777777777777778,
              "#fb9f3a"
             ],
             [
              0.8888888888888888,
              "#fdca26"
             ],
             [
              1,
              "#f0f921"
             ]
            ],
            "type": "histogram2dcontour"
           }
          ],
          "mesh3d": [
           {
            "colorbar": {
             "outlinewidth": 0,
             "ticks": ""
            },
            "type": "mesh3d"
           }
          ],
          "parcoords": [
           {
            "line": {
             "colorbar": {
              "outlinewidth": 0,
              "ticks": ""
             }
            },
            "type": "parcoords"
           }
          ],
          "pie": [
           {
            "automargin": true,
            "type": "pie"
           }
          ],
          "scatter": [
           {
            "fillpattern": {
             "fillmode": "overlay",
             "size": 10,
             "solidity": 0.2
            },
            "type": "scatter"
           }
          ],
          "scatter3d": [
           {
            "line": {
             "colorbar": {
              "outlinewidth": 0,
              "ticks": ""
             }
            },
            "marker": {
             "colorbar": {
              "outlinewidth": 0,
              "ticks": ""
             }
            },
            "type": "scatter3d"
           }
          ],
          "scattercarpet": [
           {
            "marker": {
             "colorbar": {
              "outlinewidth": 0,
              "ticks": ""
             }
            },
            "type": "scattercarpet"
           }
          ],
          "scattergeo": [
           {
            "marker": {
             "colorbar": {
              "outlinewidth": 0,
              "ticks": ""
             }
            },
            "type": "scattergeo"
           }
          ],
          "scattergl": [
           {
            "marker": {
             "colorbar": {
              "outlinewidth": 0,
              "ticks": ""
             }
            },
            "type": "scattergl"
           }
          ],
          "scattermapbox": [
           {
            "marker": {
             "colorbar": {
              "outlinewidth": 0,
              "ticks": ""
             }
            },
            "type": "scattermapbox"
           }
          ],
          "scatterpolar": [
           {
            "marker": {
             "colorbar": {
              "outlinewidth": 0,
              "ticks": ""
             }
            },
            "type": "scatterpolar"
           }
          ],
          "scatterpolargl": [
           {
            "marker": {
             "colorbar": {
              "outlinewidth": 0,
              "ticks": ""
             }
            },
            "type": "scatterpolargl"
           }
          ],
          "scatterternary": [
           {
            "marker": {
             "colorbar": {
              "outlinewidth": 0,
              "ticks": ""
             }
            },
            "type": "scatterternary"
           }
          ],
          "surface": [
           {
            "colorbar": {
             "outlinewidth": 0,
             "ticks": ""
            },
            "colorscale": [
             [
              0,
              "#0d0887"
             ],
             [
              0.1111111111111111,
              "#46039f"
             ],
             [
              0.2222222222222222,
              "#7201a8"
             ],
             [
              0.3333333333333333,
              "#9c179e"
             ],
             [
              0.4444444444444444,
              "#bd3786"
             ],
             [
              0.5555555555555556,
              "#d8576b"
             ],
             [
              0.6666666666666666,
              "#ed7953"
             ],
             [
              0.7777777777777778,
              "#fb9f3a"
             ],
             [
              0.8888888888888888,
              "#fdca26"
             ],
             [
              1,
              "#f0f921"
             ]
            ],
            "type": "surface"
           }
          ],
          "table": [
           {
            "cells": {
             "fill": {
              "color": "#EBF0F8"
             },
             "line": {
              "color": "white"
             }
            },
            "header": {
             "fill": {
              "color": "#C8D4E3"
             },
             "line": {
              "color": "white"
             }
            },
            "type": "table"
           }
          ]
         },
         "layout": {
          "annotationdefaults": {
           "arrowcolor": "#2a3f5f",
           "arrowhead": 0,
           "arrowwidth": 1
          },
          "autotypenumbers": "strict",
          "coloraxis": {
           "colorbar": {
            "outlinewidth": 0,
            "ticks": ""
           }
          },
          "colorscale": {
           "diverging": [
            [
             0,
             "#8e0152"
            ],
            [
             0.1,
             "#c51b7d"
            ],
            [
             0.2,
             "#de77ae"
            ],
            [
             0.3,
             "#f1b6da"
            ],
            [
             0.4,
             "#fde0ef"
            ],
            [
             0.5,
             "#f7f7f7"
            ],
            [
             0.6,
             "#e6f5d0"
            ],
            [
             0.7,
             "#b8e186"
            ],
            [
             0.8,
             "#7fbc41"
            ],
            [
             0.9,
             "#4d9221"
            ],
            [
             1,
             "#276419"
            ]
           ],
           "sequential": [
            [
             0,
             "#0d0887"
            ],
            [
             0.1111111111111111,
             "#46039f"
            ],
            [
             0.2222222222222222,
             "#7201a8"
            ],
            [
             0.3333333333333333,
             "#9c179e"
            ],
            [
             0.4444444444444444,
             "#bd3786"
            ],
            [
             0.5555555555555556,
             "#d8576b"
            ],
            [
             0.6666666666666666,
             "#ed7953"
            ],
            [
             0.7777777777777778,
             "#fb9f3a"
            ],
            [
             0.8888888888888888,
             "#fdca26"
            ],
            [
             1,
             "#f0f921"
            ]
           ],
           "sequentialminus": [
            [
             0,
             "#0d0887"
            ],
            [
             0.1111111111111111,
             "#46039f"
            ],
            [
             0.2222222222222222,
             "#7201a8"
            ],
            [
             0.3333333333333333,
             "#9c179e"
            ],
            [
             0.4444444444444444,
             "#bd3786"
            ],
            [
             0.5555555555555556,
             "#d8576b"
            ],
            [
             0.6666666666666666,
             "#ed7953"
            ],
            [
             0.7777777777777778,
             "#fb9f3a"
            ],
            [
             0.8888888888888888,
             "#fdca26"
            ],
            [
             1,
             "#f0f921"
            ]
           ]
          },
          "colorway": [
           "#636efa",
           "#EF553B",
           "#00cc96",
           "#ab63fa",
           "#FFA15A",
           "#19d3f3",
           "#FF6692",
           "#B6E880",
           "#FF97FF",
           "#FECB52"
          ],
          "font": {
           "color": "#2a3f5f"
          },
          "geo": {
           "bgcolor": "white",
           "lakecolor": "white",
           "landcolor": "#E5ECF6",
           "showlakes": true,
           "showland": true,
           "subunitcolor": "white"
          },
          "hoverlabel": {
           "align": "left"
          },
          "hovermode": "closest",
          "mapbox": {
           "style": "light"
          },
          "paper_bgcolor": "white",
          "plot_bgcolor": "#E5ECF6",
          "polar": {
           "angularaxis": {
            "gridcolor": "white",
            "linecolor": "white",
            "ticks": ""
           },
           "bgcolor": "#E5ECF6",
           "radialaxis": {
            "gridcolor": "white",
            "linecolor": "white",
            "ticks": ""
           }
          },
          "scene": {
           "xaxis": {
            "backgroundcolor": "#E5ECF6",
            "gridcolor": "white",
            "gridwidth": 2,
            "linecolor": "white",
            "showbackground": true,
            "ticks": "",
            "zerolinecolor": "white"
           },
           "yaxis": {
            "backgroundcolor": "#E5ECF6",
            "gridcolor": "white",
            "gridwidth": 2,
            "linecolor": "white",
            "showbackground": true,
            "ticks": "",
            "zerolinecolor": "white"
           },
           "zaxis": {
            "backgroundcolor": "#E5ECF6",
            "gridcolor": "white",
            "gridwidth": 2,
            "linecolor": "white",
            "showbackground": true,
            "ticks": "",
            "zerolinecolor": "white"
           }
          },
          "shapedefaults": {
           "line": {
            "color": "#2a3f5f"
           }
          },
          "ternary": {
           "aaxis": {
            "gridcolor": "white",
            "linecolor": "white",
            "ticks": ""
           },
           "baxis": {
            "gridcolor": "white",
            "linecolor": "white",
            "ticks": ""
           },
           "bgcolor": "#E5ECF6",
           "caxis": {
            "gridcolor": "white",
            "linecolor": "white",
            "ticks": ""
           }
          },
          "title": {
           "x": 0.05
          },
          "xaxis": {
           "automargin": true,
           "gridcolor": "white",
           "linecolor": "white",
           "ticks": "",
           "title": {
            "standoff": 15
           },
           "zerolinecolor": "white",
           "zerolinewidth": 2
          },
          "yaxis": {
           "automargin": true,
           "gridcolor": "white",
           "linecolor": "white",
           "ticks": "",
           "title": {
            "standoff": 15
           },
           "zerolinecolor": "white",
           "zerolinewidth": 2
          }
         }
        },
        "xaxis": {
         "anchor": "y",
         "domain": [
          0,
          1
         ],
         "title": {
          "text": "Fecha"
         }
        },
        "yaxis": {
         "anchor": "x",
         "domain": [
          0,
          1
         ],
         "title": {
          "text": "Petróleo_(Mbd)"
         }
        }
       }
      }
     },
     "metadata": {},
     "output_type": "display_data"
    }
   ],
   "source": [
    "fig3=plotly_express.line(asig,x='Fecha',y='Petróleo_(Mbd)',line_shape='linear',color='Nombre_del_pozo')\n",
    "fig3.show() #graficamos el comportamiento de producción a lo largo de la vida del pozo"
   ]
  },
  {
   "cell_type": "code",
   "execution_count": 56,
   "metadata": {},
   "outputs": [
    {
     "name": "stderr",
     "output_type": "stream",
     "text": [
      "c:\\Users\\rodri\\anaconda3\\envs\\prod_RS\\Lib\\site-packages\\_plotly_utils\\basevalidators.py:106: FutureWarning:\n",
      "\n",
      "The behavior of DatetimeProperties.to_pydatetime is deprecated, in a future version this will return a Series containing python datetime objects instead of an ndarray. To retain the old behavior, call `np.array` on the result\n",
      "\n",
      "c:\\Users\\rodri\\anaconda3\\envs\\prod_RS\\Lib\\site-packages\\_plotly_utils\\basevalidators.py:106: FutureWarning:\n",
      "\n",
      "The behavior of DatetimeProperties.to_pydatetime is deprecated, in a future version this will return a Series containing python datetime objects instead of an ndarray. To retain the old behavior, call `np.array` on the result\n",
      "\n"
     ]
    },
    {
     "data": {
      "application/vnd.plotly.v1+json": {
       "config": {
        "plotlyServerURL": "https://plot.ly"
       },
       "data": [
        {
         "hovertemplate": "Fecha=%{x}<br>Petróleo_(Mbd)=%{y}<extra></extra>",
         "legendgroup": "",
         "marker": {
          "color": "#636efa",
          "symbol": "circle"
         },
         "mode": "markers",
         "name": "",
         "orientation": "v",
         "showlegend": false,
         "type": "scatter",
         "x": [
          "2016-01-01T00:00:00",
          "2016-02-01T00:00:00",
          "2016-03-01T00:00:00",
          "2016-04-01T00:00:00",
          "2016-05-01T00:00:00",
          "2016-06-01T00:00:00",
          "2016-07-01T00:00:00",
          "2016-08-01T00:00:00",
          "2016-09-01T00:00:00",
          "2016-10-01T00:00:00",
          "2016-11-01T00:00:00",
          "2016-12-01T00:00:00",
          "2017-01-01T00:00:00",
          "2017-02-01T00:00:00",
          "2017-03-01T00:00:00",
          "2017-04-01T00:00:00",
          "2017-05-01T00:00:00",
          "2017-06-01T00:00:00",
          "2017-07-01T00:00:00",
          "2017-08-01T00:00:00",
          "2017-09-01T00:00:00",
          "2017-10-01T00:00:00",
          "2017-11-01T00:00:00",
          "2017-12-01T00:00:00",
          "2018-01-01T00:00:00",
          "2018-02-01T00:00:00",
          "2018-03-01T00:00:00",
          "2018-04-01T00:00:00",
          "2018-05-01T00:00:00",
          "2018-06-01T00:00:00",
          "2018-07-01T00:00:00",
          "2018-08-01T00:00:00",
          "2018-09-01T00:00:00",
          "2018-10-01T00:00:00",
          "2018-11-01T00:00:00",
          "2018-12-01T00:00:00",
          "2019-01-01T00:00:00",
          "2019-02-01T00:00:00",
          "2019-03-01T00:00:00",
          "2019-04-01T00:00:00",
          "2019-05-01T00:00:00",
          "2019-06-01T00:00:00",
          "2019-07-01T00:00:00",
          "2019-08-01T00:00:00",
          "2019-09-01T00:00:00",
          "2019-10-01T00:00:00",
          "2019-11-01T00:00:00",
          "2019-12-01T00:00:00",
          "2020-01-01T00:00:00",
          "2020-02-01T00:00:00",
          "2020-03-01T00:00:00",
          "2020-04-01T00:00:00",
          "2020-05-01T00:00:00",
          "2020-06-01T00:00:00",
          "2020-07-01T00:00:00",
          "2020-08-01T00:00:00",
          "2020-09-01T00:00:00",
          "2020-10-01T00:00:00",
          "2020-11-01T00:00:00",
          "2020-12-01T00:00:00",
          "2021-01-01T00:00:00",
          "2021-02-01T00:00:00",
          "2021-03-01T00:00:00",
          "2021-04-01T00:00:00",
          "2021-05-01T00:00:00",
          "2021-06-01T00:00:00",
          "2021-07-01T00:00:00",
          "2021-08-01T00:00:00",
          "2021-09-01T00:00:00",
          "2021-10-01T00:00:00",
          "2021-11-01T00:00:00",
          "2021-12-01T00:00:00",
          "2022-01-01T00:00:00",
          "2022-02-01T00:00:00",
          "2022-03-01T00:00:00",
          "2022-04-01T00:00:00",
          "2022-05-01T00:00:00",
          "2022-06-01T00:00:00",
          "2022-07-01T00:00:00",
          "2022-08-01T00:00:00",
          "2022-09-01T00:00:00",
          "2022-10-01T00:00:00",
          "2022-11-01T00:00:00",
          "2022-12-01T00:00:00",
          "2023-01-01T00:00:00",
          "2023-02-01T00:00:00",
          "2023-03-01T00:00:00",
          "2023-04-01T00:00:00",
          "2023-05-01T00:00:00",
          "2023-06-01T00:00:00",
          "2023-07-01T00:00:00",
          "2023-08-01T00:00:00",
          "2023-09-01T00:00:00",
          "2023-10-01T00:00:00",
          "2023-11-01T00:00:00",
          "2023-12-01T00:00:00",
          "2024-01-01T00:00:00"
         ],
         "xaxis": "x",
         "y": [
          0.754762476,
          0.776550713,
          0.796802385,
          0.869729513,
          0.870984647,
          0.870948775,
          0.812373922,
          0.720592227,
          0.796619929,
          0.916060827,
          0.914843007,
          0.914843007,
          0.914855529,
          0.91193377,
          0.934221898,
          0.974230248,
          0.993696587,
          1.030760186,
          0.979924578,
          0.839257657,
          0.760695099,
          0.714357672,
          0.745669917,
          0.668859245,
          0.69149818,
          0.653915816,
          0.675361875,
          0.696376332,
          0.785894453,
          0.914228915,
          0.920110996,
          0.942345664,
          0.897519225,
          0.869634256,
          0.727707,
          0.831778723,
          0.904142461,
          0.907246652,
          0.902525394,
          0.913105189,
          0.851992058,
          0.707446501,
          0.595080574,
          0.551015504,
          0.609068201,
          0.610701334,
          0.502126185,
          0.501897101,
          0.483907233,
          0.525923088,
          0.695945114,
          0.516703649,
          0.505535501,
          0.481239073,
          0.513822968,
          0.584771773,
          0.102764594,
          0.36348185,
          0.554135095,
          0.507556834,
          0.505535501,
          0.479359232,
          0.482492299,
          0.481822173,
          0.453253703,
          0.412609731,
          0.399478289,
          0.68828559,
          0.810026464,
          0.479258357,
          0.463602547,
          0.457504461,
          0.503341721,
          0.572790742,
          0.618600288,
          0.570051971,
          0.552927952,
          0.537317013,
          0.508258205,
          0.469863423,
          0.463794437,
          0.464219576,
          0.442920405,
          0.44092615,
          0.454386604,
          0.450960208,
          0.407925421,
          0.413394517,
          0.404893795,
          0.380808454,
          0.349526467,
          0.356993243,
          0.356373845,
          0.349743689,
          0.340715943,
          0.373832967,
          0.370515177
         ],
         "yaxis": "y"
        },
        {
         "hovertemplate": "<b>Expanding mean trendline</b><br><br>Fecha=%{x}<br>Petróleo_(Mbd)=%{y} <b>(trend)</b><extra></extra>",
         "legendgroup": "",
         "marker": {
          "color": "#636efa",
          "symbol": "circle"
         },
         "mode": "lines",
         "name": "",
         "showlegend": false,
         "type": "scatter",
         "x": [
          "2016-01-01T00:00:00",
          "2016-02-01T00:00:00",
          "2016-03-01T00:00:00",
          "2016-04-01T00:00:00",
          "2016-05-01T00:00:00",
          "2016-06-01T00:00:00",
          "2016-07-01T00:00:00",
          "2016-08-01T00:00:00",
          "2016-09-01T00:00:00",
          "2016-10-01T00:00:00",
          "2016-11-01T00:00:00",
          "2016-12-01T00:00:00",
          "2017-01-01T00:00:00",
          "2017-02-01T00:00:00",
          "2017-03-01T00:00:00",
          "2017-04-01T00:00:00",
          "2017-05-01T00:00:00",
          "2017-06-01T00:00:00",
          "2017-07-01T00:00:00",
          "2017-08-01T00:00:00",
          "2017-09-01T00:00:00",
          "2017-10-01T00:00:00",
          "2017-11-01T00:00:00",
          "2017-12-01T00:00:00",
          "2018-01-01T00:00:00",
          "2018-02-01T00:00:00",
          "2018-03-01T00:00:00",
          "2018-04-01T00:00:00",
          "2018-05-01T00:00:00",
          "2018-06-01T00:00:00",
          "2018-07-01T00:00:00",
          "2018-08-01T00:00:00",
          "2018-09-01T00:00:00",
          "2018-10-01T00:00:00",
          "2018-11-01T00:00:00",
          "2018-12-01T00:00:00",
          "2019-01-01T00:00:00",
          "2019-02-01T00:00:00",
          "2019-03-01T00:00:00",
          "2019-04-01T00:00:00",
          "2019-05-01T00:00:00",
          "2019-06-01T00:00:00",
          "2019-07-01T00:00:00",
          "2019-08-01T00:00:00",
          "2019-09-01T00:00:00",
          "2019-10-01T00:00:00",
          "2019-11-01T00:00:00",
          "2019-12-01T00:00:00",
          "2020-01-01T00:00:00",
          "2020-02-01T00:00:00",
          "2020-03-01T00:00:00",
          "2020-04-01T00:00:00",
          "2020-05-01T00:00:00",
          "2020-06-01T00:00:00",
          "2020-07-01T00:00:00",
          "2020-08-01T00:00:00",
          "2020-09-01T00:00:00",
          "2020-10-01T00:00:00",
          "2020-11-01T00:00:00",
          "2020-12-01T00:00:00",
          "2021-01-01T00:00:00",
          "2021-02-01T00:00:00",
          "2021-03-01T00:00:00",
          "2021-04-01T00:00:00",
          "2021-05-01T00:00:00",
          "2021-06-01T00:00:00",
          "2021-07-01T00:00:00",
          "2021-08-01T00:00:00",
          "2021-09-01T00:00:00",
          "2021-10-01T00:00:00",
          "2021-11-01T00:00:00",
          "2021-12-01T00:00:00",
          "2022-01-01T00:00:00",
          "2022-02-01T00:00:00",
          "2022-03-01T00:00:00",
          "2022-04-01T00:00:00",
          "2022-05-01T00:00:00",
          "2022-06-01T00:00:00",
          "2022-07-01T00:00:00",
          "2022-08-01T00:00:00",
          "2022-09-01T00:00:00",
          "2022-10-01T00:00:00",
          "2022-11-01T00:00:00",
          "2022-12-01T00:00:00",
          "2023-01-01T00:00:00",
          "2023-02-01T00:00:00",
          "2023-03-01T00:00:00",
          "2023-04-01T00:00:00",
          "2023-05-01T00:00:00",
          "2023-06-01T00:00:00",
          "2023-07-01T00:00:00",
          "2023-08-01T00:00:00",
          "2023-09-01T00:00:00",
          "2023-10-01T00:00:00",
          "2023-11-01T00:00:00",
          "2023-12-01T00:00:00",
          "2024-01-01T00:00:00"
         ],
         "xaxis": "x",
         "y": [
          0.754762476,
          0.7656565945,
          0.7760385246666667,
          0.79946127175,
          0.8137659468,
          0.8232964181666667,
          0.8217360615714285,
          0.80909308225,
          0.8077071763333333,
          0.8185425414,
          0.8272971291818183,
          0.834592619,
          0.840766689,
          0.8458500519285714,
          0.8517415083333333,
          0.8593970545625,
          0.8672970270588235,
          0.8763783136666666,
          0.8818281170526315,
          0.8796995940500001,
          0.8740327133333333,
          0.8667747569090909,
          0.8615093290869565,
          0.85348224225,
          0.84700287976,
          0.8395764542307693,
          0.8334944327777778,
          0.82859735775,
          0.8271248437931034,
          0.8300283128333333,
          0.8329342058387097,
          0.83635331390625,
          0.8382068263636364,
          0.8391311625294118,
          0.8359476150285714,
          0.8358318124722222,
          0.8376780462162162,
          0.839508799,
          0.8411246091282052,
          0.842924123625,
          0.8431452927560976,
          0.8399143691428572,
          0.8342205599534884,
          0.8277840814090909,
          0.8229237285111111,
          0.8183101981956521,
          0.8115828787659575,
          0.8051310917291666,
          0.7985755027755103,
          0.79312245448,
          0.7912170164313727,
          0.7859379132115385,
          0.7806473016603773,
          0.7751027048333333,
          0.7703521641636363,
          0.7670382286071428,
          0.7553843051929824,
          0.7486273663103448,
          0.7453308871355931,
          0.74136798625,
          0.7375018799344262,
          0.7333382888387097,
          0.7293566064603174,
          0.7254888809375,
          0.7213006474307693,
          0.7166235123333333,
          0.7118900015373134,
          0.7115428778382353,
          0.7129701761884057,
          0.7096314359142857,
          0.7061662402957747,
          0.7027126044722222,
          0.699981496479452,
          0.6982627025,
          0.6972005369733334,
          0.6955275295263158,
          0.6936755869610389,
          0.6916709898589743,
          0.6893493090379746,
          0.6866057354625,
          0.683854978691358,
          0.6811764981707318,
          0.6783059428313253,
          0.6754799929166667,
          0.6728788942235294,
          0.6702984443837209,
          0.6672826625057471,
          0.6643975699431818,
          0.6614817971910112,
          0.6583632044888889,
          0.6549693941868132,
          0.6517305229782608,
          0.6485546447204301,
          0.6453758047659575,
          0.6421688588526315,
          0.6393736933124999,
          0.6366019560309278
         ],
         "yaxis": "y"
        }
       ],
       "layout": {
        "legend": {
         "tracegroupgap": 0
        },
        "margin": {
         "t": 60
        },
        "template": {
         "data": {
          "bar": [
           {
            "error_x": {
             "color": "#2a3f5f"
            },
            "error_y": {
             "color": "#2a3f5f"
            },
            "marker": {
             "line": {
              "color": "#E5ECF6",
              "width": 0.5
             },
             "pattern": {
              "fillmode": "overlay",
              "size": 10,
              "solidity": 0.2
             }
            },
            "type": "bar"
           }
          ],
          "barpolar": [
           {
            "marker": {
             "line": {
              "color": "#E5ECF6",
              "width": 0.5
             },
             "pattern": {
              "fillmode": "overlay",
              "size": 10,
              "solidity": 0.2
             }
            },
            "type": "barpolar"
           }
          ],
          "carpet": [
           {
            "aaxis": {
             "endlinecolor": "#2a3f5f",
             "gridcolor": "white",
             "linecolor": "white",
             "minorgridcolor": "white",
             "startlinecolor": "#2a3f5f"
            },
            "baxis": {
             "endlinecolor": "#2a3f5f",
             "gridcolor": "white",
             "linecolor": "white",
             "minorgridcolor": "white",
             "startlinecolor": "#2a3f5f"
            },
            "type": "carpet"
           }
          ],
          "choropleth": [
           {
            "colorbar": {
             "outlinewidth": 0,
             "ticks": ""
            },
            "type": "choropleth"
           }
          ],
          "contour": [
           {
            "colorbar": {
             "outlinewidth": 0,
             "ticks": ""
            },
            "colorscale": [
             [
              0,
              "#0d0887"
             ],
             [
              0.1111111111111111,
              "#46039f"
             ],
             [
              0.2222222222222222,
              "#7201a8"
             ],
             [
              0.3333333333333333,
              "#9c179e"
             ],
             [
              0.4444444444444444,
              "#bd3786"
             ],
             [
              0.5555555555555556,
              "#d8576b"
             ],
             [
              0.6666666666666666,
              "#ed7953"
             ],
             [
              0.7777777777777778,
              "#fb9f3a"
             ],
             [
              0.8888888888888888,
              "#fdca26"
             ],
             [
              1,
              "#f0f921"
             ]
            ],
            "type": "contour"
           }
          ],
          "contourcarpet": [
           {
            "colorbar": {
             "outlinewidth": 0,
             "ticks": ""
            },
            "type": "contourcarpet"
           }
          ],
          "heatmap": [
           {
            "colorbar": {
             "outlinewidth": 0,
             "ticks": ""
            },
            "colorscale": [
             [
              0,
              "#0d0887"
             ],
             [
              0.1111111111111111,
              "#46039f"
             ],
             [
              0.2222222222222222,
              "#7201a8"
             ],
             [
              0.3333333333333333,
              "#9c179e"
             ],
             [
              0.4444444444444444,
              "#bd3786"
             ],
             [
              0.5555555555555556,
              "#d8576b"
             ],
             [
              0.6666666666666666,
              "#ed7953"
             ],
             [
              0.7777777777777778,
              "#fb9f3a"
             ],
             [
              0.8888888888888888,
              "#fdca26"
             ],
             [
              1,
              "#f0f921"
             ]
            ],
            "type": "heatmap"
           }
          ],
          "heatmapgl": [
           {
            "colorbar": {
             "outlinewidth": 0,
             "ticks": ""
            },
            "colorscale": [
             [
              0,
              "#0d0887"
             ],
             [
              0.1111111111111111,
              "#46039f"
             ],
             [
              0.2222222222222222,
              "#7201a8"
             ],
             [
              0.3333333333333333,
              "#9c179e"
             ],
             [
              0.4444444444444444,
              "#bd3786"
             ],
             [
              0.5555555555555556,
              "#d8576b"
             ],
             [
              0.6666666666666666,
              "#ed7953"
             ],
             [
              0.7777777777777778,
              "#fb9f3a"
             ],
             [
              0.8888888888888888,
              "#fdca26"
             ],
             [
              1,
              "#f0f921"
             ]
            ],
            "type": "heatmapgl"
           }
          ],
          "histogram": [
           {
            "marker": {
             "pattern": {
              "fillmode": "overlay",
              "size": 10,
              "solidity": 0.2
             }
            },
            "type": "histogram"
           }
          ],
          "histogram2d": [
           {
            "colorbar": {
             "outlinewidth": 0,
             "ticks": ""
            },
            "colorscale": [
             [
              0,
              "#0d0887"
             ],
             [
              0.1111111111111111,
              "#46039f"
             ],
             [
              0.2222222222222222,
              "#7201a8"
             ],
             [
              0.3333333333333333,
              "#9c179e"
             ],
             [
              0.4444444444444444,
              "#bd3786"
             ],
             [
              0.5555555555555556,
              "#d8576b"
             ],
             [
              0.6666666666666666,
              "#ed7953"
             ],
             [
              0.7777777777777778,
              "#fb9f3a"
             ],
             [
              0.8888888888888888,
              "#fdca26"
             ],
             [
              1,
              "#f0f921"
             ]
            ],
            "type": "histogram2d"
           }
          ],
          "histogram2dcontour": [
           {
            "colorbar": {
             "outlinewidth": 0,
             "ticks": ""
            },
            "colorscale": [
             [
              0,
              "#0d0887"
             ],
             [
              0.1111111111111111,
              "#46039f"
             ],
             [
              0.2222222222222222,
              "#7201a8"
             ],
             [
              0.3333333333333333,
              "#9c179e"
             ],
             [
              0.4444444444444444,
              "#bd3786"
             ],
             [
              0.5555555555555556,
              "#d8576b"
             ],
             [
              0.6666666666666666,
              "#ed7953"
             ],
             [
              0.7777777777777778,
              "#fb9f3a"
             ],
             [
              0.8888888888888888,
              "#fdca26"
             ],
             [
              1,
              "#f0f921"
             ]
            ],
            "type": "histogram2dcontour"
           }
          ],
          "mesh3d": [
           {
            "colorbar": {
             "outlinewidth": 0,
             "ticks": ""
            },
            "type": "mesh3d"
           }
          ],
          "parcoords": [
           {
            "line": {
             "colorbar": {
              "outlinewidth": 0,
              "ticks": ""
             }
            },
            "type": "parcoords"
           }
          ],
          "pie": [
           {
            "automargin": true,
            "type": "pie"
           }
          ],
          "scatter": [
           {
            "fillpattern": {
             "fillmode": "overlay",
             "size": 10,
             "solidity": 0.2
            },
            "type": "scatter"
           }
          ],
          "scatter3d": [
           {
            "line": {
             "colorbar": {
              "outlinewidth": 0,
              "ticks": ""
             }
            },
            "marker": {
             "colorbar": {
              "outlinewidth": 0,
              "ticks": ""
             }
            },
            "type": "scatter3d"
           }
          ],
          "scattercarpet": [
           {
            "marker": {
             "colorbar": {
              "outlinewidth": 0,
              "ticks": ""
             }
            },
            "type": "scattercarpet"
           }
          ],
          "scattergeo": [
           {
            "marker": {
             "colorbar": {
              "outlinewidth": 0,
              "ticks": ""
             }
            },
            "type": "scattergeo"
           }
          ],
          "scattergl": [
           {
            "marker": {
             "colorbar": {
              "outlinewidth": 0,
              "ticks": ""
             }
            },
            "type": "scattergl"
           }
          ],
          "scattermapbox": [
           {
            "marker": {
             "colorbar": {
              "outlinewidth": 0,
              "ticks": ""
             }
            },
            "type": "scattermapbox"
           }
          ],
          "scatterpolar": [
           {
            "marker": {
             "colorbar": {
              "outlinewidth": 0,
              "ticks": ""
             }
            },
            "type": "scatterpolar"
           }
          ],
          "scatterpolargl": [
           {
            "marker": {
             "colorbar": {
              "outlinewidth": 0,
              "ticks": ""
             }
            },
            "type": "scatterpolargl"
           }
          ],
          "scatterternary": [
           {
            "marker": {
             "colorbar": {
              "outlinewidth": 0,
              "ticks": ""
             }
            },
            "type": "scatterternary"
           }
          ],
          "surface": [
           {
            "colorbar": {
             "outlinewidth": 0,
             "ticks": ""
            },
            "colorscale": [
             [
              0,
              "#0d0887"
             ],
             [
              0.1111111111111111,
              "#46039f"
             ],
             [
              0.2222222222222222,
              "#7201a8"
             ],
             [
              0.3333333333333333,
              "#9c179e"
             ],
             [
              0.4444444444444444,
              "#bd3786"
             ],
             [
              0.5555555555555556,
              "#d8576b"
             ],
             [
              0.6666666666666666,
              "#ed7953"
             ],
             [
              0.7777777777777778,
              "#fb9f3a"
             ],
             [
              0.8888888888888888,
              "#fdca26"
             ],
             [
              1,
              "#f0f921"
             ]
            ],
            "type": "surface"
           }
          ],
          "table": [
           {
            "cells": {
             "fill": {
              "color": "#EBF0F8"
             },
             "line": {
              "color": "white"
             }
            },
            "header": {
             "fill": {
              "color": "#C8D4E3"
             },
             "line": {
              "color": "white"
             }
            },
            "type": "table"
           }
          ]
         },
         "layout": {
          "annotationdefaults": {
           "arrowcolor": "#2a3f5f",
           "arrowhead": 0,
           "arrowwidth": 1
          },
          "autotypenumbers": "strict",
          "coloraxis": {
           "colorbar": {
            "outlinewidth": 0,
            "ticks": ""
           }
          },
          "colorscale": {
           "diverging": [
            [
             0,
             "#8e0152"
            ],
            [
             0.1,
             "#c51b7d"
            ],
            [
             0.2,
             "#de77ae"
            ],
            [
             0.3,
             "#f1b6da"
            ],
            [
             0.4,
             "#fde0ef"
            ],
            [
             0.5,
             "#f7f7f7"
            ],
            [
             0.6,
             "#e6f5d0"
            ],
            [
             0.7,
             "#b8e186"
            ],
            [
             0.8,
             "#7fbc41"
            ],
            [
             0.9,
             "#4d9221"
            ],
            [
             1,
             "#276419"
            ]
           ],
           "sequential": [
            [
             0,
             "#0d0887"
            ],
            [
             0.1111111111111111,
             "#46039f"
            ],
            [
             0.2222222222222222,
             "#7201a8"
            ],
            [
             0.3333333333333333,
             "#9c179e"
            ],
            [
             0.4444444444444444,
             "#bd3786"
            ],
            [
             0.5555555555555556,
             "#d8576b"
            ],
            [
             0.6666666666666666,
             "#ed7953"
            ],
            [
             0.7777777777777778,
             "#fb9f3a"
            ],
            [
             0.8888888888888888,
             "#fdca26"
            ],
            [
             1,
             "#f0f921"
            ]
           ],
           "sequentialminus": [
            [
             0,
             "#0d0887"
            ],
            [
             0.1111111111111111,
             "#46039f"
            ],
            [
             0.2222222222222222,
             "#7201a8"
            ],
            [
             0.3333333333333333,
             "#9c179e"
            ],
            [
             0.4444444444444444,
             "#bd3786"
            ],
            [
             0.5555555555555556,
             "#d8576b"
            ],
            [
             0.6666666666666666,
             "#ed7953"
            ],
            [
             0.7777777777777778,
             "#fb9f3a"
            ],
            [
             0.8888888888888888,
             "#fdca26"
            ],
            [
             1,
             "#f0f921"
            ]
           ]
          },
          "colorway": [
           "#636efa",
           "#EF553B",
           "#00cc96",
           "#ab63fa",
           "#FFA15A",
           "#19d3f3",
           "#FF6692",
           "#B6E880",
           "#FF97FF",
           "#FECB52"
          ],
          "font": {
           "color": "#2a3f5f"
          },
          "geo": {
           "bgcolor": "white",
           "lakecolor": "white",
           "landcolor": "#E5ECF6",
           "showlakes": true,
           "showland": true,
           "subunitcolor": "white"
          },
          "hoverlabel": {
           "align": "left"
          },
          "hovermode": "closest",
          "mapbox": {
           "style": "light"
          },
          "paper_bgcolor": "white",
          "plot_bgcolor": "#E5ECF6",
          "polar": {
           "angularaxis": {
            "gridcolor": "white",
            "linecolor": "white",
            "ticks": ""
           },
           "bgcolor": "#E5ECF6",
           "radialaxis": {
            "gridcolor": "white",
            "linecolor": "white",
            "ticks": ""
           }
          },
          "scene": {
           "xaxis": {
            "backgroundcolor": "#E5ECF6",
            "gridcolor": "white",
            "gridwidth": 2,
            "linecolor": "white",
            "showbackground": true,
            "ticks": "",
            "zerolinecolor": "white"
           },
           "yaxis": {
            "backgroundcolor": "#E5ECF6",
            "gridcolor": "white",
            "gridwidth": 2,
            "linecolor": "white",
            "showbackground": true,
            "ticks": "",
            "zerolinecolor": "white"
           },
           "zaxis": {
            "backgroundcolor": "#E5ECF6",
            "gridcolor": "white",
            "gridwidth": 2,
            "linecolor": "white",
            "showbackground": true,
            "ticks": "",
            "zerolinecolor": "white"
           }
          },
          "shapedefaults": {
           "line": {
            "color": "#2a3f5f"
           }
          },
          "ternary": {
           "aaxis": {
            "gridcolor": "white",
            "linecolor": "white",
            "ticks": ""
           },
           "baxis": {
            "gridcolor": "white",
            "linecolor": "white",
            "ticks": ""
           },
           "bgcolor": "#E5ECF6",
           "caxis": {
            "gridcolor": "white",
            "linecolor": "white",
            "ticks": ""
           }
          },
          "title": {
           "x": 0.05
          },
          "xaxis": {
           "automargin": true,
           "gridcolor": "white",
           "linecolor": "white",
           "ticks": "",
           "title": {
            "standoff": 15
           },
           "zerolinecolor": "white",
           "zerolinewidth": 2
          },
          "yaxis": {
           "automargin": true,
           "gridcolor": "white",
           "linecolor": "white",
           "ticks": "",
           "title": {
            "standoff": 15
           },
           "zerolinecolor": "white",
           "zerolinewidth": 2
          }
         }
        },
        "xaxis": {
         "anchor": "y",
         "domain": [
          0,
          1
         ],
         "title": {
          "text": "Fecha"
         }
        },
        "yaxis": {
         "anchor": "x",
         "domain": [
          0,
          1
         ],
         "title": {
          "text": "Petróleo_(Mbd)"
         }
        }
       }
      }
     },
     "metadata": {},
     "output_type": "display_data"
    }
   ],
   "source": [
    "fig4=plotly_express.scatter(asig.query(\"Nombre_del_pozo=='JUJO-23B'\"),x='Fecha',y='Petróleo_(Mbd)',trendline='expanding')\n",
    "fig4.show() #graficamos el comportamiento de producción de aceite del pozo"
   ]
  },
  {
   "cell_type": "code",
   "execution_count": 52,
   "metadata": {},
   "outputs": [
    {
     "name": "stderr",
     "output_type": "stream",
     "text": [
      "c:\\Users\\rodri\\anaconda3\\envs\\prod_RS\\Lib\\site-packages\\_plotly_utils\\basevalidators.py:106: FutureWarning:\n",
      "\n",
      "The behavior of DatetimeProperties.to_pydatetime is deprecated, in a future version this will return a Series containing python datetime objects instead of an ndarray. To retain the old behavior, call `np.array` on the result\n",
      "\n",
      "c:\\Users\\rodri\\anaconda3\\envs\\prod_RS\\Lib\\site-packages\\_plotly_utils\\basevalidators.py:106: FutureWarning:\n",
      "\n",
      "The behavior of DatetimeProperties.to_pydatetime is deprecated, in a future version this will return a Series containing python datetime objects instead of an ndarray. To retain the old behavior, call `np.array` on the result\n",
      "\n"
     ]
    },
    {
     "data": {
      "application/vnd.plotly.v1+json": {
       "config": {
        "plotlyServerURL": "https://plot.ly"
       },
       "data": [
        {
         "hovertemplate": "Fecha=%{x}<br>Fw (%)=%{y}<extra></extra>",
         "legendgroup": "",
         "marker": {
          "color": "#636efa",
          "symbol": "circle"
         },
         "mode": "markers",
         "name": "",
         "orientation": "v",
         "showlegend": false,
         "type": "scatter",
         "x": [
          "2016-01-01T00:00:00",
          "2016-02-01T00:00:00",
          "2016-03-01T00:00:00",
          "2016-04-01T00:00:00",
          "2016-05-01T00:00:00",
          "2016-06-01T00:00:00",
          "2016-07-01T00:00:00",
          "2016-08-01T00:00:00",
          "2016-09-01T00:00:00",
          "2016-10-01T00:00:00",
          "2016-11-01T00:00:00",
          "2016-12-01T00:00:00",
          "2017-01-01T00:00:00",
          "2017-02-01T00:00:00",
          "2017-03-01T00:00:00",
          "2017-04-01T00:00:00",
          "2017-05-01T00:00:00",
          "2017-06-01T00:00:00",
          "2017-07-01T00:00:00",
          "2017-08-01T00:00:00",
          "2017-09-01T00:00:00",
          "2017-10-01T00:00:00",
          "2017-11-01T00:00:00",
          "2017-12-01T00:00:00",
          "2018-01-01T00:00:00",
          "2018-02-01T00:00:00",
          "2018-03-01T00:00:00",
          "2018-04-01T00:00:00",
          "2018-05-01T00:00:00",
          "2018-06-01T00:00:00",
          "2018-07-01T00:00:00",
          "2018-08-01T00:00:00",
          "2018-09-01T00:00:00",
          "2018-10-01T00:00:00",
          "2018-11-01T00:00:00",
          "2018-12-01T00:00:00",
          "2019-01-01T00:00:00",
          "2019-02-01T00:00:00",
          "2019-03-01T00:00:00",
          "2019-04-01T00:00:00",
          "2019-05-01T00:00:00",
          "2019-06-01T00:00:00",
          "2019-07-01T00:00:00",
          "2019-08-01T00:00:00",
          "2019-09-01T00:00:00",
          "2019-10-01T00:00:00",
          "2019-11-01T00:00:00",
          "2019-12-01T00:00:00",
          "2020-01-01T00:00:00",
          "2020-02-01T00:00:00",
          "2020-03-01T00:00:00",
          "2020-04-01T00:00:00",
          "2020-05-01T00:00:00",
          "2020-06-01T00:00:00",
          "2020-07-01T00:00:00",
          "2020-08-01T00:00:00",
          "2020-09-01T00:00:00",
          "2020-10-01T00:00:00",
          "2020-11-01T00:00:00",
          "2020-12-01T00:00:00",
          "2021-01-01T00:00:00",
          "2021-02-01T00:00:00",
          "2021-03-01T00:00:00",
          "2021-04-01T00:00:00",
          "2021-05-01T00:00:00",
          "2021-06-01T00:00:00",
          "2021-07-01T00:00:00",
          "2021-08-01T00:00:00",
          "2021-09-01T00:00:00",
          "2021-10-01T00:00:00",
          "2021-11-01T00:00:00",
          "2021-12-01T00:00:00",
          "2022-01-01T00:00:00",
          "2022-02-01T00:00:00",
          "2022-03-01T00:00:00",
          "2022-04-01T00:00:00",
          "2022-05-01T00:00:00",
          "2022-06-01T00:00:00",
          "2022-07-01T00:00:00",
          "2022-08-01T00:00:00",
          "2022-09-01T00:00:00",
          "2022-10-01T00:00:00",
          "2022-11-01T00:00:00",
          "2022-12-01T00:00:00",
          "2023-01-01T00:00:00",
          "2023-02-01T00:00:00",
          "2023-03-01T00:00:00",
          "2023-04-01T00:00:00",
          "2023-05-01T00:00:00",
          "2023-06-01T00:00:00",
          "2023-07-01T00:00:00"
         ],
         "xaxis": "x",
         "y": [
          0.28644536679138555,
          0.2863253585332003,
          0.28602055476800886,
          0.2863051738027212,
          0.2864666132232973,
          0.28646045573653667,
          0.2864501298960991,
          0.28646471714460325,
          0.2864573636762851,
          0.28610922886659124,
          0.2864796362609,
          0.28647133249729123,
          0.2864662098576494,
          0.28647206375625034,
          0.2864749202586351,
          0.28625745084902543,
          0.2865624636304239,
          0.28055978200179243,
          0.2867979464902083,
          0.1895759323265726,
          0.1829066196206323,
          0.2015807166950613,
          0.2656353857856371,
          0.21895385014478655,
          0.3883951016448099,
          0.40090507357519245,
          0.3511554665569344,
          0.33417157812232906,
          0.23385860072057382,
          0.11352868107245238,
          0.16719089812516694,
          0.16719089812516694,
          0.16719089812516694,
          0.18806445484511827,
          0.22142843275590404,
          0.27347562924221364,
          0.27347562924221364,
          0.27347562924221364,
          0.36846570609725277,
          0.4295289529070535,
          0.4294948767962624,
          0.4294948767962624,
          0.4294948767962624,
          0.4294948767962624,
          0.33417157651802987,
          0.20058671995895597,
          0.2006038399474905,
          0.2006038399474905,
          0.2006038399474905,
          0.2006038399474905,
          0.2006038399474905,
          0.20331645085685737,
          0.22860527063484404,
          0.23143909233349516,
          0.24479072153730244,
          0.3219232544780695,
          0.2864842390284605,
          0.18235920165698422,
          0.16781203430012742,
          0.1605073018822204,
          0.17643361693227513,
          0.18392999997400122,
          0.2149210989535151,
          0.22135160550768818,
          0.22292467188981485,
          0.22292467188981485,
          0.2229348724858819,
          0.22290906860136625,
          0.222909226598403,
          0.22286531465261092,
          0.22290859066169366,
          0.2229219500450049,
          0.021495163859819914,
          0.01881472452342328,
          0.021626784261707235,
          0.11475209440634006,
          0.3342153924631767,
          0.17583251358868585,
          0.1537429800380194,
          0.25074611300270766,
          0.2539222136843153,
          0.2517597589247693,
          0.25074788732705994,
          0.2507623677520345,
          0.2507948335737957,
          0.25079138861845773,
          0.25407317079015873,
          0.25078487396164184,
          0.2507916586115393,
          0.26055297437201885,
          0.2865802689325451
         ],
         "yaxis": "y"
        },
        {
         "hovertemplate": "<b>LOWESS trendline</b><br><br>Fecha=%{x}<br>Fw (%)=%{y} <b>(trend)</b><extra></extra>",
         "legendgroup": "",
         "marker": {
          "color": "#636efa",
          "symbol": "circle"
         },
         "mode": "lines",
         "name": "",
         "showlegend": false,
         "type": "scatter",
         "x": [
          "2016-01-01T00:00:00",
          "2016-02-01T00:00:00",
          "2016-03-01T00:00:00",
          "2016-04-01T00:00:00",
          "2016-05-01T00:00:00",
          "2016-06-01T00:00:00",
          "2016-07-01T00:00:00",
          "2016-08-01T00:00:00",
          "2016-09-01T00:00:00",
          "2016-10-01T00:00:00",
          "2016-11-01T00:00:00",
          "2016-12-01T00:00:00",
          "2017-01-01T00:00:00",
          "2017-02-01T00:00:00",
          "2017-03-01T00:00:00",
          "2017-04-01T00:00:00",
          "2017-05-01T00:00:00",
          "2017-06-01T00:00:00",
          "2017-07-01T00:00:00",
          "2017-08-01T00:00:00",
          "2017-09-01T00:00:00",
          "2017-10-01T00:00:00",
          "2017-11-01T00:00:00",
          "2017-12-01T00:00:00",
          "2018-01-01T00:00:00",
          "2018-02-01T00:00:00",
          "2018-03-01T00:00:00",
          "2018-04-01T00:00:00",
          "2018-05-01T00:00:00",
          "2018-06-01T00:00:00",
          "2018-07-01T00:00:00",
          "2018-08-01T00:00:00",
          "2018-09-01T00:00:00",
          "2018-10-01T00:00:00",
          "2018-11-01T00:00:00",
          "2018-12-01T00:00:00",
          "2019-01-01T00:00:00",
          "2019-02-01T00:00:00",
          "2019-03-01T00:00:00",
          "2019-04-01T00:00:00",
          "2019-05-01T00:00:00",
          "2019-06-01T00:00:00",
          "2019-07-01T00:00:00",
          "2019-08-01T00:00:00",
          "2019-09-01T00:00:00",
          "2019-10-01T00:00:00",
          "2019-11-01T00:00:00",
          "2019-12-01T00:00:00",
          "2020-01-01T00:00:00",
          "2020-02-01T00:00:00",
          "2020-03-01T00:00:00",
          "2020-04-01T00:00:00",
          "2020-05-01T00:00:00",
          "2020-06-01T00:00:00",
          "2020-07-01T00:00:00",
          "2020-08-01T00:00:00",
          "2020-09-01T00:00:00",
          "2020-10-01T00:00:00",
          "2020-11-01T00:00:00",
          "2020-12-01T00:00:00",
          "2021-01-01T00:00:00",
          "2021-02-01T00:00:00",
          "2021-03-01T00:00:00",
          "2021-04-01T00:00:00",
          "2021-05-01T00:00:00",
          "2021-06-01T00:00:00",
          "2021-07-01T00:00:00",
          "2021-08-01T00:00:00",
          "2021-09-01T00:00:00",
          "2021-10-01T00:00:00",
          "2021-11-01T00:00:00",
          "2021-12-01T00:00:00",
          "2022-01-01T00:00:00",
          "2022-02-01T00:00:00",
          "2022-03-01T00:00:00",
          "2022-04-01T00:00:00",
          "2022-05-01T00:00:00",
          "2022-06-01T00:00:00",
          "2022-07-01T00:00:00",
          "2022-08-01T00:00:00",
          "2022-09-01T00:00:00",
          "2022-10-01T00:00:00",
          "2022-11-01T00:00:00",
          "2022-12-01T00:00:00",
          "2023-01-01T00:00:00",
          "2023-02-01T00:00:00",
          "2023-03-01T00:00:00",
          "2023-04-01T00:00:00",
          "2023-05-01T00:00:00",
          "2023-06-01T00:00:00",
          "2023-07-01T00:00:00"
         ],
         "xaxis": "x",
         "y": [
          0.25717204117620884,
          0.2571516239615811,
          0.2570365989232746,
          0.2569511598668441,
          0.25688252200413164,
          0.2568180121973218,
          0.25675346021464274,
          0.25674824722225104,
          0.2566598167158444,
          0.25662338942907925,
          0.256560016837357,
          0.2564846173756484,
          0.2563921140584266,
          0.25637088416805665,
          0.2563213724775492,
          0.25630413131109525,
          0.25629965527619103,
          0.2563297465695609,
          0.25637141632131955,
          0.2563799959733686,
          0.2564004263696926,
          0.25641915862081055,
          0.25642704564548635,
          0.25643410349859064,
          0.25642100044401006,
          0.2563831282720839,
          0.25635145318140445,
          0.2560602904197931,
          0.25509237945786434,
          0.2539418113609757,
          0.2531971316206157,
          0.2519902430753104,
          0.25159987217459484,
          0.25021316538439814,
          0.24936647801650544,
          0.2487716376302596,
          0.24846820396160732,
          0.24781511595235084,
          0.24778076957878797,
          0.2473944687902129,
          0.24704100550962493,
          0.246882982456804,
          0.24669821400501454,
          0.24629879128240018,
          0.24582616529128487,
          0.24507398778122202,
          0.24486352806206244,
          0.24466129296748976,
          0.24452449981333993,
          0.24406899986947794,
          0.24357264420916563,
          0.24316431199918656,
          0.24229858182769914,
          0.24208452349024293,
          0.2417864942437007,
          0.24100799266520923,
          0.24061661198116452,
          0.24042907672174096,
          0.23968985045549207,
          0.23939010896480037,
          0.23912329307083183,
          0.23680178049784875,
          0.2366228915877119,
          0.23661152576798597,
          0.23666038215422391,
          0.23686882126649034,
          0.23705659631934667,
          0.2373792097227,
          0.23751955199243036,
          0.23766454024231343,
          0.23819820758550503,
          0.23846609781770736,
          0.23887169677190848,
          0.23903634372518404,
          0.2394246328783609,
          0.23955866918424795,
          0.23972365736498605,
          0.2402956322646364,
          0.2406782736609627,
          0.2409712668290839,
          0.24124093286911727,
          0.2415093240808862,
          0.24190613253729615,
          0.24206577878129792,
          0.24257404613259947,
          0.242736891959634,
          0.2432030417655216,
          0.24348835561303236,
          0.24404450329302071,
          0.24422519269344042,
          0.24440821387027922
         ],
         "yaxis": "y"
        }
       ],
       "layout": {
        "legend": {
         "tracegroupgap": 0
        },
        "margin": {
         "t": 60
        },
        "template": {
         "data": {
          "bar": [
           {
            "error_x": {
             "color": "#2a3f5f"
            },
            "error_y": {
             "color": "#2a3f5f"
            },
            "marker": {
             "line": {
              "color": "#E5ECF6",
              "width": 0.5
             },
             "pattern": {
              "fillmode": "overlay",
              "size": 10,
              "solidity": 0.2
             }
            },
            "type": "bar"
           }
          ],
          "barpolar": [
           {
            "marker": {
             "line": {
              "color": "#E5ECF6",
              "width": 0.5
             },
             "pattern": {
              "fillmode": "overlay",
              "size": 10,
              "solidity": 0.2
             }
            },
            "type": "barpolar"
           }
          ],
          "carpet": [
           {
            "aaxis": {
             "endlinecolor": "#2a3f5f",
             "gridcolor": "white",
             "linecolor": "white",
             "minorgridcolor": "white",
             "startlinecolor": "#2a3f5f"
            },
            "baxis": {
             "endlinecolor": "#2a3f5f",
             "gridcolor": "white",
             "linecolor": "white",
             "minorgridcolor": "white",
             "startlinecolor": "#2a3f5f"
            },
            "type": "carpet"
           }
          ],
          "choropleth": [
           {
            "colorbar": {
             "outlinewidth": 0,
             "ticks": ""
            },
            "type": "choropleth"
           }
          ],
          "contour": [
           {
            "colorbar": {
             "outlinewidth": 0,
             "ticks": ""
            },
            "colorscale": [
             [
              0,
              "#0d0887"
             ],
             [
              0.1111111111111111,
              "#46039f"
             ],
             [
              0.2222222222222222,
              "#7201a8"
             ],
             [
              0.3333333333333333,
              "#9c179e"
             ],
             [
              0.4444444444444444,
              "#bd3786"
             ],
             [
              0.5555555555555556,
              "#d8576b"
             ],
             [
              0.6666666666666666,
              "#ed7953"
             ],
             [
              0.7777777777777778,
              "#fb9f3a"
             ],
             [
              0.8888888888888888,
              "#fdca26"
             ],
             [
              1,
              "#f0f921"
             ]
            ],
            "type": "contour"
           }
          ],
          "contourcarpet": [
           {
            "colorbar": {
             "outlinewidth": 0,
             "ticks": ""
            },
            "type": "contourcarpet"
           }
          ],
          "heatmap": [
           {
            "colorbar": {
             "outlinewidth": 0,
             "ticks": ""
            },
            "colorscale": [
             [
              0,
              "#0d0887"
             ],
             [
              0.1111111111111111,
              "#46039f"
             ],
             [
              0.2222222222222222,
              "#7201a8"
             ],
             [
              0.3333333333333333,
              "#9c179e"
             ],
             [
              0.4444444444444444,
              "#bd3786"
             ],
             [
              0.5555555555555556,
              "#d8576b"
             ],
             [
              0.6666666666666666,
              "#ed7953"
             ],
             [
              0.7777777777777778,
              "#fb9f3a"
             ],
             [
              0.8888888888888888,
              "#fdca26"
             ],
             [
              1,
              "#f0f921"
             ]
            ],
            "type": "heatmap"
           }
          ],
          "heatmapgl": [
           {
            "colorbar": {
             "outlinewidth": 0,
             "ticks": ""
            },
            "colorscale": [
             [
              0,
              "#0d0887"
             ],
             [
              0.1111111111111111,
              "#46039f"
             ],
             [
              0.2222222222222222,
              "#7201a8"
             ],
             [
              0.3333333333333333,
              "#9c179e"
             ],
             [
              0.4444444444444444,
              "#bd3786"
             ],
             [
              0.5555555555555556,
              "#d8576b"
             ],
             [
              0.6666666666666666,
              "#ed7953"
             ],
             [
              0.7777777777777778,
              "#fb9f3a"
             ],
             [
              0.8888888888888888,
              "#fdca26"
             ],
             [
              1,
              "#f0f921"
             ]
            ],
            "type": "heatmapgl"
           }
          ],
          "histogram": [
           {
            "marker": {
             "pattern": {
              "fillmode": "overlay",
              "size": 10,
              "solidity": 0.2
             }
            },
            "type": "histogram"
           }
          ],
          "histogram2d": [
           {
            "colorbar": {
             "outlinewidth": 0,
             "ticks": ""
            },
            "colorscale": [
             [
              0,
              "#0d0887"
             ],
             [
              0.1111111111111111,
              "#46039f"
             ],
             [
              0.2222222222222222,
              "#7201a8"
             ],
             [
              0.3333333333333333,
              "#9c179e"
             ],
             [
              0.4444444444444444,
              "#bd3786"
             ],
             [
              0.5555555555555556,
              "#d8576b"
             ],
             [
              0.6666666666666666,
              "#ed7953"
             ],
             [
              0.7777777777777778,
              "#fb9f3a"
             ],
             [
              0.8888888888888888,
              "#fdca26"
             ],
             [
              1,
              "#f0f921"
             ]
            ],
            "type": "histogram2d"
           }
          ],
          "histogram2dcontour": [
           {
            "colorbar": {
             "outlinewidth": 0,
             "ticks": ""
            },
            "colorscale": [
             [
              0,
              "#0d0887"
             ],
             [
              0.1111111111111111,
              "#46039f"
             ],
             [
              0.2222222222222222,
              "#7201a8"
             ],
             [
              0.3333333333333333,
              "#9c179e"
             ],
             [
              0.4444444444444444,
              "#bd3786"
             ],
             [
              0.5555555555555556,
              "#d8576b"
             ],
             [
              0.6666666666666666,
              "#ed7953"
             ],
             [
              0.7777777777777778,
              "#fb9f3a"
             ],
             [
              0.8888888888888888,
              "#fdca26"
             ],
             [
              1,
              "#f0f921"
             ]
            ],
            "type": "histogram2dcontour"
           }
          ],
          "mesh3d": [
           {
            "colorbar": {
             "outlinewidth": 0,
             "ticks": ""
            },
            "type": "mesh3d"
           }
          ],
          "parcoords": [
           {
            "line": {
             "colorbar": {
              "outlinewidth": 0,
              "ticks": ""
             }
            },
            "type": "parcoords"
           }
          ],
          "pie": [
           {
            "automargin": true,
            "type": "pie"
           }
          ],
          "scatter": [
           {
            "fillpattern": {
             "fillmode": "overlay",
             "size": 10,
             "solidity": 0.2
            },
            "type": "scatter"
           }
          ],
          "scatter3d": [
           {
            "line": {
             "colorbar": {
              "outlinewidth": 0,
              "ticks": ""
             }
            },
            "marker": {
             "colorbar": {
              "outlinewidth": 0,
              "ticks": ""
             }
            },
            "type": "scatter3d"
           }
          ],
          "scattercarpet": [
           {
            "marker": {
             "colorbar": {
              "outlinewidth": 0,
              "ticks": ""
             }
            },
            "type": "scattercarpet"
           }
          ],
          "scattergeo": [
           {
            "marker": {
             "colorbar": {
              "outlinewidth": 0,
              "ticks": ""
             }
            },
            "type": "scattergeo"
           }
          ],
          "scattergl": [
           {
            "marker": {
             "colorbar": {
              "outlinewidth": 0,
              "ticks": ""
             }
            },
            "type": "scattergl"
           }
          ],
          "scattermapbox": [
           {
            "marker": {
             "colorbar": {
              "outlinewidth": 0,
              "ticks": ""
             }
            },
            "type": "scattermapbox"
           }
          ],
          "scatterpolar": [
           {
            "marker": {
             "colorbar": {
              "outlinewidth": 0,
              "ticks": ""
             }
            },
            "type": "scatterpolar"
           }
          ],
          "scatterpolargl": [
           {
            "marker": {
             "colorbar": {
              "outlinewidth": 0,
              "ticks": ""
             }
            },
            "type": "scatterpolargl"
           }
          ],
          "scatterternary": [
           {
            "marker": {
             "colorbar": {
              "outlinewidth": 0,
              "ticks": ""
             }
            },
            "type": "scatterternary"
           }
          ],
          "surface": [
           {
            "colorbar": {
             "outlinewidth": 0,
             "ticks": ""
            },
            "colorscale": [
             [
              0,
              "#0d0887"
             ],
             [
              0.1111111111111111,
              "#46039f"
             ],
             [
              0.2222222222222222,
              "#7201a8"
             ],
             [
              0.3333333333333333,
              "#9c179e"
             ],
             [
              0.4444444444444444,
              "#bd3786"
             ],
             [
              0.5555555555555556,
              "#d8576b"
             ],
             [
              0.6666666666666666,
              "#ed7953"
             ],
             [
              0.7777777777777778,
              "#fb9f3a"
             ],
             [
              0.8888888888888888,
              "#fdca26"
             ],
             [
              1,
              "#f0f921"
             ]
            ],
            "type": "surface"
           }
          ],
          "table": [
           {
            "cells": {
             "fill": {
              "color": "#EBF0F8"
             },
             "line": {
              "color": "white"
             }
            },
            "header": {
             "fill": {
              "color": "#C8D4E3"
             },
             "line": {
              "color": "white"
             }
            },
            "type": "table"
           }
          ]
         },
         "layout": {
          "annotationdefaults": {
           "arrowcolor": "#2a3f5f",
           "arrowhead": 0,
           "arrowwidth": 1
          },
          "autotypenumbers": "strict",
          "coloraxis": {
           "colorbar": {
            "outlinewidth": 0,
            "ticks": ""
           }
          },
          "colorscale": {
           "diverging": [
            [
             0,
             "#8e0152"
            ],
            [
             0.1,
             "#c51b7d"
            ],
            [
             0.2,
             "#de77ae"
            ],
            [
             0.3,
             "#f1b6da"
            ],
            [
             0.4,
             "#fde0ef"
            ],
            [
             0.5,
             "#f7f7f7"
            ],
            [
             0.6,
             "#e6f5d0"
            ],
            [
             0.7,
             "#b8e186"
            ],
            [
             0.8,
             "#7fbc41"
            ],
            [
             0.9,
             "#4d9221"
            ],
            [
             1,
             "#276419"
            ]
           ],
           "sequential": [
            [
             0,
             "#0d0887"
            ],
            [
             0.1111111111111111,
             "#46039f"
            ],
            [
             0.2222222222222222,
             "#7201a8"
            ],
            [
             0.3333333333333333,
             "#9c179e"
            ],
            [
             0.4444444444444444,
             "#bd3786"
            ],
            [
             0.5555555555555556,
             "#d8576b"
            ],
            [
             0.6666666666666666,
             "#ed7953"
            ],
            [
             0.7777777777777778,
             "#fb9f3a"
            ],
            [
             0.8888888888888888,
             "#fdca26"
            ],
            [
             1,
             "#f0f921"
            ]
           ],
           "sequentialminus": [
            [
             0,
             "#0d0887"
            ],
            [
             0.1111111111111111,
             "#46039f"
            ],
            [
             0.2222222222222222,
             "#7201a8"
            ],
            [
             0.3333333333333333,
             "#9c179e"
            ],
            [
             0.4444444444444444,
             "#bd3786"
            ],
            [
             0.5555555555555556,
             "#d8576b"
            ],
            [
             0.6666666666666666,
             "#ed7953"
            ],
            [
             0.7777777777777778,
             "#fb9f3a"
            ],
            [
             0.8888888888888888,
             "#fdca26"
            ],
            [
             1,
             "#f0f921"
            ]
           ]
          },
          "colorway": [
           "#636efa",
           "#EF553B",
           "#00cc96",
           "#ab63fa",
           "#FFA15A",
           "#19d3f3",
           "#FF6692",
           "#B6E880",
           "#FF97FF",
           "#FECB52"
          ],
          "font": {
           "color": "#2a3f5f"
          },
          "geo": {
           "bgcolor": "white",
           "lakecolor": "white",
           "landcolor": "#E5ECF6",
           "showlakes": true,
           "showland": true,
           "subunitcolor": "white"
          },
          "hoverlabel": {
           "align": "left"
          },
          "hovermode": "closest",
          "mapbox": {
           "style": "light"
          },
          "paper_bgcolor": "white",
          "plot_bgcolor": "#E5ECF6",
          "polar": {
           "angularaxis": {
            "gridcolor": "white",
            "linecolor": "white",
            "ticks": ""
           },
           "bgcolor": "#E5ECF6",
           "radialaxis": {
            "gridcolor": "white",
            "linecolor": "white",
            "ticks": ""
           }
          },
          "scene": {
           "xaxis": {
            "backgroundcolor": "#E5ECF6",
            "gridcolor": "white",
            "gridwidth": 2,
            "linecolor": "white",
            "showbackground": true,
            "ticks": "",
            "zerolinecolor": "white"
           },
           "yaxis": {
            "backgroundcolor": "#E5ECF6",
            "gridcolor": "white",
            "gridwidth": 2,
            "linecolor": "white",
            "showbackground": true,
            "ticks": "",
            "zerolinecolor": "white"
           },
           "zaxis": {
            "backgroundcolor": "#E5ECF6",
            "gridcolor": "white",
            "gridwidth": 2,
            "linecolor": "white",
            "showbackground": true,
            "ticks": "",
            "zerolinecolor": "white"
           }
          },
          "shapedefaults": {
           "line": {
            "color": "#2a3f5f"
           }
          },
          "ternary": {
           "aaxis": {
            "gridcolor": "white",
            "linecolor": "white",
            "ticks": ""
           },
           "baxis": {
            "gridcolor": "white",
            "linecolor": "white",
            "ticks": ""
           },
           "bgcolor": "#E5ECF6",
           "caxis": {
            "gridcolor": "white",
            "linecolor": "white",
            "ticks": ""
           }
          },
          "title": {
           "x": 0.05
          },
          "xaxis": {
           "automargin": true,
           "gridcolor": "white",
           "linecolor": "white",
           "ticks": "",
           "title": {
            "standoff": 15
           },
           "zerolinecolor": "white",
           "zerolinewidth": 2
          },
          "yaxis": {
           "automargin": true,
           "gridcolor": "white",
           "linecolor": "white",
           "ticks": "",
           "title": {
            "standoff": 15
           },
           "zerolinecolor": "white",
           "zerolinewidth": 2
          }
         }
        },
        "xaxis": {
         "anchor": "y",
         "domain": [
          0,
          1
         ],
         "title": {
          "text": "Fecha"
         }
        },
        "yaxis": {
         "anchor": "x",
         "domain": [
          0,
          1
         ],
         "title": {
          "text": "Fw (%)"
         }
        }
       }
      }
     },
     "metadata": {},
     "output_type": "display_data"
    }
   ],
   "source": [
    "fig4=plotly_express.scatter(asig.query(\"Nombre_del_pozo=='JUJO-6'\"),x='Fecha',y='Fw (%)',trendline='lowess')\n",
    "fig4.show() #graficamos el comportamiento de producción de agua del pozo"
   ]
  },
  {
   "cell_type": "code",
   "execution_count": 60,
   "metadata": {},
   "outputs": [],
   "source": [
    "prod.to_csv('Prod_Asig_Worked.csv',index=False) #para la aplicación usaremos el dataframe trabajado aquí"
   ]
  },
  {
   "cell_type": "code",
   "execution_count": 61,
   "metadata": {},
   "outputs": [
    {
     "data": {
      "text/html": [
       "<div>\n",
       "<style scoped>\n",
       "    .dataframe tbody tr th:only-of-type {\n",
       "        vertical-align: middle;\n",
       "    }\n",
       "\n",
       "    .dataframe tbody tr th {\n",
       "        vertical-align: top;\n",
       "    }\n",
       "\n",
       "    .dataframe thead th {\n",
       "        text-align: right;\n",
       "    }\n",
       "</style>\n",
       "<table border=\"1\" class=\"dataframe\">\n",
       "  <thead>\n",
       "    <tr style=\"text-align: right;\">\n",
       "      <th></th>\n",
       "      <th>Fecha</th>\n",
       "      <th>Nombre_del_pozo</th>\n",
       "      <th>Asignación_o_Contrato</th>\n",
       "      <th>Petróleo_(Mbd)</th>\n",
       "      <th>Gas_asociado_(MMpcd)</th>\n",
       "      <th>Agua_(Mbd)</th>\n",
       "      <th>Año</th>\n",
       "      <th>Mes</th>\n",
       "      <th>Días por mes</th>\n",
       "      <th>Np (MMb)</th>\n",
       "      <th>Gp (MMMpc)</th>\n",
       "      <th>Fw (%)</th>\n",
       "    </tr>\n",
       "  </thead>\n",
       "  <tbody>\n",
       "    <tr>\n",
       "      <th>0</th>\n",
       "      <td>2016-01-01</td>\n",
       "      <td>KU-10</td>\n",
       "      <td>A-0183-4M - CAMPO KU</td>\n",
       "      <td>1.213199</td>\n",
       "      <td>2.265231</td>\n",
       "      <td>0.008647</td>\n",
       "      <td>2016</td>\n",
       "      <td>1</td>\n",
       "      <td>31</td>\n",
       "      <td>0.037609</td>\n",
       "      <td>0.033265</td>\n",
       "      <td>0.007077</td>\n",
       "    </tr>\n",
       "    <tr>\n",
       "      <th>1</th>\n",
       "      <td>2016-01-01</td>\n",
       "      <td>KU-1271</td>\n",
       "      <td>A-0183-4M - CAMPO KU</td>\n",
       "      <td>5.134254</td>\n",
       "      <td>3.737536</td>\n",
       "      <td>0.120498</td>\n",
       "      <td>2016</td>\n",
       "      <td>1</td>\n",
       "      <td>31</td>\n",
       "      <td>0.159162</td>\n",
       "      <td>0.034738</td>\n",
       "      <td>0.022931</td>\n",
       "    </tr>\n",
       "    <tr>\n",
       "      <th>2</th>\n",
       "      <td>2016-01-01</td>\n",
       "      <td>KU-1282</td>\n",
       "      <td>A-0183-4M - CAMPO KU</td>\n",
       "      <td>9.304707</td>\n",
       "      <td>5.375045</td>\n",
       "      <td>0.002058</td>\n",
       "      <td>2016</td>\n",
       "      <td>1</td>\n",
       "      <td>31</td>\n",
       "      <td>0.288446</td>\n",
       "      <td>0.036375</td>\n",
       "      <td>0.000221</td>\n",
       "    </tr>\n",
       "    <tr>\n",
       "      <th>3</th>\n",
       "      <td>2016-01-01</td>\n",
       "      <td>KU-128D</td>\n",
       "      <td>A-0183-4M - CAMPO KU</td>\n",
       "      <td>2.521282</td>\n",
       "      <td>3.098904</td>\n",
       "      <td>0.000000</td>\n",
       "      <td>2016</td>\n",
       "      <td>1</td>\n",
       "      <td>31</td>\n",
       "      <td>0.078160</td>\n",
       "      <td>0.034099</td>\n",
       "      <td>0.000000</td>\n",
       "    </tr>\n",
       "    <tr>\n",
       "      <th>4</th>\n",
       "      <td>2016-01-01</td>\n",
       "      <td>KU-401</td>\n",
       "      <td>A-0183-4M - CAMPO KU</td>\n",
       "      <td>1.029487</td>\n",
       "      <td>0.857156</td>\n",
       "      <td>0.044870</td>\n",
       "      <td>2016</td>\n",
       "      <td>1</td>\n",
       "      <td>31</td>\n",
       "      <td>0.031914</td>\n",
       "      <td>0.031857</td>\n",
       "      <td>0.041765</td>\n",
       "    </tr>\n",
       "    <tr>\n",
       "      <th>...</th>\n",
       "      <td>...</td>\n",
       "      <td>...</td>\n",
       "      <td>...</td>\n",
       "      <td>...</td>\n",
       "      <td>...</td>\n",
       "      <td>...</td>\n",
       "      <td>...</td>\n",
       "      <td>...</td>\n",
       "      <td>...</td>\n",
       "      <td>...</td>\n",
       "      <td>...</td>\n",
       "      <td>...</td>\n",
       "    </tr>\n",
       "    <tr>\n",
       "      <th>156734</th>\n",
       "      <td>2024-01-01</td>\n",
       "      <td>ITTA-87DES</td>\n",
       "      <td>AE-0151-M - UCHUKIL</td>\n",
       "      <td>2.184148</td>\n",
       "      <td>2.060692</td>\n",
       "      <td>0.010326</td>\n",
       "      <td>2024</td>\n",
       "      <td>1</td>\n",
       "      <td>31</td>\n",
       "      <td>0.067709</td>\n",
       "      <td>0.033061</td>\n",
       "      <td>0.004705</td>\n",
       "    </tr>\n",
       "    <tr>\n",
       "      <th>156735</th>\n",
       "      <td>2024-01-01</td>\n",
       "      <td>IRIS-3</td>\n",
       "      <td>A-0144-2M - CAMPO GIRALDAS</td>\n",
       "      <td>0.000000</td>\n",
       "      <td>0.000000</td>\n",
       "      <td>0.048516</td>\n",
       "      <td>2024</td>\n",
       "      <td>1</td>\n",
       "      <td>31</td>\n",
       "      <td>0.000000</td>\n",
       "      <td>0.031000</td>\n",
       "      <td>1.000000</td>\n",
       "    </tr>\n",
       "    <tr>\n",
       "      <th>156736</th>\n",
       "      <td>2024-01-01</td>\n",
       "      <td>ÍRIDE-3124</td>\n",
       "      <td>A-0159-2M - CAMPO IRIDE</td>\n",
       "      <td>0.148307</td>\n",
       "      <td>0.641925</td>\n",
       "      <td>0.657624</td>\n",
       "      <td>2024</td>\n",
       "      <td>1</td>\n",
       "      <td>31</td>\n",
       "      <td>0.004598</td>\n",
       "      <td>0.031642</td>\n",
       "      <td>0.815980</td>\n",
       "    </tr>\n",
       "    <tr>\n",
       "      <th>156737</th>\n",
       "      <td>2024-01-01</td>\n",
       "      <td>ÍRIDE-166</td>\n",
       "      <td>A-0159-2M - CAMPO IRIDE</td>\n",
       "      <td>0.045028</td>\n",
       "      <td>1.864327</td>\n",
       "      <td>0.014691</td>\n",
       "      <td>2024</td>\n",
       "      <td>1</td>\n",
       "      <td>31</td>\n",
       "      <td>0.001396</td>\n",
       "      <td>0.032864</td>\n",
       "      <td>0.246000</td>\n",
       "    </tr>\n",
       "    <tr>\n",
       "      <th>156738</th>\n",
       "      <td>2024-01-01</td>\n",
       "      <td>ÍRIDE-148</td>\n",
       "      <td>A-0159-2M - CAMPO IRIDE</td>\n",
       "      <td>0.060736</td>\n",
       "      <td>0.426793</td>\n",
       "      <td>0.042065</td>\n",
       "      <td>2024</td>\n",
       "      <td>1</td>\n",
       "      <td>31</td>\n",
       "      <td>0.001883</td>\n",
       "      <td>0.031427</td>\n",
       "      <td>0.409191</td>\n",
       "    </tr>\n",
       "  </tbody>\n",
       "</table>\n",
       "<p>156739 rows × 12 columns</p>\n",
       "</div>"
      ],
      "text/plain": [
       "             Fecha Nombre_del_pozo       Asignación_o_Contrato  \\\n",
       "0       2016-01-01           KU-10        A-0183-4M - CAMPO KU   \n",
       "1       2016-01-01         KU-1271        A-0183-4M - CAMPO KU   \n",
       "2       2016-01-01         KU-1282        A-0183-4M - CAMPO KU   \n",
       "3       2016-01-01         KU-128D        A-0183-4M - CAMPO KU   \n",
       "4       2016-01-01          KU-401        A-0183-4M - CAMPO KU   \n",
       "...            ...             ...                         ...   \n",
       "156734  2024-01-01      ITTA-87DES         AE-0151-M - UCHUKIL   \n",
       "156735  2024-01-01          IRIS-3  A-0144-2M - CAMPO GIRALDAS   \n",
       "156736  2024-01-01      ÍRIDE-3124     A-0159-2M - CAMPO IRIDE   \n",
       "156737  2024-01-01       ÍRIDE-166     A-0159-2M - CAMPO IRIDE   \n",
       "156738  2024-01-01       ÍRIDE-148     A-0159-2M - CAMPO IRIDE   \n",
       "\n",
       "        Petróleo_(Mbd)  Gas_asociado_(MMpcd)  Agua_(Mbd)   Año  Mes  \\\n",
       "0             1.213199              2.265231    0.008647  2016    1   \n",
       "1             5.134254              3.737536    0.120498  2016    1   \n",
       "2             9.304707              5.375045    0.002058  2016    1   \n",
       "3             2.521282              3.098904    0.000000  2016    1   \n",
       "4             1.029487              0.857156    0.044870  2016    1   \n",
       "...                ...                   ...         ...   ...  ...   \n",
       "156734        2.184148              2.060692    0.010326  2024    1   \n",
       "156735        0.000000              0.000000    0.048516  2024    1   \n",
       "156736        0.148307              0.641925    0.657624  2024    1   \n",
       "156737        0.045028              1.864327    0.014691  2024    1   \n",
       "156738        0.060736              0.426793    0.042065  2024    1   \n",
       "\n",
       "        Días por mes  Np (MMb)  Gp (MMMpc)    Fw (%)  \n",
       "0                 31  0.037609    0.033265  0.007077  \n",
       "1                 31  0.159162    0.034738  0.022931  \n",
       "2                 31  0.288446    0.036375  0.000221  \n",
       "3                 31  0.078160    0.034099  0.000000  \n",
       "4                 31  0.031914    0.031857  0.041765  \n",
       "...              ...       ...         ...       ...  \n",
       "156734            31  0.067709    0.033061  0.004705  \n",
       "156735            31  0.000000    0.031000  1.000000  \n",
       "156736            31  0.004598    0.031642  0.815980  \n",
       "156737            31  0.001396    0.032864  0.246000  \n",
       "156738            31  0.001883    0.031427  0.409191  \n",
       "\n",
       "[156739 rows x 12 columns]"
      ]
     },
     "execution_count": 61,
     "metadata": {},
     "output_type": "execute_result"
    }
   ],
   "source": [
    "test_prod=pd.read_csv('Prod_Asig_Worked.csv')\n",
    "test_prod #comprobamos una lectura correcta"
   ]
  }
 ],
 "metadata": {
  "kernelspec": {
   "display_name": "prod_RS",
   "language": "python",
   "name": "python3"
  },
  "language_info": {
   "codemirror_mode": {
    "name": "ipython",
    "version": 3
   },
   "file_extension": ".py",
   "mimetype": "text/x-python",
   "name": "python",
   "nbconvert_exporter": "python",
   "pygments_lexer": "ipython3",
   "version": "3.12.2"
  }
 },
 "nbformat": 4,
 "nbformat_minor": 2
}
